{
 "cells": [
  {
   "cell_type": "code",
   "execution_count": 1,
   "metadata": {},
   "outputs": [],
   "source": [
    "import pandas as pd\n",
    "from sklearn.model_selection import train_test_split\n",
    "from sklearn.impute import SimpleImputer\n",
    "from sklearn.preprocessing import StandardScaler, OneHotEncoder, LabelEncoder\n",
    "from sklearn.compose import ColumnTransformer\n",
    "from sklearn.linear_model import LinearRegression\n",
    "import numpy as np\n",
    "import seaborn as sns\n",
    "import matplotlib.pyplot as plt"
   ]
  },
  {
   "cell_type": "code",
   "execution_count": 2,
   "metadata": {},
   "outputs": [],
   "source": [
    "tip = pd.read_csv(\"tip.csv\")"
   ]
  },
  {
   "cell_type": "markdown",
   "metadata": {},
   "source": [
    "## Regression linéaire"
   ]
  },
  {
   "cell_type": "code",
   "execution_count": 3,
   "metadata": {},
   "outputs": [
    {
     "name": "stdout",
     "output_type": "stream",
     "text": [
      "Separating labels from features...\n",
      "...Done.\n",
      "\n"
     ]
    }
   ],
   "source": [
    "print(\"Separating labels from features...\")\n",
    "features_list = [\"Age\", \"Employment_Type\", \"GraduateOrNot\", \"AnnualIncome\", \"FamilyMembers\", \"ChronicDiseases\", \"FrequentFlyer\", \"EverTravelledAbroad\"]\n",
    "X = tip.loc[:,features_list]\n",
    "y = tip.loc[:,\"TravelInsurance\"]\n",
    "print(\"...Done.\")\n",
    "print()"
   ]
  },
  {
   "cell_type": "code",
   "execution_count": 4,
   "metadata": {},
   "outputs": [
    {
     "name": "stdout",
     "output_type": "stream",
     "text": [
      "Splitting dataset into train set and test set...\n",
      "...Done.\n"
     ]
    }
   ],
   "source": [
    "print(\"Splitting dataset into train set and test set...\")\n",
    "X_train, X_test, y_train, y_test = train_test_split(X, y, \n",
    "                                                    test_size=0.2, \n",
    "                                                    random_state=0)\n",
    "print(\"...Done.\")"
   ]
  },
  {
   "cell_type": "code",
   "execution_count": 5,
   "metadata": {},
   "outputs": [
    {
     "name": "stdout",
     "output_type": "stream",
     "text": [
      "#### X_train BEFORE preprocessing ####\n",
      "      Age               Employment_Type GraduateOrNot  AnnualIncome  \\\n",
      "159    27             Government Sector           Yes        900000   \n",
      "799    31             Government Sector           Yes       1200000   \n",
      "318    34             Government Sector           Yes       1100000   \n",
      "1399   25  Private Sector/Self Employed            No        600000   \n",
      "465    26  Private Sector/Self Employed           Yes       1500000   \n",
      "\n",
      "      FamilyMembers  ChronicDiseases FrequentFlyer EverTravelledAbroad  \n",
      "159               7                1            No                  No  \n",
      "799               3                0            No                  No  \n",
      "318               3                0            No                  No  \n",
      "1399              3                1            No                  No  \n",
      "465               5                0           Yes                 Yes  \n",
      "\n",
      "Encoding categorical features and standardizing numerical features...\n",
      "\n",
      "...Done.\n",
      "#### X_train AFTER preprocessing ####\n",
      "[[ 1.          0.          0.          1.          1.          0.\n",
      "   1.          0.         -0.90922885 -0.05365604  1.38182856  1.6083866 ]\n",
      " [ 1.          0.          0.          1.          1.          0.\n",
      "   1.          0.          0.45762512  0.7456513  -1.1034296  -0.62174107]\n",
      " [ 1.          0.          0.          1.          1.          0.\n",
      "   1.          0.          1.48276559  0.47921552 -1.1034296  -0.62174107]\n",
      " [ 0.          1.          1.          0.          1.          0.\n",
      "   1.          0.         -1.59265584 -0.85296338 -1.1034296   1.6083866 ]\n",
      " [ 0.          1.          0.          1.          0.          1.\n",
      "   0.          1.         -1.25094234  1.54495864  0.13919948 -0.62174107]]\n",
      "\n"
     ]
    }
   ],
   "source": [
    "print(\"#### X_train BEFORE preprocessing ####\")\n",
    "print(X_train.head())\n",
    "print()\n",
    "print(\"Encoding categorical features and standardizing numerical features...\")\n",
    "print()\n",
    "\n",
    "numeric_features = [0,3,4,5]\n",
    "numeric_transformer = StandardScaler()\n",
    "\n",
    "categorical_features = [1,2,6,7] \n",
    "categorical_transformer = OneHotEncoder()\n",
    "\n",
    "featureencoder = ColumnTransformer(\n",
    "    transformers=[\n",
    "        ('cat', categorical_transformer, categorical_features),         \n",
    "        ('num', numeric_transformer, numeric_features)\n",
    "        ]\n",
    "    )\n",
    "\n",
    "X_train = featureencoder.fit_transform(X_train)\n",
    "print(\"...Done.\")\n",
    "print(\"#### X_train AFTER preprocessing ####\")\n",
    "print(X_train[0:5,:]) # print first 5 rows (not using iloc since now X_train became a numpy array)\n",
    "print()"
   ]
  },
  {
   "cell_type": "code",
   "execution_count": 6,
   "metadata": {},
   "outputs": [
    {
     "name": "stdout",
     "output_type": "stream",
     "text": [
      "Train model...\n",
      "...Done.\n"
     ]
    }
   ],
   "source": [
    "    print(\"Train model...\")\n",
    "    regressor = LinearRegression()\n",
    "    regressor.fit(X_train, y_train) # This steps is the actual training !\n",
    "    print(\"...Done.\")"
   ]
  },
  {
   "cell_type": "code",
   "execution_count": 7,
   "metadata": {},
   "outputs": [
    {
     "name": "stdout",
     "output_type": "stream",
     "text": [
      "--- Testing pipeline ---\n",
      "Standardizing numerical features...\n",
      "      Age               Employment_Type GraduateOrNot  AnnualIncome  \\\n",
      "1291   34  Private Sector/Self Employed           Yes       1500000   \n",
      "1199   28             Government Sector           Yes       1200000   \n",
      "1756   29  Private Sector/Self Employed           Yes        900000   \n",
      "107    34  Private Sector/Self Employed           Yes        850000   \n",
      "655    28  Private Sector/Self Employed           Yes        700000   \n",
      "...   ...                           ...           ...           ...   \n",
      "360    28  Private Sector/Self Employed            No        550000   \n",
      "1799   26             Government Sector           Yes       1450000   \n",
      "987    33  Private Sector/Self Employed           Yes       1400000   \n",
      "692    31             Government Sector            No        300000   \n",
      "1493   32             Government Sector           Yes        900000   \n",
      "\n",
      "      FamilyMembers  ChronicDiseases FrequentFlyer EverTravelledAbroad  \n",
      "1291              5                1           Yes                 Yes  \n",
      "1199              7                1            No                  No  \n",
      "1756              3                0            No                  No  \n",
      "107               3                1            No                 Yes  \n",
      "655               4                0            No                  No  \n",
      "...             ...              ...           ...                 ...  \n",
      "360               4                0            No                  No  \n",
      "1799              3                0           Yes                 Yes  \n",
      "987               2                1            No                 Yes  \n",
      "692               6                0            No                  No  \n",
      "1493              6                1            No                  No  \n",
      "\n",
      "[398 rows x 8 columns]\n",
      "\n",
      "...Done.\n",
      "[[ 0.          1.          0.          1.          0.          1.\n",
      "   0.          1.          1.48276559  1.54495864  0.13919948  1.6083866 ]\n",
      " [ 1.          0.          0.          1.          1.          0.\n",
      "   1.          0.         -0.56751536  0.7456513   1.38182856  1.6083866 ]\n",
      " [ 0.          1.          0.          1.          1.          0.\n",
      "   1.          0.         -0.22580187 -0.05365604 -1.1034296  -0.62174107]\n",
      " [ 0.          1.          0.          1.          1.          0.\n",
      "   0.          1.          1.48276559 -0.18687393 -1.1034296   1.6083866 ]\n",
      " [ 0.          1.          0.          1.          1.          0.\n",
      "   1.          0.         -0.56751536 -0.5865276  -0.48211506 -0.62174107]]\n",
      "\n",
      "Predictions on test set...\n",
      "...Done.\n",
      "[0.96239802 0.37513241 0.20092123 0.65389106 0.16704893]\n",
      "\n"
     ]
    }
   ],
   "source": [
    "print(\"--- Testing pipeline ---\")\n",
    "\n",
    "# Standardizing numeric features\n",
    "print(\"Standardizing numerical features...\")\n",
    "print(X_test)\n",
    "print()\n",
    "\n",
    "X_test = featureencoder.transform(X_test)\n",
    "\n",
    "print(\"...Done.\")\n",
    "print(X_test[:5]) # print first 5 rows (not using iloc since now X_test became a numpy array)\n",
    "print()\n",
    "\n",
    "# Predictions on test set\n",
    "print(\"Predictions on test set...\")\n",
    "y_test_pred = regressor.predict(X_test)\n",
    "print(\"...Done.\")\n",
    "print(y_test_pred[:5])\n",
    "print()"
   ]
  },
  {
   "cell_type": "code",
   "execution_count": 8,
   "metadata": {},
   "outputs": [
    {
     "name": "stdout",
     "output_type": "stream",
     "text": [
      "--- Assessing the performances of the model ---\n",
      "R2 score on training set :  0.2491294073264254\n",
      "R2 score on test set :  0.254404272380789\n"
     ]
    }
   ],
   "source": [
    "# Performance assessment\n",
    "print(\"--- Assessing the performances of the model ---\")\n",
    "\n",
    "# Print R^2 scores\n",
    "print(\"R2 score on training set : \", regressor.score(X_train, y_train))\n",
    "print(\"R2 score on test set : \", regressor.score(X_test, y_test))"
   ]
  },
  {
   "cell_type": "code",
   "execution_count": null,
   "metadata": {},
   "outputs": [],
   "source": []
  }
 ],
 "metadata": {
  "kernelspec": {
   "display_name": "base",
   "language": "python",
   "name": "python3"
  },
  "language_info": {
   "codemirror_mode": {
    "name": "ipython",
    "version": 3
   },
   "file_extension": ".py",
   "mimetype": "text/x-python",
   "name": "python",
   "nbconvert_exporter": "python",
   "pygments_lexer": "ipython3",
   "version": "3.11.7"
  }
 },
 "nbformat": 4,
 "nbformat_minor": 2
}
