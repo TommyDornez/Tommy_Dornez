{
 "cells": [
  {
   "cell_type": "markdown",
   "metadata": {},
   "source": [
    "# Importation des différentes bibliothèques"
   ]
  },
  {
   "cell_type": "code",
   "execution_count": 48,
   "metadata": {},
   "outputs": [],
   "source": [
    "import pandas as pd\n",
    "import numpy as np # Not always necessary\n",
    "import matplotlib.pyplot as plt # Not always necessary\n",
    "import seaborn as sns # Not always necessary\n",
    "from sklearn.model_selection import train_test_split\n",
    "from sklearn.preprocessing import StandardScaler, OneHotEncoder\n",
    "from sklearn.compose import ColumnTransformer\n",
    "from sklearn.linear_model import LogisticRegression\n",
    "from sklearn.tree import DecisionTreeClassifier\n",
    "from sklearn.ensemble import RandomForestClassifier\n",
    "from sklearn.metrics import confusion_matrix, ConfusionMatrixDisplay\n",
    "from sklearn.linear_model import LinearRegression\n",
    "from sklearn.tree import plot_tree\n",
    "import plotly.express as px\n"
   ]
  },
  {
   "cell_type": "markdown",
   "metadata": {},
   "source": [
    "# Phase d'exploration"
   ]
  },
  {
   "cell_type": "code",
   "execution_count": 27,
   "metadata": {},
   "outputs": [
    {
     "data": {
      "text/html": [
       "<div>\n",
       "<style scoped>\n",
       "    .dataframe tbody tr th:only-of-type {\n",
       "        vertical-align: middle;\n",
       "    }\n",
       "\n",
       "    .dataframe tbody tr th {\n",
       "        vertical-align: top;\n",
       "    }\n",
       "\n",
       "    .dataframe thead th {\n",
       "        text-align: right;\n",
       "    }\n",
       "</style>\n",
       "<table border=\"1\" class=\"dataframe\">\n",
       "  <thead>\n",
       "    <tr style=\"text-align: right;\">\n",
       "      <th></th>\n",
       "      <th>Unnamed: 0</th>\n",
       "      <th>Age</th>\n",
       "      <th>Employment_Type</th>\n",
       "      <th>GraduateOrNot</th>\n",
       "      <th>AnnualIncome</th>\n",
       "      <th>FamilyMembers</th>\n",
       "      <th>ChronicDiseases</th>\n",
       "      <th>FrequentFlyer</th>\n",
       "      <th>EverTravelledAbroad</th>\n",
       "      <th>TravelInsurance</th>\n",
       "    </tr>\n",
       "  </thead>\n",
       "  <tbody>\n",
       "    <tr>\n",
       "      <th>0</th>\n",
       "      <td>0</td>\n",
       "      <td>31</td>\n",
       "      <td>Government Sector</td>\n",
       "      <td>Yes</td>\n",
       "      <td>400000</td>\n",
       "      <td>6</td>\n",
       "      <td>1</td>\n",
       "      <td>No</td>\n",
       "      <td>No</td>\n",
       "      <td>0</td>\n",
       "    </tr>\n",
       "    <tr>\n",
       "      <th>1</th>\n",
       "      <td>1</td>\n",
       "      <td>31</td>\n",
       "      <td>Private Sector/Self Employed</td>\n",
       "      <td>Yes</td>\n",
       "      <td>1250000</td>\n",
       "      <td>7</td>\n",
       "      <td>0</td>\n",
       "      <td>No</td>\n",
       "      <td>No</td>\n",
       "      <td>0</td>\n",
       "    </tr>\n",
       "    <tr>\n",
       "      <th>2</th>\n",
       "      <td>2</td>\n",
       "      <td>34</td>\n",
       "      <td>Private Sector/Self Employed</td>\n",
       "      <td>Yes</td>\n",
       "      <td>500000</td>\n",
       "      <td>4</td>\n",
       "      <td>1</td>\n",
       "      <td>No</td>\n",
       "      <td>No</td>\n",
       "      <td>1</td>\n",
       "    </tr>\n",
       "    <tr>\n",
       "      <th>3</th>\n",
       "      <td>3</td>\n",
       "      <td>28</td>\n",
       "      <td>Private Sector/Self Employed</td>\n",
       "      <td>Yes</td>\n",
       "      <td>700000</td>\n",
       "      <td>3</td>\n",
       "      <td>1</td>\n",
       "      <td>No</td>\n",
       "      <td>No</td>\n",
       "      <td>0</td>\n",
       "    </tr>\n",
       "    <tr>\n",
       "      <th>4</th>\n",
       "      <td>4</td>\n",
       "      <td>28</td>\n",
       "      <td>Private Sector/Self Employed</td>\n",
       "      <td>Yes</td>\n",
       "      <td>700000</td>\n",
       "      <td>8</td>\n",
       "      <td>1</td>\n",
       "      <td>Yes</td>\n",
       "      <td>No</td>\n",
       "      <td>0</td>\n",
       "    </tr>\n",
       "  </tbody>\n",
       "</table>\n",
       "</div>"
      ],
      "text/plain": [
       "   Unnamed: 0  Age               Employment_Type GraduateOrNot  AnnualIncome  \\\n",
       "0           0   31             Government Sector           Yes        400000   \n",
       "1           1   31  Private Sector/Self Employed           Yes       1250000   \n",
       "2           2   34  Private Sector/Self Employed           Yes        500000   \n",
       "3           3   28  Private Sector/Self Employed           Yes        700000   \n",
       "4           4   28  Private Sector/Self Employed           Yes        700000   \n",
       "\n",
       "   FamilyMembers  ChronicDiseases FrequentFlyer EverTravelledAbroad  \\\n",
       "0              6                1            No                  No   \n",
       "1              7                0            No                  No   \n",
       "2              4                1            No                  No   \n",
       "3              3                1            No                  No   \n",
       "4              8                1           Yes                  No   \n",
       "\n",
       "   TravelInsurance  \n",
       "0                0  \n",
       "1                0  \n",
       "2                1  \n",
       "3                0  \n",
       "4                0  "
      ]
     },
     "execution_count": 27,
     "metadata": {},
     "output_type": "execute_result"
    }
   ],
   "source": [
    "##Importation du Dataset\n",
    "tip = pd.read_csv(\"tip.csv\")\n",
    "\n",
    "##Visualisation du Dataset\n",
    "tip.head()"
   ]
  },
  {
   "cell_type": "code",
   "execution_count": 28,
   "metadata": {},
   "outputs": [
    {
     "data": {
      "text/html": [
       "<div>\n",
       "<style scoped>\n",
       "    .dataframe tbody tr th:only-of-type {\n",
       "        vertical-align: middle;\n",
       "    }\n",
       "\n",
       "    .dataframe tbody tr th {\n",
       "        vertical-align: top;\n",
       "    }\n",
       "\n",
       "    .dataframe thead th {\n",
       "        text-align: right;\n",
       "    }\n",
       "</style>\n",
       "<table border=\"1\" class=\"dataframe\">\n",
       "  <thead>\n",
       "    <tr style=\"text-align: right;\">\n",
       "      <th></th>\n",
       "      <th>Unnamed: 0</th>\n",
       "      <th>Age</th>\n",
       "      <th>AnnualIncome</th>\n",
       "      <th>FamilyMembers</th>\n",
       "      <th>ChronicDiseases</th>\n",
       "      <th>TravelInsurance</th>\n",
       "    </tr>\n",
       "  </thead>\n",
       "  <tbody>\n",
       "    <tr>\n",
       "      <th>count</th>\n",
       "      <td>1987.000000</td>\n",
       "      <td>1987.000000</td>\n",
       "      <td>1.987000e+03</td>\n",
       "      <td>1987.000000</td>\n",
       "      <td>1987.000000</td>\n",
       "      <td>1987.000000</td>\n",
       "    </tr>\n",
       "    <tr>\n",
       "      <th>mean</th>\n",
       "      <td>993.000000</td>\n",
       "      <td>29.650226</td>\n",
       "      <td>9.327630e+05</td>\n",
       "      <td>4.752894</td>\n",
       "      <td>0.277806</td>\n",
       "      <td>0.357323</td>\n",
       "    </tr>\n",
       "    <tr>\n",
       "      <th>std</th>\n",
       "      <td>573.741812</td>\n",
       "      <td>2.913308</td>\n",
       "      <td>3.768557e+05</td>\n",
       "      <td>1.609650</td>\n",
       "      <td>0.448030</td>\n",
       "      <td>0.479332</td>\n",
       "    </tr>\n",
       "    <tr>\n",
       "      <th>min</th>\n",
       "      <td>0.000000</td>\n",
       "      <td>25.000000</td>\n",
       "      <td>3.000000e+05</td>\n",
       "      <td>2.000000</td>\n",
       "      <td>0.000000</td>\n",
       "      <td>0.000000</td>\n",
       "    </tr>\n",
       "    <tr>\n",
       "      <th>25%</th>\n",
       "      <td>496.500000</td>\n",
       "      <td>28.000000</td>\n",
       "      <td>6.000000e+05</td>\n",
       "      <td>4.000000</td>\n",
       "      <td>0.000000</td>\n",
       "      <td>0.000000</td>\n",
       "    </tr>\n",
       "    <tr>\n",
       "      <th>50%</th>\n",
       "      <td>993.000000</td>\n",
       "      <td>29.000000</td>\n",
       "      <td>9.000000e+05</td>\n",
       "      <td>5.000000</td>\n",
       "      <td>0.000000</td>\n",
       "      <td>0.000000</td>\n",
       "    </tr>\n",
       "    <tr>\n",
       "      <th>75%</th>\n",
       "      <td>1489.500000</td>\n",
       "      <td>32.000000</td>\n",
       "      <td>1.250000e+06</td>\n",
       "      <td>6.000000</td>\n",
       "      <td>1.000000</td>\n",
       "      <td>1.000000</td>\n",
       "    </tr>\n",
       "    <tr>\n",
       "      <th>max</th>\n",
       "      <td>1986.000000</td>\n",
       "      <td>35.000000</td>\n",
       "      <td>1.800000e+06</td>\n",
       "      <td>9.000000</td>\n",
       "      <td>1.000000</td>\n",
       "      <td>1.000000</td>\n",
       "    </tr>\n",
       "  </tbody>\n",
       "</table>\n",
       "</div>"
      ],
      "text/plain": [
       "        Unnamed: 0          Age  AnnualIncome  FamilyMembers  ChronicDiseases  \\\n",
       "count  1987.000000  1987.000000  1.987000e+03    1987.000000      1987.000000   \n",
       "mean    993.000000    29.650226  9.327630e+05       4.752894         0.277806   \n",
       "std     573.741812     2.913308  3.768557e+05       1.609650         0.448030   \n",
       "min       0.000000    25.000000  3.000000e+05       2.000000         0.000000   \n",
       "25%     496.500000    28.000000  6.000000e+05       4.000000         0.000000   \n",
       "50%     993.000000    29.000000  9.000000e+05       5.000000         0.000000   \n",
       "75%    1489.500000    32.000000  1.250000e+06       6.000000         1.000000   \n",
       "max    1986.000000    35.000000  1.800000e+06       9.000000         1.000000   \n",
       "\n",
       "       TravelInsurance  \n",
       "count      1987.000000  \n",
       "mean          0.357323  \n",
       "std           0.479332  \n",
       "min           0.000000  \n",
       "25%           0.000000  \n",
       "50%           0.000000  \n",
       "75%           1.000000  \n",
       "max           1.000000  "
      ]
     },
     "execution_count": 28,
     "metadata": {},
     "output_type": "execute_result"
    }
   ],
   "source": [
    "##Visualisation des statistiques principale du Dataset\n",
    "tip.describe()"
   ]
  },
  {
   "cell_type": "code",
   "execution_count": 29,
   "metadata": {},
   "outputs": [
    {
     "data": {
      "text/plain": [
       "Index(['Unnamed: 0', 'Age', 'Employment_Type', 'GraduateOrNot', 'AnnualIncome',\n",
       "       'FamilyMembers', 'ChronicDiseases', 'FrequentFlyer',\n",
       "       'EverTravelledAbroad', 'TravelInsurance'],\n",
       "      dtype='object')"
      ]
     },
     "execution_count": 29,
     "metadata": {},
     "output_type": "execute_result"
    }
   ],
   "source": [
    "##Visualisation du nom des colonnes\n",
    "tip.columns"
   ]
  },
  {
   "cell_type": "code",
   "execution_count": 30,
   "metadata": {},
   "outputs": [
    {
     "data": {
      "text/plain": [
       "Unnamed: 0             False\n",
       "Age                    False\n",
       "Employment_Type        False\n",
       "GraduateOrNot          False\n",
       "AnnualIncome           False\n",
       "FamilyMembers          False\n",
       "ChronicDiseases        False\n",
       "FrequentFlyer          False\n",
       "EverTravelledAbroad    False\n",
       "TravelInsurance        False\n",
       "dtype: bool"
      ]
     },
     "execution_count": 30,
     "metadata": {},
     "output_type": "execute_result"
    }
   ],
   "source": [
    "##Recherche si des valeurs sont manquantes\n",
    "\n",
    "tip.isnull().any()"
   ]
  },
  {
   "cell_type": "code",
   "execution_count": 31,
   "metadata": {},
   "outputs": [
    {
     "name": "stdout",
     "output_type": "stream",
     "text": [
      "<class 'pandas.core.frame.DataFrame'>\n",
      "RangeIndex: 1987 entries, 0 to 1986\n",
      "Data columns (total 10 columns):\n",
      " #   Column               Non-Null Count  Dtype \n",
      "---  ------               --------------  ----- \n",
      " 0   Unnamed: 0           1987 non-null   int64 \n",
      " 1   Age                  1987 non-null   int64 \n",
      " 2   Employment_Type      1987 non-null   object\n",
      " 3   GraduateOrNot        1987 non-null   object\n",
      " 4   AnnualIncome         1987 non-null   int64 \n",
      " 5   FamilyMembers        1987 non-null   int64 \n",
      " 6   ChronicDiseases      1987 non-null   int64 \n",
      " 7   FrequentFlyer        1987 non-null   object\n",
      " 8   EverTravelledAbroad  1987 non-null   object\n",
      " 9   TravelInsurance      1987 non-null   int64 \n",
      "dtypes: int64(6), object(4)\n",
      "memory usage: 155.4+ KB\n"
     ]
    }
   ],
   "source": [
    "##Visualisation des différentes informations de l'ensemble de données, comme le type de données (numérique, catégorielle), colonne \"Dtype\" comme les valeurs manquantes, colonne \"Non-Null Count\"\n",
    "\n",
    "tip.info()"
   ]
  },
  {
   "cell_type": "code",
   "execution_count": 32,
   "metadata": {},
   "outputs": [
    {
     "data": {
      "text/html": [
       "<div>\n",
       "<style scoped>\n",
       "    .dataframe tbody tr th:only-of-type {\n",
       "        vertical-align: middle;\n",
       "    }\n",
       "\n",
       "    .dataframe tbody tr th {\n",
       "        vertical-align: top;\n",
       "    }\n",
       "\n",
       "    .dataframe thead th {\n",
       "        text-align: right;\n",
       "    }\n",
       "</style>\n",
       "<table border=\"1\" class=\"dataframe\">\n",
       "  <thead>\n",
       "    <tr style=\"text-align: right;\">\n",
       "      <th></th>\n",
       "      <th>Unnamed: 0</th>\n",
       "      <th>Age</th>\n",
       "      <th>Employment_Type</th>\n",
       "      <th>GraduateOrNot</th>\n",
       "      <th>AnnualIncome</th>\n",
       "      <th>FamilyMembers</th>\n",
       "      <th>ChronicDiseases</th>\n",
       "      <th>FrequentFlyer</th>\n",
       "      <th>EverTravelledAbroad</th>\n",
       "      <th>TravelInsurance</th>\n",
       "    </tr>\n",
       "  </thead>\n",
       "  <tbody>\n",
       "  </tbody>\n",
       "</table>\n",
       "</div>"
      ],
      "text/plain": [
       "Empty DataFrame\n",
       "Columns: [Unnamed: 0, Age, Employment_Type, GraduateOrNot, AnnualIncome, FamilyMembers, ChronicDiseases, FrequentFlyer, EverTravelledAbroad, TravelInsurance]\n",
       "Index: []"
      ]
     },
     "execution_count": 32,
     "metadata": {},
     "output_type": "execute_result"
    }
   ],
   "source": [
    "##Recherche et visualisation des éventuels doublons\n",
    "\n",
    "duplicateRows = tip[tip.duplicated()]  #recherche#\n",
    "duplicateRows  #visualisation#"
   ]
  },
  {
   "cell_type": "markdown",
   "metadata": {},
   "source": [
    "# Phase de cleaning"
   ]
  },
  {
   "cell_type": "code",
   "execution_count": 33,
   "metadata": {},
   "outputs": [
    {
     "data": {
      "text/html": [
       "<div>\n",
       "<style scoped>\n",
       "    .dataframe tbody tr th:only-of-type {\n",
       "        vertical-align: middle;\n",
       "    }\n",
       "\n",
       "    .dataframe tbody tr th {\n",
       "        vertical-align: top;\n",
       "    }\n",
       "\n",
       "    .dataframe thead th {\n",
       "        text-align: right;\n",
       "    }\n",
       "</style>\n",
       "<table border=\"1\" class=\"dataframe\">\n",
       "  <thead>\n",
       "    <tr style=\"text-align: right;\">\n",
       "      <th></th>\n",
       "      <th>Age</th>\n",
       "      <th>Employment_Type</th>\n",
       "      <th>GraduateOrNot</th>\n",
       "      <th>AnnualIncome</th>\n",
       "      <th>FamilyMembers</th>\n",
       "      <th>ChronicDiseases</th>\n",
       "      <th>FrequentFlyer</th>\n",
       "      <th>EverTravelledAbroad</th>\n",
       "      <th>TravelInsurance</th>\n",
       "    </tr>\n",
       "  </thead>\n",
       "  <tbody>\n",
       "    <tr>\n",
       "      <th>0</th>\n",
       "      <td>31</td>\n",
       "      <td>Government Sector</td>\n",
       "      <td>Yes</td>\n",
       "      <td>400000</td>\n",
       "      <td>6</td>\n",
       "      <td>1</td>\n",
       "      <td>No</td>\n",
       "      <td>No</td>\n",
       "      <td>0</td>\n",
       "    </tr>\n",
       "    <tr>\n",
       "      <th>1</th>\n",
       "      <td>31</td>\n",
       "      <td>Private Sector/Self Employed</td>\n",
       "      <td>Yes</td>\n",
       "      <td>1250000</td>\n",
       "      <td>7</td>\n",
       "      <td>0</td>\n",
       "      <td>No</td>\n",
       "      <td>No</td>\n",
       "      <td>0</td>\n",
       "    </tr>\n",
       "    <tr>\n",
       "      <th>2</th>\n",
       "      <td>34</td>\n",
       "      <td>Private Sector/Self Employed</td>\n",
       "      <td>Yes</td>\n",
       "      <td>500000</td>\n",
       "      <td>4</td>\n",
       "      <td>1</td>\n",
       "      <td>No</td>\n",
       "      <td>No</td>\n",
       "      <td>1</td>\n",
       "    </tr>\n",
       "    <tr>\n",
       "      <th>3</th>\n",
       "      <td>28</td>\n",
       "      <td>Private Sector/Self Employed</td>\n",
       "      <td>Yes</td>\n",
       "      <td>700000</td>\n",
       "      <td>3</td>\n",
       "      <td>1</td>\n",
       "      <td>No</td>\n",
       "      <td>No</td>\n",
       "      <td>0</td>\n",
       "    </tr>\n",
       "    <tr>\n",
       "      <th>4</th>\n",
       "      <td>28</td>\n",
       "      <td>Private Sector/Self Employed</td>\n",
       "      <td>Yes</td>\n",
       "      <td>700000</td>\n",
       "      <td>8</td>\n",
       "      <td>1</td>\n",
       "      <td>Yes</td>\n",
       "      <td>No</td>\n",
       "      <td>0</td>\n",
       "    </tr>\n",
       "  </tbody>\n",
       "</table>\n",
       "</div>"
      ],
      "text/plain": [
       "   Age               Employment_Type GraduateOrNot  AnnualIncome  \\\n",
       "0   31             Government Sector           Yes        400000   \n",
       "1   31  Private Sector/Self Employed           Yes       1250000   \n",
       "2   34  Private Sector/Self Employed           Yes        500000   \n",
       "3   28  Private Sector/Self Employed           Yes        700000   \n",
       "4   28  Private Sector/Self Employed           Yes        700000   \n",
       "\n",
       "   FamilyMembers  ChronicDiseases FrequentFlyer EverTravelledAbroad  \\\n",
       "0              6                1            No                  No   \n",
       "1              7                0            No                  No   \n",
       "2              4                1            No                  No   \n",
       "3              3                1            No                  No   \n",
       "4              8                1           Yes                  No   \n",
       "\n",
       "   TravelInsurance  \n",
       "0                0  \n",
       "1                0  \n",
       "2                1  \n",
       "3                0  \n",
       "4                0  "
      ]
     },
     "execution_count": 33,
     "metadata": {},
     "output_type": "execute_result"
    }
   ],
   "source": [
    "##Suppression de la 1ere colonne \"Unnamed: 0\" qui n'apporte aucune info##\n",
    "tip = tip.drop(\"Unnamed: 0\", axis=1)\n",
    "\n",
    "##Visualisation du Dataset après suppression de la colonne##\n",
    "tip.head()"
   ]
  },
  {
   "cell_type": "code",
   "execution_count": 34,
   "metadata": {},
   "outputs": [
    {
     "data": {
      "text/html": [
       "<div>\n",
       "<style scoped>\n",
       "    .dataframe tbody tr th:only-of-type {\n",
       "        vertical-align: middle;\n",
       "    }\n",
       "\n",
       "    .dataframe tbody tr th {\n",
       "        vertical-align: top;\n",
       "    }\n",
       "\n",
       "    .dataframe thead th {\n",
       "        text-align: right;\n",
       "    }\n",
       "</style>\n",
       "<table border=\"1\" class=\"dataframe\">\n",
       "  <thead>\n",
       "    <tr style=\"text-align: right;\">\n",
       "      <th></th>\n",
       "      <th>Age</th>\n",
       "      <th>Employment_Type</th>\n",
       "      <th>GraduateOrNot</th>\n",
       "      <th>AnnualIncome</th>\n",
       "      <th>FamilyMembers</th>\n",
       "      <th>ChronicDiseases</th>\n",
       "      <th>FrequentFlyer</th>\n",
       "      <th>EverTravelledAbroad</th>\n",
       "      <th>TravelInsurance</th>\n",
       "    </tr>\n",
       "  </thead>\n",
       "  <tbody>\n",
       "    <tr>\n",
       "      <th>0</th>\n",
       "      <td>31</td>\n",
       "      <td>Government Sector</td>\n",
       "      <td>Yes</td>\n",
       "      <td>4829.751268</td>\n",
       "      <td>6</td>\n",
       "      <td>1</td>\n",
       "      <td>No</td>\n",
       "      <td>No</td>\n",
       "      <td>0</td>\n",
       "    </tr>\n",
       "    <tr>\n",
       "      <th>1</th>\n",
       "      <td>31</td>\n",
       "      <td>Private Sector/Self Employed</td>\n",
       "      <td>Yes</td>\n",
       "      <td>15092.972712</td>\n",
       "      <td>7</td>\n",
       "      <td>0</td>\n",
       "      <td>No</td>\n",
       "      <td>No</td>\n",
       "      <td>0</td>\n",
       "    </tr>\n",
       "    <tr>\n",
       "      <th>2</th>\n",
       "      <td>34</td>\n",
       "      <td>Private Sector/Self Employed</td>\n",
       "      <td>Yes</td>\n",
       "      <td>6037.189085</td>\n",
       "      <td>4</td>\n",
       "      <td>1</td>\n",
       "      <td>No</td>\n",
       "      <td>No</td>\n",
       "      <td>1</td>\n",
       "    </tr>\n",
       "    <tr>\n",
       "      <th>3</th>\n",
       "      <td>28</td>\n",
       "      <td>Private Sector/Self Employed</td>\n",
       "      <td>Yes</td>\n",
       "      <td>8452.064719</td>\n",
       "      <td>3</td>\n",
       "      <td>1</td>\n",
       "      <td>No</td>\n",
       "      <td>No</td>\n",
       "      <td>0</td>\n",
       "    </tr>\n",
       "    <tr>\n",
       "      <th>4</th>\n",
       "      <td>28</td>\n",
       "      <td>Private Sector/Self Employed</td>\n",
       "      <td>Yes</td>\n",
       "      <td>8452.064719</td>\n",
       "      <td>8</td>\n",
       "      <td>1</td>\n",
       "      <td>Yes</td>\n",
       "      <td>No</td>\n",
       "      <td>0</td>\n",
       "    </tr>\n",
       "  </tbody>\n",
       "</table>\n",
       "</div>"
      ],
      "text/plain": [
       "   Age               Employment_Type GraduateOrNot  AnnualIncome  \\\n",
       "0   31             Government Sector           Yes   4829.751268   \n",
       "1   31  Private Sector/Self Employed           Yes  15092.972712   \n",
       "2   34  Private Sector/Self Employed           Yes   6037.189085   \n",
       "3   28  Private Sector/Self Employed           Yes   8452.064719   \n",
       "4   28  Private Sector/Self Employed           Yes   8452.064719   \n",
       "\n",
       "   FamilyMembers  ChronicDiseases FrequentFlyer EverTravelledAbroad  \\\n",
       "0              6                1            No                  No   \n",
       "1              7                0            No                  No   \n",
       "2              4                1            No                  No   \n",
       "3              3                1            No                  No   \n",
       "4              8                1           Yes                  No   \n",
       "\n",
       "   TravelInsurance  \n",
       "0                0  \n",
       "1                0  \n",
       "2                1  \n",
       "3                0  \n",
       "4                0  "
      ]
     },
     "execution_count": 34,
     "metadata": {},
     "output_type": "execute_result"
    }
   ],
   "source": [
    "##La colonne AnnualIncome étant en Roupies, conversion en Dollar\n",
    "#Pour diviser les valeurs d'une colonne par un nombre\n",
    "#(ici Roupies en Dollars / valeur arrétee au 13/03 = 82.82roupies=1dollar)\n",
    "tip['AnnualIncome'] = tip['AnnualIncome'] / 82.82\n",
    "\n",
    "##Visualisation du Dataset après changement de devise\n",
    "tip.head()"
   ]
  },
  {
   "cell_type": "code",
   "execution_count": 35,
   "metadata": {},
   "outputs": [
    {
     "data": {
      "text/html": [
       "<div>\n",
       "<style scoped>\n",
       "    .dataframe tbody tr th:only-of-type {\n",
       "        vertical-align: middle;\n",
       "    }\n",
       "\n",
       "    .dataframe tbody tr th {\n",
       "        vertical-align: top;\n",
       "    }\n",
       "\n",
       "    .dataframe thead th {\n",
       "        text-align: right;\n",
       "    }\n",
       "</style>\n",
       "<table border=\"1\" class=\"dataframe\">\n",
       "  <thead>\n",
       "    <tr style=\"text-align: right;\">\n",
       "      <th></th>\n",
       "      <th>Age</th>\n",
       "      <th>Employment_Type</th>\n",
       "      <th>GraduateOrNot</th>\n",
       "      <th>AnnualIncome</th>\n",
       "      <th>FamilyMembers</th>\n",
       "      <th>ChronicDiseases</th>\n",
       "      <th>FrequentFlyer</th>\n",
       "      <th>EverTravelledAbroad</th>\n",
       "      <th>TravelInsurance</th>\n",
       "    </tr>\n",
       "  </thead>\n",
       "  <tbody>\n",
       "    <tr>\n",
       "      <th>0</th>\n",
       "      <td>31</td>\n",
       "      <td>Government Sector</td>\n",
       "      <td>Yes</td>\n",
       "      <td>4829.75</td>\n",
       "      <td>6</td>\n",
       "      <td>1</td>\n",
       "      <td>No</td>\n",
       "      <td>No</td>\n",
       "      <td>0</td>\n",
       "    </tr>\n",
       "    <tr>\n",
       "      <th>1</th>\n",
       "      <td>31</td>\n",
       "      <td>Private Sector/Self Employed</td>\n",
       "      <td>Yes</td>\n",
       "      <td>15092.97</td>\n",
       "      <td>7</td>\n",
       "      <td>0</td>\n",
       "      <td>No</td>\n",
       "      <td>No</td>\n",
       "      <td>0</td>\n",
       "    </tr>\n",
       "    <tr>\n",
       "      <th>2</th>\n",
       "      <td>34</td>\n",
       "      <td>Private Sector/Self Employed</td>\n",
       "      <td>Yes</td>\n",
       "      <td>6037.19</td>\n",
       "      <td>4</td>\n",
       "      <td>1</td>\n",
       "      <td>No</td>\n",
       "      <td>No</td>\n",
       "      <td>1</td>\n",
       "    </tr>\n",
       "    <tr>\n",
       "      <th>3</th>\n",
       "      <td>28</td>\n",
       "      <td>Private Sector/Self Employed</td>\n",
       "      <td>Yes</td>\n",
       "      <td>8452.06</td>\n",
       "      <td>3</td>\n",
       "      <td>1</td>\n",
       "      <td>No</td>\n",
       "      <td>No</td>\n",
       "      <td>0</td>\n",
       "    </tr>\n",
       "    <tr>\n",
       "      <th>4</th>\n",
       "      <td>28</td>\n",
       "      <td>Private Sector/Self Employed</td>\n",
       "      <td>Yes</td>\n",
       "      <td>8452.06</td>\n",
       "      <td>8</td>\n",
       "      <td>1</td>\n",
       "      <td>Yes</td>\n",
       "      <td>No</td>\n",
       "      <td>0</td>\n",
       "    </tr>\n",
       "  </tbody>\n",
       "</table>\n",
       "</div>"
      ],
      "text/plain": [
       "   Age               Employment_Type GraduateOrNot  AnnualIncome  \\\n",
       "0   31             Government Sector           Yes       4829.75   \n",
       "1   31  Private Sector/Self Employed           Yes      15092.97   \n",
       "2   34  Private Sector/Self Employed           Yes       6037.19   \n",
       "3   28  Private Sector/Self Employed           Yes       8452.06   \n",
       "4   28  Private Sector/Self Employed           Yes       8452.06   \n",
       "\n",
       "   FamilyMembers  ChronicDiseases FrequentFlyer EverTravelledAbroad  \\\n",
       "0              6                1            No                  No   \n",
       "1              7                0            No                  No   \n",
       "2              4                1            No                  No   \n",
       "3              3                1            No                  No   \n",
       "4              8                1           Yes                  No   \n",
       "\n",
       "   TravelInsurance  \n",
       "0                0  \n",
       "1                0  \n",
       "2                1  \n",
       "3                0  \n",
       "4                0  "
      ]
     },
     "execution_count": 35,
     "metadata": {},
     "output_type": "execute_result"
    }
   ],
   "source": [
    "##Limiter à deux décimales la colonnes AnnualIncome et visualisation\n",
    "tip['AnnualIncome'] = tip['AnnualIncome'].round(2)\n",
    "tip.head()"
   ]
  },
  {
   "cell_type": "markdown",
   "metadata": {},
   "source": [
    "# Visualisation du Dataset"
   ]
  },
  {
   "cell_type": "code",
   "execution_count": 36,
   "metadata": {},
   "outputs": [
    {
     "data": {
      "application/vnd.plotly.v1+json": {
       "config": {
        "plotlyServerURL": "https://plot.ly"
       },
       "data": [
        {
         "customdata": [
          [
           0
          ],
          [
           0
          ],
          [
           1
          ],
          [
           0
          ],
          [
           0
          ],
          [
           0
          ],
          [
           0
          ],
          [
           1
          ],
          [
           1
          ],
          [
           0
          ],
          [
           0
          ],
          [
           1
          ],
          [
           1
          ],
          [
           1
          ],
          [
           0
          ],
          [
           0
          ],
          [
           0
          ],
          [
           1
          ],
          [
           1
          ],
          [
           1
          ],
          [
           0
          ],
          [
           1
          ],
          [
           0
          ],
          [
           1
          ],
          [
           0
          ],
          [
           0
          ],
          [
           1
          ],
          [
           0
          ],
          [
           0
          ],
          [
           0
          ],
          [
           0
          ],
          [
           0
          ],
          [
           1
          ],
          [
           0
          ],
          [
           1
          ],
          [
           0
          ],
          [
           0
          ],
          [
           0
          ],
          [
           0
          ],
          [
           1
          ],
          [
           1
          ],
          [
           0
          ],
          [
           1
          ],
          [
           1
          ],
          [
           1
          ],
          [
           1
          ],
          [
           1
          ],
          [
           0
          ],
          [
           0
          ],
          [
           1
          ],
          [
           0
          ],
          [
           0
          ],
          [
           0
          ],
          [
           0
          ],
          [
           0
          ],
          [
           0
          ],
          [
           1
          ],
          [
           1
          ],
          [
           1
          ],
          [
           1
          ],
          [
           0
          ],
          [
           1
          ],
          [
           0
          ],
          [
           0
          ],
          [
           1
          ],
          [
           0
          ],
          [
           0
          ],
          [
           1
          ],
          [
           0
          ],
          [
           0
          ],
          [
           0
          ],
          [
           0
          ],
          [
           0
          ],
          [
           0
          ],
          [
           0
          ],
          [
           0
          ],
          [
           1
          ],
          [
           0
          ],
          [
           1
          ],
          [
           0
          ],
          [
           0
          ],
          [
           0
          ],
          [
           0
          ],
          [
           1
          ],
          [
           0
          ],
          [
           1
          ],
          [
           0
          ],
          [
           0
          ],
          [
           0
          ],
          [
           0
          ],
          [
           0
          ],
          [
           0
          ],
          [
           0
          ],
          [
           1
          ],
          [
           0
          ],
          [
           1
          ],
          [
           0
          ],
          [
           0
          ],
          [
           0
          ],
          [
           0
          ],
          [
           1
          ],
          [
           1
          ],
          [
           0
          ],
          [
           1
          ],
          [
           0
          ],
          [
           0
          ],
          [
           0
          ],
          [
           0
          ],
          [
           1
          ],
          [
           1
          ],
          [
           0
          ],
          [
           0
          ],
          [
           0
          ],
          [
           0
          ],
          [
           0
          ],
          [
           0
          ],
          [
           1
          ],
          [
           0
          ],
          [
           1
          ],
          [
           0
          ],
          [
           0
          ],
          [
           1
          ],
          [
           0
          ],
          [
           0
          ],
          [
           0
          ],
          [
           1
          ],
          [
           0
          ],
          [
           0
          ],
          [
           1
          ],
          [
           0
          ],
          [
           0
          ],
          [
           0
          ],
          [
           0
          ],
          [
           1
          ],
          [
           0
          ],
          [
           1
          ],
          [
           1
          ],
          [
           0
          ],
          [
           0
          ],
          [
           1
          ],
          [
           0
          ],
          [
           0
          ],
          [
           0
          ],
          [
           0
          ],
          [
           0
          ],
          [
           0
          ],
          [
           1
          ],
          [
           0
          ],
          [
           1
          ],
          [
           0
          ],
          [
           1
          ],
          [
           1
          ],
          [
           0
          ],
          [
           0
          ],
          [
           0
          ],
          [
           1
          ],
          [
           0
          ],
          [
           0
          ],
          [
           1
          ],
          [
           0
          ],
          [
           1
          ],
          [
           1
          ],
          [
           1
          ],
          [
           0
          ],
          [
           0
          ],
          [
           0
          ],
          [
           0
          ],
          [
           0
          ],
          [
           0
          ],
          [
           0
          ],
          [
           1
          ],
          [
           0
          ],
          [
           0
          ],
          [
           1
          ],
          [
           1
          ],
          [
           0
          ],
          [
           1
          ],
          [
           0
          ],
          [
           0
          ],
          [
           0
          ],
          [
           0
          ],
          [
           0
          ],
          [
           1
          ],
          [
           0
          ],
          [
           0
          ],
          [
           1
          ],
          [
           1
          ],
          [
           0
          ],
          [
           0
          ],
          [
           1
          ],
          [
           0
          ],
          [
           0
          ],
          [
           0
          ],
          [
           0
          ],
          [
           0
          ],
          [
           1
          ],
          [
           1
          ],
          [
           0
          ],
          [
           1
          ],
          [
           1
          ],
          [
           1
          ],
          [
           1
          ],
          [
           1
          ],
          [
           0
          ],
          [
           0
          ],
          [
           0
          ],
          [
           1
          ],
          [
           0
          ],
          [
           1
          ],
          [
           0
          ],
          [
           0
          ],
          [
           0
          ],
          [
           0
          ],
          [
           1
          ],
          [
           0
          ],
          [
           0
          ],
          [
           1
          ],
          [
           0
          ],
          [
           0
          ],
          [
           0
          ],
          [
           0
          ],
          [
           0
          ],
          [
           0
          ],
          [
           0
          ],
          [
           0
          ],
          [
           0
          ],
          [
           1
          ],
          [
           0
          ],
          [
           0
          ],
          [
           0
          ],
          [
           0
          ],
          [
           0
          ],
          [
           0
          ],
          [
           0
          ],
          [
           0
          ],
          [
           0
          ],
          [
           1
          ],
          [
           0
          ],
          [
           0
          ],
          [
           0
          ],
          [
           0
          ],
          [
           1
          ],
          [
           0
          ],
          [
           0
          ],
          [
           0
          ],
          [
           0
          ],
          [
           0
          ],
          [
           1
          ],
          [
           1
          ],
          [
           0
          ],
          [
           1
          ],
          [
           0
          ],
          [
           1
          ],
          [
           1
          ],
          [
           0
          ],
          [
           1
          ],
          [
           1
          ],
          [
           1
          ],
          [
           0
          ],
          [
           1
          ],
          [
           1
          ],
          [
           1
          ],
          [
           0
          ],
          [
           0
          ],
          [
           0
          ],
          [
           0
          ],
          [
           0
          ],
          [
           1
          ],
          [
           1
          ],
          [
           0
          ],
          [
           1
          ],
          [
           0
          ],
          [
           0
          ],
          [
           1
          ],
          [
           1
          ],
          [
           1
          ],
          [
           0
          ],
          [
           0
          ],
          [
           1
          ],
          [
           0
          ],
          [
           0
          ],
          [
           0
          ],
          [
           1
          ],
          [
           0
          ],
          [
           1
          ],
          [
           0
          ],
          [
           0
          ],
          [
           0
          ],
          [
           0
          ],
          [
           0
          ],
          [
           0
          ],
          [
           0
          ],
          [
           0
          ],
          [
           1
          ],
          [
           0
          ],
          [
           0
          ],
          [
           0
          ],
          [
           1
          ],
          [
           1
          ],
          [
           0
          ],
          [
           1
          ],
          [
           0
          ],
          [
           1
          ],
          [
           0
          ],
          [
           0
          ],
          [
           0
          ],
          [
           1
          ],
          [
           0
          ],
          [
           0
          ],
          [
           1
          ],
          [
           0
          ],
          [
           1
          ],
          [
           0
          ],
          [
           1
          ],
          [
           1
          ],
          [
           0
          ],
          [
           0
          ],
          [
           1
          ],
          [
           1
          ],
          [
           1
          ],
          [
           0
          ],
          [
           0
          ],
          [
           0
          ],
          [
           1
          ],
          [
           0
          ],
          [
           0
          ],
          [
           0
          ],
          [
           0
          ],
          [
           1
          ],
          [
           0
          ],
          [
           0
          ],
          [
           1
          ],
          [
           1
          ],
          [
           0
          ],
          [
           1
          ],
          [
           1
          ],
          [
           0
          ],
          [
           0
          ],
          [
           0
          ],
          [
           0
          ],
          [
           0
          ],
          [
           0
          ],
          [
           1
          ],
          [
           0
          ],
          [
           0
          ],
          [
           0
          ],
          [
           1
          ],
          [
           0
          ],
          [
           0
          ],
          [
           0
          ],
          [
           0
          ],
          [
           0
          ],
          [
           1
          ],
          [
           0
          ],
          [
           1
          ],
          [
           1
          ],
          [
           0
          ],
          [
           0
          ],
          [
           0
          ],
          [
           0
          ],
          [
           0
          ],
          [
           1
          ],
          [
           0
          ],
          [
           0
          ],
          [
           0
          ],
          [
           1
          ],
          [
           0
          ],
          [
           0
          ],
          [
           1
          ],
          [
           0
          ],
          [
           1
          ],
          [
           0
          ],
          [
           0
          ],
          [
           0
          ],
          [
           0
          ],
          [
           0
          ],
          [
           0
          ],
          [
           1
          ],
          [
           1
          ],
          [
           1
          ],
          [
           0
          ],
          [
           0
          ],
          [
           1
          ],
          [
           0
          ],
          [
           0
          ],
          [
           0
          ],
          [
           1
          ],
          [
           0
          ],
          [
           0
          ],
          [
           1
          ],
          [
           1
          ],
          [
           1
          ],
          [
           1
          ],
          [
           0
          ],
          [
           1
          ],
          [
           0
          ],
          [
           1
          ],
          [
           0
          ],
          [
           0
          ],
          [
           0
          ],
          [
           0
          ],
          [
           0
          ],
          [
           0
          ],
          [
           0
          ],
          [
           1
          ],
          [
           0
          ],
          [
           1
          ],
          [
           1
          ],
          [
           0
          ],
          [
           0
          ],
          [
           0
          ],
          [
           0
          ],
          [
           0
          ],
          [
           1
          ],
          [
           1
          ],
          [
           0
          ],
          [
           1
          ],
          [
           1
          ],
          [
           0
          ],
          [
           0
          ],
          [
           0
          ],
          [
           0
          ],
          [
           1
          ],
          [
           1
          ],
          [
           1
          ],
          [
           0
          ],
          [
           0
          ],
          [
           1
          ],
          [
           0
          ],
          [
           0
          ],
          [
           1
          ],
          [
           0
          ],
          [
           0
          ],
          [
           0
          ],
          [
           1
          ],
          [
           1
          ],
          [
           0
          ],
          [
           0
          ],
          [
           0
          ],
          [
           0
          ],
          [
           1
          ],
          [
           1
          ],
          [
           0
          ],
          [
           1
          ],
          [
           1
          ],
          [
           0
          ],
          [
           0
          ],
          [
           0
          ],
          [
           1
          ],
          [
           1
          ],
          [
           0
          ],
          [
           0
          ],
          [
           1
          ],
          [
           0
          ],
          [
           0
          ],
          [
           0
          ],
          [
           1
          ],
          [
           0
          ],
          [
           0
          ],
          [
           1
          ],
          [
           1
          ],
          [
           1
          ],
          [
           0
          ],
          [
           0
          ],
          [
           1
          ],
          [
           1
          ],
          [
           0
          ],
          [
           0
          ],
          [
           0
          ],
          [
           1
          ],
          [
           0
          ],
          [
           0
          ],
          [
           0
          ],
          [
           1
          ],
          [
           0
          ],
          [
           1
          ],
          [
           1
          ],
          [
           1
          ],
          [
           0
          ],
          [
           0
          ],
          [
           1
          ],
          [
           0
          ],
          [
           0
          ],
          [
           0
          ],
          [
           1
          ],
          [
           0
          ],
          [
           0
          ],
          [
           1
          ],
          [
           0
          ],
          [
           0
          ],
          [
           0
          ],
          [
           1
          ],
          [
           0
          ],
          [
           0
          ],
          [
           0
          ],
          [
           0
          ],
          [
           0
          ],
          [
           1
          ],
          [
           0
          ],
          [
           0
          ],
          [
           1
          ],
          [
           0
          ],
          [
           1
          ],
          [
           0
          ],
          [
           0
          ],
          [
           0
          ],
          [
           0
          ],
          [
           0
          ],
          [
           1
          ],
          [
           1
          ],
          [
           0
          ],
          [
           0
          ],
          [
           0
          ],
          [
           0
          ],
          [
           1
          ],
          [
           0
          ],
          [
           0
          ],
          [
           1
          ],
          [
           1
          ],
          [
           1
          ],
          [
           0
          ],
          [
           0
          ],
          [
           1
          ],
          [
           0
          ],
          [
           0
          ],
          [
           0
          ],
          [
           0
          ],
          [
           0
          ],
          [
           0
          ],
          [
           0
          ],
          [
           0
          ],
          [
           0
          ],
          [
           1
          ],
          [
           0
          ],
          [
           1
          ],
          [
           1
          ],
          [
           0
          ],
          [
           1
          ],
          [
           0
          ],
          [
           0
          ],
          [
           1
          ],
          [
           0
          ],
          [
           0
          ],
          [
           0
          ],
          [
           0
          ],
          [
           0
          ],
          [
           0
          ],
          [
           1
          ],
          [
           0
          ],
          [
           0
          ],
          [
           0
          ],
          [
           1
          ],
          [
           0
          ],
          [
           0
          ],
          [
           0
          ],
          [
           0
          ],
          [
           0
          ],
          [
           0
          ],
          [
           0
          ],
          [
           1
          ],
          [
           1
          ],
          [
           0
          ],
          [
           0
          ],
          [
           1
          ],
          [
           0
          ],
          [
           0
          ],
          [
           0
          ],
          [
           1
          ],
          [
           0
          ],
          [
           0
          ],
          [
           0
          ],
          [
           0
          ],
          [
           0
          ],
          [
           0
          ],
          [
           0
          ],
          [
           1
          ],
          [
           1
          ],
          [
           1
          ],
          [
           0
          ],
          [
           0
          ],
          [
           0
          ],
          [
           0
          ],
          [
           0
          ],
          [
           1
          ],
          [
           0
          ],
          [
           1
          ],
          [
           0
          ],
          [
           1
          ],
          [
           1
          ],
          [
           1
          ],
          [
           0
          ],
          [
           0
          ],
          [
           1
          ],
          [
           0
          ],
          [
           0
          ],
          [
           0
          ],
          [
           1
          ],
          [
           0
          ],
          [
           1
          ],
          [
           0
          ],
          [
           1
          ],
          [
           0
          ],
          [
           1
          ],
          [
           1
          ],
          [
           0
          ],
          [
           1
          ],
          [
           0
          ],
          [
           0
          ],
          [
           1
          ],
          [
           1
          ],
          [
           0
          ],
          [
           0
          ],
          [
           0
          ],
          [
           0
          ],
          [
           0
          ],
          [
           0
          ],
          [
           0
          ],
          [
           1
          ],
          [
           1
          ],
          [
           1
          ],
          [
           0
          ],
          [
           0
          ],
          [
           0
          ],
          [
           0
          ],
          [
           0
          ],
          [
           0
          ],
          [
           0
          ],
          [
           0
          ],
          [
           0
          ],
          [
           0
          ],
          [
           0
          ],
          [
           1
          ],
          [
           0
          ],
          [
           0
          ],
          [
           0
          ],
          [
           0
          ],
          [
           1
          ],
          [
           0
          ],
          [
           1
          ],
          [
           0
          ],
          [
           0
          ],
          [
           0
          ],
          [
           0
          ],
          [
           0
          ],
          [
           0
          ],
          [
           0
          ],
          [
           0
          ],
          [
           1
          ],
          [
           0
          ],
          [
           0
          ],
          [
           1
          ],
          [
           1
          ],
          [
           1
          ],
          [
           0
          ],
          [
           0
          ],
          [
           0
          ],
          [
           0
          ],
          [
           1
          ],
          [
           1
          ],
          [
           0
          ],
          [
           0
          ],
          [
           0
          ],
          [
           0
          ],
          [
           1
          ],
          [
           1
          ],
          [
           0
          ],
          [
           0
          ],
          [
           0
          ],
          [
           0
          ],
          [
           0
          ],
          [
           0
          ],
          [
           0
          ],
          [
           0
          ],
          [
           1
          ],
          [
           0
          ],
          [
           0
          ],
          [
           0
          ],
          [
           0
          ],
          [
           1
          ],
          [
           0
          ],
          [
           1
          ],
          [
           0
          ],
          [
           1
          ],
          [
           0
          ],
          [
           0
          ],
          [
           1
          ],
          [
           1
          ],
          [
           0
          ],
          [
           0
          ],
          [
           0
          ],
          [
           0
          ],
          [
           0
          ],
          [
           0
          ],
          [
           0
          ],
          [
           1
          ],
          [
           0
          ],
          [
           0
          ],
          [
           1
          ],
          [
           1
          ],
          [
           0
          ],
          [
           1
          ],
          [
           1
          ],
          [
           0
          ],
          [
           0
          ],
          [
           1
          ],
          [
           0
          ],
          [
           0
          ],
          [
           0
          ],
          [
           0
          ],
          [
           1
          ],
          [
           1
          ],
          [
           1
          ],
          [
           1
          ],
          [
           1
          ],
          [
           0
          ],
          [
           0
          ],
          [
           1
          ],
          [
           0
          ],
          [
           0
          ],
          [
           0
          ],
          [
           0
          ],
          [
           0
          ],
          [
           1
          ],
          [
           0
          ],
          [
           0
          ],
          [
           1
          ],
          [
           1
          ],
          [
           1
          ],
          [
           0
          ],
          [
           0
          ],
          [
           1
          ],
          [
           0
          ],
          [
           0
          ],
          [
           0
          ],
          [
           1
          ],
          [
           0
          ],
          [
           0
          ],
          [
           1
          ],
          [
           0
          ],
          [
           1
          ],
          [
           1
          ],
          [
           1
          ],
          [
           1
          ],
          [
           0
          ],
          [
           0
          ],
          [
           0
          ],
          [
           0
          ],
          [
           1
          ],
          [
           0
          ],
          [
           1
          ],
          [
           0
          ],
          [
           1
          ],
          [
           1
          ],
          [
           0
          ],
          [
           0
          ],
          [
           0
          ],
          [
           0
          ],
          [
           0
          ],
          [
           1
          ],
          [
           1
          ],
          [
           0
          ],
          [
           1
          ],
          [
           0
          ],
          [
           0
          ],
          [
           0
          ],
          [
           0
          ],
          [
           0
          ],
          [
           0
          ],
          [
           1
          ],
          [
           0
          ],
          [
           0
          ],
          [
           1
          ],
          [
           0
          ],
          [
           0
          ],
          [
           0
          ],
          [
           0
          ],
          [
           1
          ],
          [
           0
          ],
          [
           0
          ],
          [
           1
          ],
          [
           0
          ],
          [
           1
          ],
          [
           0
          ],
          [
           0
          ],
          [
           1
          ],
          [
           0
          ],
          [
           0
          ],
          [
           0
          ],
          [
           0
          ],
          [
           1
          ],
          [
           1
          ],
          [
           1
          ],
          [
           0
          ],
          [
           1
          ],
          [
           0
          ],
          [
           0
          ],
          [
           0
          ],
          [
           0
          ],
          [
           1
          ],
          [
           0
          ],
          [
           0
          ],
          [
           1
          ],
          [
           1
          ],
          [
           0
          ],
          [
           0
          ],
          [
           0
          ],
          [
           0
          ],
          [
           1
          ],
          [
           1
          ],
          [
           1
          ],
          [
           0
          ],
          [
           0
          ],
          [
           0
          ],
          [
           0
          ],
          [
           0
          ],
          [
           0
          ],
          [
           0
          ],
          [
           1
          ],
          [
           1
          ],
          [
           0
          ],
          [
           0
          ],
          [
           1
          ],
          [
           0
          ],
          [
           0
          ],
          [
           0
          ],
          [
           1
          ],
          [
           0
          ],
          [
           1
          ],
          [
           1
          ],
          [
           0
          ],
          [
           1
          ],
          [
           0
          ],
          [
           1
          ],
          [
           1
          ],
          [
           1
          ],
          [
           0
          ],
          [
           1
          ],
          [
           0
          ],
          [
           0
          ],
          [
           1
          ],
          [
           1
          ],
          [
           1
          ],
          [
           0
          ],
          [
           0
          ],
          [
           0
          ],
          [
           0
          ],
          [
           0
          ],
          [
           1
          ],
          [
           0
          ],
          [
           0
          ],
          [
           0
          ],
          [
           1
          ],
          [
           0
          ],
          [
           0
          ],
          [
           0
          ],
          [
           0
          ],
          [
           1
          ],
          [
           1
          ],
          [
           0
          ],
          [
           0
          ],
          [
           0
          ],
          [
           1
          ],
          [
           0
          ],
          [
           0
          ],
          [
           0
          ],
          [
           1
          ],
          [
           1
          ],
          [
           0
          ],
          [
           0
          ],
          [
           1
          ],
          [
           0
          ],
          [
           0
          ],
          [
           0
          ],
          [
           1
          ],
          [
           0
          ],
          [
           0
          ],
          [
           0
          ],
          [
           1
          ],
          [
           0
          ],
          [
           1
          ],
          [
           0
          ],
          [
           0
          ],
          [
           0
          ],
          [
           1
          ],
          [
           1
          ],
          [
           0
          ],
          [
           1
          ],
          [
           0
          ],
          [
           0
          ],
          [
           0
          ],
          [
           1
          ],
          [
           0
          ],
          [
           0
          ],
          [
           0
          ],
          [
           1
          ],
          [
           1
          ],
          [
           0
          ],
          [
           0
          ],
          [
           0
          ],
          [
           1
          ],
          [
           1
          ],
          [
           0
          ],
          [
           1
          ],
          [
           0
          ],
          [
           0
          ],
          [
           0
          ],
          [
           0
          ],
          [
           1
          ],
          [
           0
          ],
          [
           1
          ],
          [
           0
          ],
          [
           0
          ],
          [
           1
          ],
          [
           1
          ],
          [
           0
          ],
          [
           0
          ],
          [
           1
          ],
          [
           0
          ],
          [
           1
          ],
          [
           1
          ],
          [
           0
          ],
          [
           0
          ],
          [
           0
          ],
          [
           0
          ],
          [
           0
          ],
          [
           0
          ],
          [
           1
          ],
          [
           1
          ],
          [
           1
          ],
          [
           1
          ],
          [
           1
          ],
          [
           0
          ],
          [
           1
          ],
          [
           0
          ],
          [
           0
          ],
          [
           1
          ],
          [
           0
          ],
          [
           0
          ],
          [
           1
          ],
          [
           1
          ],
          [
           1
          ],
          [
           0
          ],
          [
           0
          ],
          [
           0
          ],
          [
           0
          ],
          [
           0
          ],
          [
           1
          ],
          [
           0
          ],
          [
           0
          ],
          [
           1
          ],
          [
           0
          ],
          [
           1
          ],
          [
           1
          ],
          [
           0
          ],
          [
           0
          ],
          [
           1
          ],
          [
           1
          ],
          [
           0
          ],
          [
           0
          ],
          [
           0
          ],
          [
           1
          ],
          [
           0
          ],
          [
           0
          ],
          [
           1
          ],
          [
           1
          ],
          [
           0
          ],
          [
           1
          ],
          [
           0
          ],
          [
           0
          ],
          [
           0
          ],
          [
           0
          ],
          [
           1
          ],
          [
           0
          ],
          [
           1
          ],
          [
           1
          ],
          [
           1
          ],
          [
           0
          ],
          [
           1
          ],
          [
           0
          ],
          [
           0
          ],
          [
           0
          ],
          [
           0
          ],
          [
           0
          ],
          [
           1
          ],
          [
           0
          ],
          [
           1
          ],
          [
           1
          ],
          [
           1
          ],
          [
           0
          ],
          [
           1
          ],
          [
           1
          ],
          [
           1
          ],
          [
           0
          ],
          [
           0
          ],
          [
           0
          ],
          [
           0
          ],
          [
           1
          ],
          [
           0
          ],
          [
           1
          ],
          [
           1
          ],
          [
           0
          ],
          [
           1
          ],
          [
           0
          ],
          [
           0
          ],
          [
           0
          ],
          [
           0
          ],
          [
           0
          ],
          [
           1
          ],
          [
           1
          ],
          [
           1
          ],
          [
           0
          ],
          [
           1
          ],
          [
           0
          ],
          [
           0
          ],
          [
           1
          ],
          [
           1
          ],
          [
           0
          ],
          [
           0
          ],
          [
           0
          ],
          [
           1
          ],
          [
           0
          ],
          [
           1
          ],
          [
           0
          ],
          [
           1
          ],
          [
           1
          ],
          [
           1
          ],
          [
           0
          ],
          [
           0
          ],
          [
           0
          ],
          [
           0
          ],
          [
           0
          ],
          [
           0
          ],
          [
           1
          ],
          [
           0
          ],
          [
           1
          ],
          [
           0
          ],
          [
           0
          ],
          [
           1
          ],
          [
           1
          ],
          [
           0
          ],
          [
           1
          ],
          [
           0
          ],
          [
           0
          ],
          [
           0
          ],
          [
           1
          ],
          [
           0
          ],
          [
           0
          ],
          [
           1
          ],
          [
           0
          ],
          [
           0
          ],
          [
           0
          ],
          [
           0
          ],
          [
           0
          ],
          [
           1
          ],
          [
           0
          ],
          [
           1
          ],
          [
           0
          ],
          [
           0
          ],
          [
           0
          ],
          [
           0
          ],
          [
           0
          ],
          [
           0
          ],
          [
           0
          ],
          [
           0
          ],
          [
           0
          ],
          [
           0
          ],
          [
           1
          ],
          [
           1
          ],
          [
           1
          ],
          [
           0
          ],
          [
           0
          ],
          [
           0
          ],
          [
           0
          ],
          [
           0
          ],
          [
           0
          ],
          [
           0
          ],
          [
           1
          ],
          [
           0
          ],
          [
           0
          ],
          [
           0
          ],
          [
           0
          ],
          [
           1
          ],
          [
           0
          ],
          [
           0
          ],
          [
           0
          ],
          [
           0
          ],
          [
           0
          ],
          [
           0
          ],
          [
           0
          ],
          [
           0
          ],
          [
           0
          ],
          [
           1
          ],
          [
           1
          ],
          [
           1
          ],
          [
           0
          ],
          [
           1
          ],
          [
           1
          ],
          [
           0
          ],
          [
           0
          ],
          [
           1
          ],
          [
           1
          ],
          [
           0
          ],
          [
           0
          ],
          [
           0
          ],
          [
           0
          ],
          [
           1
          ],
          [
           0
          ],
          [
           1
          ],
          [
           1
          ],
          [
           1
          ],
          [
           0
          ],
          [
           0
          ],
          [
           0
          ],
          [
           0
          ],
          [
           0
          ],
          [
           0
          ],
          [
           1
          ],
          [
           0
          ],
          [
           0
          ],
          [
           0
          ],
          [
           0
          ],
          [
           1
          ],
          [
           1
          ],
          [
           1
          ],
          [
           0
          ],
          [
           0
          ],
          [
           0
          ],
          [
           0
          ],
          [
           0
          ],
          [
           1
          ],
          [
           0
          ],
          [
           0
          ],
          [
           1
          ],
          [
           1
          ],
          [
           1
          ],
          [
           1
          ],
          [
           1
          ],
          [
           0
          ],
          [
           0
          ],
          [
           0
          ],
          [
           0
          ],
          [
           0
          ],
          [
           0
          ],
          [
           0
          ],
          [
           0
          ],
          [
           0
          ],
          [
           0
          ],
          [
           1
          ],
          [
           0
          ],
          [
           1
          ],
          [
           1
          ],
          [
           1
          ],
          [
           0
          ],
          [
           0
          ],
          [
           0
          ],
          [
           1
          ],
          [
           1
          ],
          [
           1
          ],
          [
           0
          ],
          [
           0
          ],
          [
           0
          ],
          [
           1
          ],
          [
           1
          ],
          [
           0
          ],
          [
           1
          ],
          [
           1
          ],
          [
           0
          ],
          [
           0
          ],
          [
           0
          ],
          [
           1
          ],
          [
           0
          ],
          [
           0
          ],
          [
           1
          ],
          [
           1
          ],
          [
           0
          ],
          [
           0
          ],
          [
           0
          ],
          [
           0
          ],
          [
           1
          ],
          [
           0
          ],
          [
           0
          ],
          [
           0
          ],
          [
           0
          ],
          [
           0
          ],
          [
           0
          ],
          [
           0
          ],
          [
           0
          ],
          [
           0
          ],
          [
           0
          ],
          [
           0
          ],
          [
           0
          ],
          [
           0
          ],
          [
           1
          ],
          [
           0
          ],
          [
           1
          ],
          [
           0
          ],
          [
           0
          ],
          [
           1
          ],
          [
           0
          ],
          [
           0
          ],
          [
           1
          ],
          [
           0
          ],
          [
           1
          ],
          [
           0
          ],
          [
           1
          ],
          [
           0
          ],
          [
           1
          ],
          [
           0
          ],
          [
           0
          ],
          [
           1
          ],
          [
           1
          ],
          [
           1
          ],
          [
           0
          ],
          [
           1
          ],
          [
           0
          ],
          [
           1
          ],
          [
           1
          ],
          [
           0
          ],
          [
           0
          ],
          [
           1
          ],
          [
           0
          ],
          [
           0
          ],
          [
           0
          ],
          [
           0
          ],
          [
           1
          ],
          [
           0
          ],
          [
           1
          ],
          [
           0
          ],
          [
           0
          ],
          [
           1
          ],
          [
           1
          ],
          [
           1
          ],
          [
           0
          ],
          [
           0
          ],
          [
           0
          ],
          [
           0
          ],
          [
           0
          ],
          [
           0
          ],
          [
           1
          ],
          [
           1
          ],
          [
           0
          ],
          [
           1
          ],
          [
           0
          ],
          [
           1
          ],
          [
           0
          ],
          [
           1
          ],
          [
           0
          ],
          [
           0
          ],
          [
           0
          ],
          [
           0
          ],
          [
           0
          ],
          [
           1
          ],
          [
           0
          ],
          [
           1
          ],
          [
           1
          ],
          [
           0
          ],
          [
           1
          ],
          [
           0
          ],
          [
           1
          ],
          [
           1
          ],
          [
           0
          ],
          [
           1
          ],
          [
           1
          ],
          [
           0
          ],
          [
           0
          ],
          [
           0
          ],
          [
           1
          ],
          [
           1
          ],
          [
           1
          ],
          [
           0
          ],
          [
           0
          ],
          [
           1
          ],
          [
           1
          ],
          [
           0
          ],
          [
           0
          ],
          [
           0
          ],
          [
           1
          ],
          [
           1
          ],
          [
           1
          ],
          [
           1
          ],
          [
           1
          ],
          [
           0
          ],
          [
           1
          ],
          [
           0
          ],
          [
           0
          ],
          [
           0
          ],
          [
           0
          ],
          [
           0
          ],
          [
           0
          ],
          [
           0
          ],
          [
           1
          ],
          [
           1
          ],
          [
           0
          ],
          [
           0
          ],
          [
           0
          ],
          [
           1
          ],
          [
           0
          ],
          [
           0
          ],
          [
           1
          ],
          [
           0
          ],
          [
           0
          ],
          [
           0
          ],
          [
           1
          ],
          [
           0
          ],
          [
           1
          ],
          [
           1
          ],
          [
           0
          ],
          [
           0
          ],
          [
           0
          ],
          [
           1
          ],
          [
           1
          ],
          [
           1
          ],
          [
           0
          ],
          [
           0
          ],
          [
           1
          ],
          [
           0
          ],
          [
           1
          ],
          [
           1
          ],
          [
           1
          ],
          [
           0
          ],
          [
           1
          ],
          [
           0
          ],
          [
           1
          ],
          [
           0
          ],
          [
           1
          ],
          [
           1
          ],
          [
           0
          ],
          [
           0
          ],
          [
           0
          ],
          [
           1
          ],
          [
           0
          ],
          [
           1
          ],
          [
           0
          ],
          [
           0
          ],
          [
           1
          ],
          [
           0
          ],
          [
           0
          ],
          [
           0
          ],
          [
           1
          ],
          [
           1
          ],
          [
           1
          ],
          [
           0
          ],
          [
           1
          ],
          [
           1
          ],
          [
           1
          ],
          [
           0
          ],
          [
           0
          ],
          [
           0
          ],
          [
           0
          ],
          [
           1
          ],
          [
           1
          ],
          [
           0
          ],
          [
           0
          ],
          [
           0
          ],
          [
           1
          ],
          [
           1
          ],
          [
           0
          ],
          [
           0
          ],
          [
           1
          ],
          [
           1
          ],
          [
           0
          ],
          [
           1
          ],
          [
           1
          ],
          [
           0
          ],
          [
           0
          ],
          [
           0
          ],
          [
           0
          ],
          [
           1
          ],
          [
           1
          ],
          [
           0
          ],
          [
           0
          ],
          [
           1
          ],
          [
           1
          ],
          [
           0
          ],
          [
           0
          ],
          [
           1
          ],
          [
           0
          ],
          [
           1
          ],
          [
           0
          ],
          [
           0
          ],
          [
           1
          ],
          [
           1
          ],
          [
           1
          ],
          [
           1
          ],
          [
           0
          ],
          [
           0
          ],
          [
           0
          ],
          [
           1
          ],
          [
           0
          ],
          [
           1
          ],
          [
           0
          ],
          [
           0
          ],
          [
           1
          ],
          [
           0
          ],
          [
           0
          ],
          [
           0
          ],
          [
           0
          ],
          [
           0
          ],
          [
           1
          ],
          [
           0
          ],
          [
           0
          ],
          [
           0
          ],
          [
           0
          ],
          [
           1
          ],
          [
           1
          ],
          [
           0
          ],
          [
           0
          ],
          [
           0
          ],
          [
           1
          ],
          [
           1
          ],
          [
           0
          ],
          [
           1
          ],
          [
           1
          ],
          [
           0
          ],
          [
           0
          ],
          [
           1
          ],
          [
           0
          ],
          [
           0
          ],
          [
           1
          ],
          [
           0
          ],
          [
           0
          ],
          [
           1
          ],
          [
           0
          ],
          [
           0
          ],
          [
           0
          ],
          [
           0
          ],
          [
           0
          ],
          [
           1
          ],
          [
           1
          ],
          [
           1
          ],
          [
           1
          ],
          [
           1
          ],
          [
           1
          ],
          [
           1
          ],
          [
           0
          ],
          [
           1
          ],
          [
           0
          ],
          [
           1
          ],
          [
           0
          ],
          [
           1
          ],
          [
           0
          ],
          [
           0
          ],
          [
           0
          ],
          [
           1
          ],
          [
           0
          ],
          [
           0
          ],
          [
           1
          ],
          [
           0
          ],
          [
           0
          ],
          [
           0
          ],
          [
           1
          ],
          [
           0
          ],
          [
           1
          ],
          [
           0
          ],
          [
           0
          ],
          [
           1
          ],
          [
           1
          ],
          [
           1
          ],
          [
           0
          ],
          [
           1
          ],
          [
           0
          ],
          [
           0
          ],
          [
           0
          ],
          [
           0
          ],
          [
           0
          ],
          [
           0
          ],
          [
           0
          ],
          [
           0
          ],
          [
           0
          ],
          [
           0
          ],
          [
           0
          ],
          [
           1
          ],
          [
           0
          ],
          [
           0
          ],
          [
           0
          ],
          [
           0
          ],
          [
           1
          ],
          [
           0
          ],
          [
           0
          ],
          [
           1
          ],
          [
           0
          ],
          [
           1
          ],
          [
           0
          ],
          [
           0
          ],
          [
           0
          ],
          [
           0
          ],
          [
           0
          ],
          [
           0
          ],
          [
           0
          ],
          [
           1
          ],
          [
           0
          ],
          [
           1
          ],
          [
           0
          ],
          [
           0
          ],
          [
           1
          ],
          [
           1
          ],
          [
           0
          ],
          [
           1
          ],
          [
           0
          ],
          [
           0
          ],
          [
           1
          ],
          [
           0
          ],
          [
           0
          ],
          [
           0
          ],
          [
           0
          ],
          [
           0
          ],
          [
           0
          ],
          [
           0
          ],
          [
           1
          ],
          [
           0
          ],
          [
           0
          ],
          [
           0
          ],
          [
           0
          ],
          [
           1
          ],
          [
           1
          ],
          [
           0
          ],
          [
           0
          ],
          [
           1
          ],
          [
           1
          ],
          [
           1
          ],
          [
           0
          ],
          [
           1
          ],
          [
           0
          ],
          [
           0
          ],
          [
           0
          ],
          [
           0
          ],
          [
           1
          ],
          [
           1
          ],
          [
           0
          ],
          [
           1
          ],
          [
           0
          ],
          [
           0
          ],
          [
           0
          ],
          [
           1
          ],
          [
           1
          ],
          [
           1
          ],
          [
           0
          ],
          [
           1
          ],
          [
           0
          ],
          [
           1
          ],
          [
           0
          ],
          [
           0
          ],
          [
           0
          ],
          [
           0
          ],
          [
           0
          ],
          [
           1
          ],
          [
           0
          ],
          [
           1
          ],
          [
           0
          ],
          [
           0
          ],
          [
           0
          ],
          [
           0
          ],
          [
           1
          ],
          [
           1
          ],
          [
           0
          ],
          [
           1
          ],
          [
           1
          ],
          [
           0
          ],
          [
           0
          ],
          [
           0
          ],
          [
           0
          ],
          [
           0
          ],
          [
           1
          ],
          [
           0
          ],
          [
           0
          ],
          [
           0
          ],
          [
           1
          ],
          [
           1
          ],
          [
           0
          ],
          [
           0
          ],
          [
           0
          ],
          [
           1
          ],
          [
           0
          ],
          [
           0
          ],
          [
           0
          ],
          [
           0
          ],
          [
           1
          ],
          [
           0
          ],
          [
           0
          ],
          [
           0
          ],
          [
           0
          ],
          [
           1
          ],
          [
           0
          ],
          [
           0
          ],
          [
           0
          ],
          [
           1
          ],
          [
           1
          ],
          [
           0
          ],
          [
           0
          ],
          [
           1
          ],
          [
           0
          ],
          [
           0
          ],
          [
           1
          ],
          [
           0
          ],
          [
           1
          ],
          [
           0
          ],
          [
           0
          ],
          [
           0
          ],
          [
           0
          ],
          [
           0
          ],
          [
           1
          ],
          [
           0
          ],
          [
           0
          ],
          [
           0
          ],
          [
           0
          ],
          [
           0
          ],
          [
           0
          ],
          [
           1
          ],
          [
           1
          ],
          [
           0
          ],
          [
           0
          ],
          [
           1
          ],
          [
           1
          ],
          [
           0
          ],
          [
           1
          ],
          [
           0
          ],
          [
           1
          ],
          [
           0
          ],
          [
           0
          ],
          [
           0
          ],
          [
           0
          ],
          [
           0
          ],
          [
           1
          ],
          [
           1
          ],
          [
           1
          ],
          [
           1
          ],
          [
           0
          ],
          [
           1
          ],
          [
           0
          ],
          [
           0
          ],
          [
           1
          ],
          [
           0
          ],
          [
           0
          ],
          [
           0
          ],
          [
           0
          ],
          [
           0
          ],
          [
           0
          ],
          [
           1
          ],
          [
           1
          ],
          [
           1
          ],
          [
           0
          ],
          [
           0
          ],
          [
           0
          ],
          [
           0
          ],
          [
           1
          ],
          [
           0
          ],
          [
           1
          ],
          [
           0
          ],
          [
           0
          ],
          [
           0
          ],
          [
           1
          ],
          [
           1
          ],
          [
           1
          ],
          [
           1
          ],
          [
           1
          ],
          [
           0
          ],
          [
           0
          ],
          [
           0
          ],
          [
           0
          ],
          [
           0
          ],
          [
           1
          ],
          [
           0
          ],
          [
           0
          ],
          [
           0
          ],
          [
           0
          ],
          [
           0
          ],
          [
           1
          ],
          [
           0
          ],
          [
           0
          ],
          [
           1
          ],
          [
           1
          ],
          [
           1
          ],
          [
           1
          ],
          [
           0
          ],
          [
           0
          ],
          [
           1
          ],
          [
           1
          ],
          [
           0
          ],
          [
           1
          ],
          [
           0
          ],
          [
           0
          ],
          [
           0
          ],
          [
           0
          ],
          [
           0
          ],
          [
           1
          ],
          [
           0
          ],
          [
           0
          ],
          [
           0
          ],
          [
           0
          ],
          [
           0
          ],
          [
           1
          ],
          [
           1
          ],
          [
           0
          ],
          [
           1
          ],
          [
           0
          ],
          [
           0
          ],
          [
           0
          ],
          [
           0
          ],
          [
           0
          ],
          [
           1
          ],
          [
           0
          ],
          [
           0
          ],
          [
           0
          ],
          [
           0
          ],
          [
           0
          ],
          [
           0
          ],
          [
           0
          ],
          [
           0
          ],
          [
           1
          ],
          [
           0
          ],
          [
           1
          ],
          [
           0
          ],
          [
           1
          ],
          [
           0
          ],
          [
           0
          ],
          [
           0
          ],
          [
           0
          ],
          [
           1
          ],
          [
           1
          ],
          [
           1
          ],
          [
           0
          ],
          [
           1
          ],
          [
           1
          ],
          [
           0
          ],
          [
           1
          ],
          [
           0
          ],
          [
           1
          ],
          [
           0
          ],
          [
           0
          ],
          [
           1
          ],
          [
           0
          ],
          [
           0
          ],
          [
           0
          ],
          [
           0
          ],
          [
           0
          ],
          [
           0
          ],
          [
           1
          ],
          [
           0
          ],
          [
           0
          ],
          [
           0
          ],
          [
           0
          ],
          [
           0
          ],
          [
           0
          ],
          [
           1
          ],
          [
           0
          ],
          [
           0
          ],
          [
           0
          ],
          [
           1
          ],
          [
           0
          ],
          [
           0
          ],
          [
           0
          ],
          [
           0
          ],
          [
           0
          ],
          [
           1
          ],
          [
           1
          ],
          [
           0
          ],
          [
           1
          ],
          [
           0
          ],
          [
           0
          ],
          [
           0
          ],
          [
           1
          ],
          [
           0
          ],
          [
           0
          ],
          [
           0
          ],
          [
           0
          ],
          [
           1
          ],
          [
           0
          ],
          [
           1
          ],
          [
           0
          ],
          [
           0
          ],
          [
           0
          ],
          [
           1
          ],
          [
           0
          ],
          [
           0
          ],
          [
           0
          ],
          [
           1
          ],
          [
           0
          ],
          [
           0
          ],
          [
           0
          ],
          [
           1
          ],
          [
           0
          ],
          [
           0
          ],
          [
           0
          ],
          [
           1
          ],
          [
           1
          ],
          [
           0
          ],
          [
           0
          ],
          [
           0
          ],
          [
           0
          ],
          [
           0
          ],
          [
           0
          ],
          [
           0
          ],
          [
           1
          ],
          [
           1
          ],
          [
           1
          ],
          [
           0
          ],
          [
           0
          ],
          [
           0
          ],
          [
           1
          ],
          [
           1
          ],
          [
           0
          ],
          [
           0
          ],
          [
           0
          ],
          [
           1
          ],
          [
           0
          ],
          [
           0
          ],
          [
           1
          ],
          [
           0
          ],
          [
           0
          ],
          [
           0
          ],
          [
           0
          ],
          [
           0
          ],
          [
           0
          ],
          [
           1
          ],
          [
           1
          ],
          [
           1
          ],
          [
           0
          ],
          [
           1
          ],
          [
           0
          ],
          [
           1
          ],
          [
           0
          ],
          [
           1
          ],
          [
           0
          ],
          [
           1
          ],
          [
           0
          ],
          [
           0
          ],
          [
           0
          ],
          [
           1
          ],
          [
           0
          ],
          [
           1
          ],
          [
           1
          ],
          [
           0
          ],
          [
           0
          ],
          [
           0
          ],
          [
           0
          ],
          [
           0
          ],
          [
           0
          ],
          [
           0
          ],
          [
           0
          ],
          [
           0
          ],
          [
           0
          ],
          [
           0
          ],
          [
           0
          ],
          [
           0
          ],
          [
           0
          ],
          [
           0
          ],
          [
           0
          ],
          [
           1
          ],
          [
           0
          ],
          [
           0
          ],
          [
           0
          ],
          [
           1
          ],
          [
           0
          ],
          [
           0
          ],
          [
           1
          ],
          [
           1
          ],
          [
           0
          ],
          [
           0
          ],
          [
           1
          ],
          [
           0
          ],
          [
           0
          ],
          [
           0
          ],
          [
           0
          ],
          [
           0
          ],
          [
           1
          ],
          [
           1
          ],
          [
           0
          ],
          [
           1
          ],
          [
           1
          ],
          [
           1
          ],
          [
           1
          ],
          [
           1
          ],
          [
           0
          ],
          [
           0
          ],
          [
           0
          ],
          [
           1
          ],
          [
           1
          ],
          [
           0
          ],
          [
           1
          ],
          [
           0
          ],
          [
           1
          ],
          [
           1
          ],
          [
           1
          ],
          [
           0
          ],
          [
           1
          ],
          [
           0
          ],
          [
           0
          ],
          [
           0
          ],
          [
           0
          ],
          [
           0
          ],
          [
           0
          ],
          [
           1
          ],
          [
           0
          ],
          [
           0
          ],
          [
           0
          ],
          [
           0
          ],
          [
           1
          ],
          [
           1
          ],
          [
           0
          ],
          [
           0
          ],
          [
           0
          ],
          [
           0
          ],
          [
           0
          ],
          [
           1
          ],
          [
           0
          ],
          [
           0
          ],
          [
           1
          ],
          [
           1
          ],
          [
           0
          ],
          [
           0
          ],
          [
           0
          ],
          [
           1
          ],
          [
           0
          ],
          [
           0
          ],
          [
           0
          ],
          [
           0
          ],
          [
           0
          ],
          [
           1
          ],
          [
           1
          ],
          [
           0
          ],
          [
           0
          ],
          [
           0
          ],
          [
           0
          ],
          [
           0
          ],
          [
           0
          ],
          [
           0
          ],
          [
           1
          ],
          [
           1
          ],
          [
           1
          ],
          [
           1
          ],
          [
           0
          ],
          [
           0
          ],
          [
           0
          ],
          [
           0
          ],
          [
           0
          ],
          [
           0
          ],
          [
           1
          ],
          [
           0
          ],
          [
           0
          ],
          [
           0
          ],
          [
           0
          ],
          [
           1
          ],
          [
           0
          ],
          [
           0
          ],
          [
           1
          ],
          [
           1
          ],
          [
           1
          ],
          [
           0
          ],
          [
           1
          ],
          [
           1
          ],
          [
           0
          ],
          [
           0
          ],
          [
           1
          ],
          [
           1
          ],
          [
           0
          ],
          [
           0
          ],
          [
           1
          ],
          [
           0
          ],
          [
           0
          ],
          [
           0
          ],
          [
           1
          ],
          [
           0
          ],
          [
           0
          ],
          [
           1
          ],
          [
           0
          ],
          [
           1
          ],
          [
           0
          ],
          [
           0
          ],
          [
           0
          ],
          [
           0
          ],
          [
           1
          ],
          [
           0
          ],
          [
           0
          ],
          [
           1
          ],
          [
           0
          ],
          [
           1
          ],
          [
           0
          ],
          [
           1
          ],
          [
           1
          ],
          [
           0
          ],
          [
           0
          ],
          [
           1
          ],
          [
           1
          ],
          [
           0
          ],
          [
           0
          ],
          [
           1
          ],
          [
           0
          ]
         ],
         "domain": {
          "x": [
           0,
           1
          ],
          "y": [
           0,
           1
          ]
         },
         "hovertemplate": "TravelInsurance=%{customdata[0]}<extra></extra>",
         "labels": [
          0,
          0,
          1,
          0,
          0,
          0,
          0,
          1,
          1,
          0,
          0,
          1,
          1,
          1,
          0,
          0,
          0,
          1,
          1,
          1,
          0,
          1,
          0,
          1,
          0,
          0,
          1,
          0,
          0,
          0,
          0,
          0,
          1,
          0,
          1,
          0,
          0,
          0,
          0,
          1,
          1,
          0,
          1,
          1,
          1,
          1,
          1,
          0,
          0,
          1,
          0,
          0,
          0,
          0,
          0,
          0,
          1,
          1,
          1,
          1,
          0,
          1,
          0,
          0,
          1,
          0,
          0,
          1,
          0,
          0,
          0,
          0,
          0,
          0,
          0,
          0,
          1,
          0,
          1,
          0,
          0,
          0,
          0,
          1,
          0,
          1,
          0,
          0,
          0,
          0,
          0,
          0,
          0,
          1,
          0,
          1,
          0,
          0,
          0,
          0,
          1,
          1,
          0,
          1,
          0,
          0,
          0,
          0,
          1,
          1,
          0,
          0,
          0,
          0,
          0,
          0,
          1,
          0,
          1,
          0,
          0,
          1,
          0,
          0,
          0,
          1,
          0,
          0,
          1,
          0,
          0,
          0,
          0,
          1,
          0,
          1,
          1,
          0,
          0,
          1,
          0,
          0,
          0,
          0,
          0,
          0,
          1,
          0,
          1,
          0,
          1,
          1,
          0,
          0,
          0,
          1,
          0,
          0,
          1,
          0,
          1,
          1,
          1,
          0,
          0,
          0,
          0,
          0,
          0,
          0,
          1,
          0,
          0,
          1,
          1,
          0,
          1,
          0,
          0,
          0,
          0,
          0,
          1,
          0,
          0,
          1,
          1,
          0,
          0,
          1,
          0,
          0,
          0,
          0,
          0,
          1,
          1,
          0,
          1,
          1,
          1,
          1,
          1,
          0,
          0,
          0,
          1,
          0,
          1,
          0,
          0,
          0,
          0,
          1,
          0,
          0,
          1,
          0,
          0,
          0,
          0,
          0,
          0,
          0,
          0,
          0,
          1,
          0,
          0,
          0,
          0,
          0,
          0,
          0,
          0,
          0,
          1,
          0,
          0,
          0,
          0,
          1,
          0,
          0,
          0,
          0,
          0,
          1,
          1,
          0,
          1,
          0,
          1,
          1,
          0,
          1,
          1,
          1,
          0,
          1,
          1,
          1,
          0,
          0,
          0,
          0,
          0,
          1,
          1,
          0,
          1,
          0,
          0,
          1,
          1,
          1,
          0,
          0,
          1,
          0,
          0,
          0,
          1,
          0,
          1,
          0,
          0,
          0,
          0,
          0,
          0,
          0,
          0,
          1,
          0,
          0,
          0,
          1,
          1,
          0,
          1,
          0,
          1,
          0,
          0,
          0,
          1,
          0,
          0,
          1,
          0,
          1,
          0,
          1,
          1,
          0,
          0,
          1,
          1,
          1,
          0,
          0,
          0,
          1,
          0,
          0,
          0,
          0,
          1,
          0,
          0,
          1,
          1,
          0,
          1,
          1,
          0,
          0,
          0,
          0,
          0,
          0,
          1,
          0,
          0,
          0,
          1,
          0,
          0,
          0,
          0,
          0,
          1,
          0,
          1,
          1,
          0,
          0,
          0,
          0,
          0,
          1,
          0,
          0,
          0,
          1,
          0,
          0,
          1,
          0,
          1,
          0,
          0,
          0,
          0,
          0,
          0,
          1,
          1,
          1,
          0,
          0,
          1,
          0,
          0,
          0,
          1,
          0,
          0,
          1,
          1,
          1,
          1,
          0,
          1,
          0,
          1,
          0,
          0,
          0,
          0,
          0,
          0,
          0,
          1,
          0,
          1,
          1,
          0,
          0,
          0,
          0,
          0,
          1,
          1,
          0,
          1,
          1,
          0,
          0,
          0,
          0,
          1,
          1,
          1,
          0,
          0,
          1,
          0,
          0,
          1,
          0,
          0,
          0,
          1,
          1,
          0,
          0,
          0,
          0,
          1,
          1,
          0,
          1,
          1,
          0,
          0,
          0,
          1,
          1,
          0,
          0,
          1,
          0,
          0,
          0,
          1,
          0,
          0,
          1,
          1,
          1,
          0,
          0,
          1,
          1,
          0,
          0,
          0,
          1,
          0,
          0,
          0,
          1,
          0,
          1,
          1,
          1,
          0,
          0,
          1,
          0,
          0,
          0,
          1,
          0,
          0,
          1,
          0,
          0,
          0,
          1,
          0,
          0,
          0,
          0,
          0,
          1,
          0,
          0,
          1,
          0,
          1,
          0,
          0,
          0,
          0,
          0,
          1,
          1,
          0,
          0,
          0,
          0,
          1,
          0,
          0,
          1,
          1,
          1,
          0,
          0,
          1,
          0,
          0,
          0,
          0,
          0,
          0,
          0,
          0,
          0,
          1,
          0,
          1,
          1,
          0,
          1,
          0,
          0,
          1,
          0,
          0,
          0,
          0,
          0,
          0,
          1,
          0,
          0,
          0,
          1,
          0,
          0,
          0,
          0,
          0,
          0,
          0,
          1,
          1,
          0,
          0,
          1,
          0,
          0,
          0,
          1,
          0,
          0,
          0,
          0,
          0,
          0,
          0,
          1,
          1,
          1,
          0,
          0,
          0,
          0,
          0,
          1,
          0,
          1,
          0,
          1,
          1,
          1,
          0,
          0,
          1,
          0,
          0,
          0,
          1,
          0,
          1,
          0,
          1,
          0,
          1,
          1,
          0,
          1,
          0,
          0,
          1,
          1,
          0,
          0,
          0,
          0,
          0,
          0,
          0,
          1,
          1,
          1,
          0,
          0,
          0,
          0,
          0,
          0,
          0,
          0,
          0,
          0,
          0,
          1,
          0,
          0,
          0,
          0,
          1,
          0,
          1,
          0,
          0,
          0,
          0,
          0,
          0,
          0,
          0,
          1,
          0,
          0,
          1,
          1,
          1,
          0,
          0,
          0,
          0,
          1,
          1,
          0,
          0,
          0,
          0,
          1,
          1,
          0,
          0,
          0,
          0,
          0,
          0,
          0,
          0,
          1,
          0,
          0,
          0,
          0,
          1,
          0,
          1,
          0,
          1,
          0,
          0,
          1,
          1,
          0,
          0,
          0,
          0,
          0,
          0,
          0,
          1,
          0,
          0,
          1,
          1,
          0,
          1,
          1,
          0,
          0,
          1,
          0,
          0,
          0,
          0,
          1,
          1,
          1,
          1,
          1,
          0,
          0,
          1,
          0,
          0,
          0,
          0,
          0,
          1,
          0,
          0,
          1,
          1,
          1,
          0,
          0,
          1,
          0,
          0,
          0,
          1,
          0,
          0,
          1,
          0,
          1,
          1,
          1,
          1,
          0,
          0,
          0,
          0,
          1,
          0,
          1,
          0,
          1,
          1,
          0,
          0,
          0,
          0,
          0,
          1,
          1,
          0,
          1,
          0,
          0,
          0,
          0,
          0,
          0,
          1,
          0,
          0,
          1,
          0,
          0,
          0,
          0,
          1,
          0,
          0,
          1,
          0,
          1,
          0,
          0,
          1,
          0,
          0,
          0,
          0,
          1,
          1,
          1,
          0,
          1,
          0,
          0,
          0,
          0,
          1,
          0,
          0,
          1,
          1,
          0,
          0,
          0,
          0,
          1,
          1,
          1,
          0,
          0,
          0,
          0,
          0,
          0,
          0,
          1,
          1,
          0,
          0,
          1,
          0,
          0,
          0,
          1,
          0,
          1,
          1,
          0,
          1,
          0,
          1,
          1,
          1,
          0,
          1,
          0,
          0,
          1,
          1,
          1,
          0,
          0,
          0,
          0,
          0,
          1,
          0,
          0,
          0,
          1,
          0,
          0,
          0,
          0,
          1,
          1,
          0,
          0,
          0,
          1,
          0,
          0,
          0,
          1,
          1,
          0,
          0,
          1,
          0,
          0,
          0,
          1,
          0,
          0,
          0,
          1,
          0,
          1,
          0,
          0,
          0,
          1,
          1,
          0,
          1,
          0,
          0,
          0,
          1,
          0,
          0,
          0,
          1,
          1,
          0,
          0,
          0,
          1,
          1,
          0,
          1,
          0,
          0,
          0,
          0,
          1,
          0,
          1,
          0,
          0,
          1,
          1,
          0,
          0,
          1,
          0,
          1,
          1,
          0,
          0,
          0,
          0,
          0,
          0,
          1,
          1,
          1,
          1,
          1,
          0,
          1,
          0,
          0,
          1,
          0,
          0,
          1,
          1,
          1,
          0,
          0,
          0,
          0,
          0,
          1,
          0,
          0,
          1,
          0,
          1,
          1,
          0,
          0,
          1,
          1,
          0,
          0,
          0,
          1,
          0,
          0,
          1,
          1,
          0,
          1,
          0,
          0,
          0,
          0,
          1,
          0,
          1,
          1,
          1,
          0,
          1,
          0,
          0,
          0,
          0,
          0,
          1,
          0,
          1,
          1,
          1,
          0,
          1,
          1,
          1,
          0,
          0,
          0,
          0,
          1,
          0,
          1,
          1,
          0,
          1,
          0,
          0,
          0,
          0,
          0,
          1,
          1,
          1,
          0,
          1,
          0,
          0,
          1,
          1,
          0,
          0,
          0,
          1,
          0,
          1,
          0,
          1,
          1,
          1,
          0,
          0,
          0,
          0,
          0,
          0,
          1,
          0,
          1,
          0,
          0,
          1,
          1,
          0,
          1,
          0,
          0,
          0,
          1,
          0,
          0,
          1,
          0,
          0,
          0,
          0,
          0,
          1,
          0,
          1,
          0,
          0,
          0,
          0,
          0,
          0,
          0,
          0,
          0,
          0,
          1,
          1,
          1,
          0,
          0,
          0,
          0,
          0,
          0,
          0,
          1,
          0,
          0,
          0,
          0,
          1,
          0,
          0,
          0,
          0,
          0,
          0,
          0,
          0,
          0,
          1,
          1,
          1,
          0,
          1,
          1,
          0,
          0,
          1,
          1,
          0,
          0,
          0,
          0,
          1,
          0,
          1,
          1,
          1,
          0,
          0,
          0,
          0,
          0,
          0,
          1,
          0,
          0,
          0,
          0,
          1,
          1,
          1,
          0,
          0,
          0,
          0,
          0,
          1,
          0,
          0,
          1,
          1,
          1,
          1,
          1,
          0,
          0,
          0,
          0,
          0,
          0,
          0,
          0,
          0,
          0,
          1,
          0,
          1,
          1,
          1,
          0,
          0,
          0,
          1,
          1,
          1,
          0,
          0,
          0,
          1,
          1,
          0,
          1,
          1,
          0,
          0,
          0,
          1,
          0,
          0,
          1,
          1,
          0,
          0,
          0,
          0,
          1,
          0,
          0,
          0,
          0,
          0,
          0,
          0,
          0,
          0,
          0,
          0,
          0,
          0,
          1,
          0,
          1,
          0,
          0,
          1,
          0,
          0,
          1,
          0,
          1,
          0,
          1,
          0,
          1,
          0,
          0,
          1,
          1,
          1,
          0,
          1,
          0,
          1,
          1,
          0,
          0,
          1,
          0,
          0,
          0,
          0,
          1,
          0,
          1,
          0,
          0,
          1,
          1,
          1,
          0,
          0,
          0,
          0,
          0,
          0,
          1,
          1,
          0,
          1,
          0,
          1,
          0,
          1,
          0,
          0,
          0,
          0,
          0,
          1,
          0,
          1,
          1,
          0,
          1,
          0,
          1,
          1,
          0,
          1,
          1,
          0,
          0,
          0,
          1,
          1,
          1,
          0,
          0,
          1,
          1,
          0,
          0,
          0,
          1,
          1,
          1,
          1,
          1,
          0,
          1,
          0,
          0,
          0,
          0,
          0,
          0,
          0,
          1,
          1,
          0,
          0,
          0,
          1,
          0,
          0,
          1,
          0,
          0,
          0,
          1,
          0,
          1,
          1,
          0,
          0,
          0,
          1,
          1,
          1,
          0,
          0,
          1,
          0,
          1,
          1,
          1,
          0,
          1,
          0,
          1,
          0,
          1,
          1,
          0,
          0,
          0,
          1,
          0,
          1,
          0,
          0,
          1,
          0,
          0,
          0,
          1,
          1,
          1,
          0,
          1,
          1,
          1,
          0,
          0,
          0,
          0,
          1,
          1,
          0,
          0,
          0,
          1,
          1,
          0,
          0,
          1,
          1,
          0,
          1,
          1,
          0,
          0,
          0,
          0,
          1,
          1,
          0,
          0,
          1,
          1,
          0,
          0,
          1,
          0,
          1,
          0,
          0,
          1,
          1,
          1,
          1,
          0,
          0,
          0,
          1,
          0,
          1,
          0,
          0,
          1,
          0,
          0,
          0,
          0,
          0,
          1,
          0,
          0,
          0,
          0,
          1,
          1,
          0,
          0,
          0,
          1,
          1,
          0,
          1,
          1,
          0,
          0,
          1,
          0,
          0,
          1,
          0,
          0,
          1,
          0,
          0,
          0,
          0,
          0,
          1,
          1,
          1,
          1,
          1,
          1,
          1,
          0,
          1,
          0,
          1,
          0,
          1,
          0,
          0,
          0,
          1,
          0,
          0,
          1,
          0,
          0,
          0,
          1,
          0,
          1,
          0,
          0,
          1,
          1,
          1,
          0,
          1,
          0,
          0,
          0,
          0,
          0,
          0,
          0,
          0,
          0,
          0,
          0,
          1,
          0,
          0,
          0,
          0,
          1,
          0,
          0,
          1,
          0,
          1,
          0,
          0,
          0,
          0,
          0,
          0,
          0,
          1,
          0,
          1,
          0,
          0,
          1,
          1,
          0,
          1,
          0,
          0,
          1,
          0,
          0,
          0,
          0,
          0,
          0,
          0,
          1,
          0,
          0,
          0,
          0,
          1,
          1,
          0,
          0,
          1,
          1,
          1,
          0,
          1,
          0,
          0,
          0,
          0,
          1,
          1,
          0,
          1,
          0,
          0,
          0,
          1,
          1,
          1,
          0,
          1,
          0,
          1,
          0,
          0,
          0,
          0,
          0,
          1,
          0,
          1,
          0,
          0,
          0,
          0,
          1,
          1,
          0,
          1,
          1,
          0,
          0,
          0,
          0,
          0,
          1,
          0,
          0,
          0,
          1,
          1,
          0,
          0,
          0,
          1,
          0,
          0,
          0,
          0,
          1,
          0,
          0,
          0,
          0,
          1,
          0,
          0,
          0,
          1,
          1,
          0,
          0,
          1,
          0,
          0,
          1,
          0,
          1,
          0,
          0,
          0,
          0,
          0,
          1,
          0,
          0,
          0,
          0,
          0,
          0,
          1,
          1,
          0,
          0,
          1,
          1,
          0,
          1,
          0,
          1,
          0,
          0,
          0,
          0,
          0,
          1,
          1,
          1,
          1,
          0,
          1,
          0,
          0,
          1,
          0,
          0,
          0,
          0,
          0,
          0,
          1,
          1,
          1,
          0,
          0,
          0,
          0,
          1,
          0,
          1,
          0,
          0,
          0,
          1,
          1,
          1,
          1,
          1,
          0,
          0,
          0,
          0,
          0,
          1,
          0,
          0,
          0,
          0,
          0,
          1,
          0,
          0,
          1,
          1,
          1,
          1,
          0,
          0,
          1,
          1,
          0,
          1,
          0,
          0,
          0,
          0,
          0,
          1,
          0,
          0,
          0,
          0,
          0,
          1,
          1,
          0,
          1,
          0,
          0,
          0,
          0,
          0,
          1,
          0,
          0,
          0,
          0,
          0,
          0,
          0,
          0,
          1,
          0,
          1,
          0,
          1,
          0,
          0,
          0,
          0,
          1,
          1,
          1,
          0,
          1,
          1,
          0,
          1,
          0,
          1,
          0,
          0,
          1,
          0,
          0,
          0,
          0,
          0,
          0,
          1,
          0,
          0,
          0,
          0,
          0,
          0,
          1,
          0,
          0,
          0,
          1,
          0,
          0,
          0,
          0,
          0,
          1,
          1,
          0,
          1,
          0,
          0,
          0,
          1,
          0,
          0,
          0,
          0,
          1,
          0,
          1,
          0,
          0,
          0,
          1,
          0,
          0,
          0,
          1,
          0,
          0,
          0,
          1,
          0,
          0,
          0,
          1,
          1,
          0,
          0,
          0,
          0,
          0,
          0,
          0,
          1,
          1,
          1,
          0,
          0,
          0,
          1,
          1,
          0,
          0,
          0,
          1,
          0,
          0,
          1,
          0,
          0,
          0,
          0,
          0,
          0,
          1,
          1,
          1,
          0,
          1,
          0,
          1,
          0,
          1,
          0,
          1,
          0,
          0,
          0,
          1,
          0,
          1,
          1,
          0,
          0,
          0,
          0,
          0,
          0,
          0,
          0,
          0,
          0,
          0,
          0,
          0,
          0,
          0,
          0,
          1,
          0,
          0,
          0,
          1,
          0,
          0,
          1,
          1,
          0,
          0,
          1,
          0,
          0,
          0,
          0,
          0,
          1,
          1,
          0,
          1,
          1,
          1,
          1,
          1,
          0,
          0,
          0,
          1,
          1,
          0,
          1,
          0,
          1,
          1,
          1,
          0,
          1,
          0,
          0,
          0,
          0,
          0,
          0,
          1,
          0,
          0,
          0,
          0,
          1,
          1,
          0,
          0,
          0,
          0,
          0,
          1,
          0,
          0,
          1,
          1,
          0,
          0,
          0,
          1,
          0,
          0,
          0,
          0,
          0,
          1,
          1,
          0,
          0,
          0,
          0,
          0,
          0,
          0,
          1,
          1,
          1,
          1,
          0,
          0,
          0,
          0,
          0,
          0,
          1,
          0,
          0,
          0,
          0,
          1,
          0,
          0,
          1,
          1,
          1,
          0,
          1,
          1,
          0,
          0,
          1,
          1,
          0,
          0,
          1,
          0,
          0,
          0,
          1,
          0,
          0,
          1,
          0,
          1,
          0,
          0,
          0,
          0,
          1,
          0,
          0,
          1,
          0,
          1,
          0,
          1,
          1,
          0,
          0,
          1,
          1,
          0,
          0,
          1,
          0
         ],
         "legendgroup": "",
         "marker": {
          "colors": [
           "#377BA6",
           "#377BA6",
           "#E1812B",
           "#377BA6",
           "#377BA6",
           "#377BA6",
           "#377BA6",
           "#E1812B",
           "#E1812B",
           "#377BA6",
           "#377BA6",
           "#E1812B",
           "#E1812B",
           "#E1812B",
           "#377BA6",
           "#377BA6",
           "#377BA6",
           "#E1812B",
           "#E1812B",
           "#E1812B",
           "#377BA6",
           "#E1812B",
           "#377BA6",
           "#E1812B",
           "#377BA6",
           "#377BA6",
           "#E1812B",
           "#377BA6",
           "#377BA6",
           "#377BA6",
           "#377BA6",
           "#377BA6",
           "#E1812B",
           "#377BA6",
           "#E1812B",
           "#377BA6",
           "#377BA6",
           "#377BA6",
           "#377BA6",
           "#E1812B",
           "#E1812B",
           "#377BA6",
           "#E1812B",
           "#E1812B",
           "#E1812B",
           "#E1812B",
           "#E1812B",
           "#377BA6",
           "#377BA6",
           "#E1812B",
           "#377BA6",
           "#377BA6",
           "#377BA6",
           "#377BA6",
           "#377BA6",
           "#377BA6",
           "#E1812B",
           "#E1812B",
           "#E1812B",
           "#E1812B",
           "#377BA6",
           "#E1812B",
           "#377BA6",
           "#377BA6",
           "#E1812B",
           "#377BA6",
           "#377BA6",
           "#E1812B",
           "#377BA6",
           "#377BA6",
           "#377BA6",
           "#377BA6",
           "#377BA6",
           "#377BA6",
           "#377BA6",
           "#377BA6",
           "#E1812B",
           "#377BA6",
           "#E1812B",
           "#377BA6",
           "#377BA6",
           "#377BA6",
           "#377BA6",
           "#E1812B",
           "#377BA6",
           "#E1812B",
           "#377BA6",
           "#377BA6",
           "#377BA6",
           "#377BA6",
           "#377BA6",
           "#377BA6",
           "#377BA6",
           "#E1812B",
           "#377BA6",
           "#E1812B",
           "#377BA6",
           "#377BA6",
           "#377BA6",
           "#377BA6",
           "#E1812B",
           "#E1812B",
           "#377BA6",
           "#E1812B",
           "#377BA6",
           "#377BA6",
           "#377BA6",
           "#377BA6",
           "#E1812B",
           "#E1812B",
           "#377BA6",
           "#377BA6",
           "#377BA6",
           "#377BA6",
           "#377BA6",
           "#377BA6",
           "#E1812B",
           "#377BA6",
           "#E1812B",
           "#377BA6",
           "#377BA6",
           "#E1812B",
           "#377BA6",
           "#377BA6",
           "#377BA6",
           "#E1812B",
           "#377BA6",
           "#377BA6",
           "#E1812B",
           "#377BA6",
           "#377BA6",
           "#377BA6",
           "#377BA6",
           "#E1812B",
           "#377BA6",
           "#E1812B",
           "#E1812B",
           "#377BA6",
           "#377BA6",
           "#E1812B",
           "#377BA6",
           "#377BA6",
           "#377BA6",
           "#377BA6",
           "#377BA6",
           "#377BA6",
           "#E1812B",
           "#377BA6",
           "#E1812B",
           "#377BA6",
           "#E1812B",
           "#E1812B",
           "#377BA6",
           "#377BA6",
           "#377BA6",
           "#E1812B",
           "#377BA6",
           "#377BA6",
           "#E1812B",
           "#377BA6",
           "#E1812B",
           "#E1812B",
           "#E1812B",
           "#377BA6",
           "#377BA6",
           "#377BA6",
           "#377BA6",
           "#377BA6",
           "#377BA6",
           "#377BA6",
           "#E1812B",
           "#377BA6",
           "#377BA6",
           "#E1812B",
           "#E1812B",
           "#377BA6",
           "#E1812B",
           "#377BA6",
           "#377BA6",
           "#377BA6",
           "#377BA6",
           "#377BA6",
           "#E1812B",
           "#377BA6",
           "#377BA6",
           "#E1812B",
           "#E1812B",
           "#377BA6",
           "#377BA6",
           "#E1812B",
           "#377BA6",
           "#377BA6",
           "#377BA6",
           "#377BA6",
           "#377BA6",
           "#E1812B",
           "#E1812B",
           "#377BA6",
           "#E1812B",
           "#E1812B",
           "#E1812B",
           "#E1812B",
           "#E1812B",
           "#377BA6",
           "#377BA6",
           "#377BA6",
           "#E1812B",
           "#377BA6",
           "#E1812B",
           "#377BA6",
           "#377BA6",
           "#377BA6",
           "#377BA6",
           "#E1812B",
           "#377BA6",
           "#377BA6",
           "#E1812B",
           "#377BA6",
           "#377BA6",
           "#377BA6",
           "#377BA6",
           "#377BA6",
           "#377BA6",
           "#377BA6",
           "#377BA6",
           "#377BA6",
           "#E1812B",
           "#377BA6",
           "#377BA6",
           "#377BA6",
           "#377BA6",
           "#377BA6",
           "#377BA6",
           "#377BA6",
           "#377BA6",
           "#377BA6",
           "#E1812B",
           "#377BA6",
           "#377BA6",
           "#377BA6",
           "#377BA6",
           "#E1812B",
           "#377BA6",
           "#377BA6",
           "#377BA6",
           "#377BA6",
           "#377BA6",
           "#E1812B",
           "#E1812B",
           "#377BA6",
           "#E1812B",
           "#377BA6",
           "#E1812B",
           "#E1812B",
           "#377BA6",
           "#E1812B",
           "#E1812B",
           "#E1812B",
           "#377BA6",
           "#E1812B",
           "#E1812B",
           "#E1812B",
           "#377BA6",
           "#377BA6",
           "#377BA6",
           "#377BA6",
           "#377BA6",
           "#E1812B",
           "#E1812B",
           "#377BA6",
           "#E1812B",
           "#377BA6",
           "#377BA6",
           "#E1812B",
           "#E1812B",
           "#E1812B",
           "#377BA6",
           "#377BA6",
           "#E1812B",
           "#377BA6",
           "#377BA6",
           "#377BA6",
           "#E1812B",
           "#377BA6",
           "#E1812B",
           "#377BA6",
           "#377BA6",
           "#377BA6",
           "#377BA6",
           "#377BA6",
           "#377BA6",
           "#377BA6",
           "#377BA6",
           "#E1812B",
           "#377BA6",
           "#377BA6",
           "#377BA6",
           "#E1812B",
           "#E1812B",
           "#377BA6",
           "#E1812B",
           "#377BA6",
           "#E1812B",
           "#377BA6",
           "#377BA6",
           "#377BA6",
           "#E1812B",
           "#377BA6",
           "#377BA6",
           "#E1812B",
           "#377BA6",
           "#E1812B",
           "#377BA6",
           "#E1812B",
           "#E1812B",
           "#377BA6",
           "#377BA6",
           "#E1812B",
           "#E1812B",
           "#E1812B",
           "#377BA6",
           "#377BA6",
           "#377BA6",
           "#E1812B",
           "#377BA6",
           "#377BA6",
           "#377BA6",
           "#377BA6",
           "#E1812B",
           "#377BA6",
           "#377BA6",
           "#E1812B",
           "#E1812B",
           "#377BA6",
           "#E1812B",
           "#E1812B",
           "#377BA6",
           "#377BA6",
           "#377BA6",
           "#377BA6",
           "#377BA6",
           "#377BA6",
           "#E1812B",
           "#377BA6",
           "#377BA6",
           "#377BA6",
           "#E1812B",
           "#377BA6",
           "#377BA6",
           "#377BA6",
           "#377BA6",
           "#377BA6",
           "#E1812B",
           "#377BA6",
           "#E1812B",
           "#E1812B",
           "#377BA6",
           "#377BA6",
           "#377BA6",
           "#377BA6",
           "#377BA6",
           "#E1812B",
           "#377BA6",
           "#377BA6",
           "#377BA6",
           "#E1812B",
           "#377BA6",
           "#377BA6",
           "#E1812B",
           "#377BA6",
           "#E1812B",
           "#377BA6",
           "#377BA6",
           "#377BA6",
           "#377BA6",
           "#377BA6",
           "#377BA6",
           "#E1812B",
           "#E1812B",
           "#E1812B",
           "#377BA6",
           "#377BA6",
           "#E1812B",
           "#377BA6",
           "#377BA6",
           "#377BA6",
           "#E1812B",
           "#377BA6",
           "#377BA6",
           "#E1812B",
           "#E1812B",
           "#E1812B",
           "#E1812B",
           "#377BA6",
           "#E1812B",
           "#377BA6",
           "#E1812B",
           "#377BA6",
           "#377BA6",
           "#377BA6",
           "#377BA6",
           "#377BA6",
           "#377BA6",
           "#377BA6",
           "#E1812B",
           "#377BA6",
           "#E1812B",
           "#E1812B",
           "#377BA6",
           "#377BA6",
           "#377BA6",
           "#377BA6",
           "#377BA6",
           "#E1812B",
           "#E1812B",
           "#377BA6",
           "#E1812B",
           "#E1812B",
           "#377BA6",
           "#377BA6",
           "#377BA6",
           "#377BA6",
           "#E1812B",
           "#E1812B",
           "#E1812B",
           "#377BA6",
           "#377BA6",
           "#E1812B",
           "#377BA6",
           "#377BA6",
           "#E1812B",
           "#377BA6",
           "#377BA6",
           "#377BA6",
           "#E1812B",
           "#E1812B",
           "#377BA6",
           "#377BA6",
           "#377BA6",
           "#377BA6",
           "#E1812B",
           "#E1812B",
           "#377BA6",
           "#E1812B",
           "#E1812B",
           "#377BA6",
           "#377BA6",
           "#377BA6",
           "#E1812B",
           "#E1812B",
           "#377BA6",
           "#377BA6",
           "#E1812B",
           "#377BA6",
           "#377BA6",
           "#377BA6",
           "#E1812B",
           "#377BA6",
           "#377BA6",
           "#E1812B",
           "#E1812B",
           "#E1812B",
           "#377BA6",
           "#377BA6",
           "#E1812B",
           "#E1812B",
           "#377BA6",
           "#377BA6",
           "#377BA6",
           "#E1812B",
           "#377BA6",
           "#377BA6",
           "#377BA6",
           "#E1812B",
           "#377BA6",
           "#E1812B",
           "#E1812B",
           "#E1812B",
           "#377BA6",
           "#377BA6",
           "#E1812B",
           "#377BA6",
           "#377BA6",
           "#377BA6",
           "#E1812B",
           "#377BA6",
           "#377BA6",
           "#E1812B",
           "#377BA6",
           "#377BA6",
           "#377BA6",
           "#E1812B",
           "#377BA6",
           "#377BA6",
           "#377BA6",
           "#377BA6",
           "#377BA6",
           "#E1812B",
           "#377BA6",
           "#377BA6",
           "#E1812B",
           "#377BA6",
           "#E1812B",
           "#377BA6",
           "#377BA6",
           "#377BA6",
           "#377BA6",
           "#377BA6",
           "#E1812B",
           "#E1812B",
           "#377BA6",
           "#377BA6",
           "#377BA6",
           "#377BA6",
           "#E1812B",
           "#377BA6",
           "#377BA6",
           "#E1812B",
           "#E1812B",
           "#E1812B",
           "#377BA6",
           "#377BA6",
           "#E1812B",
           "#377BA6",
           "#377BA6",
           "#377BA6",
           "#377BA6",
           "#377BA6",
           "#377BA6",
           "#377BA6",
           "#377BA6",
           "#377BA6",
           "#E1812B",
           "#377BA6",
           "#E1812B",
           "#E1812B",
           "#377BA6",
           "#E1812B",
           "#377BA6",
           "#377BA6",
           "#E1812B",
           "#377BA6",
           "#377BA6",
           "#377BA6",
           "#377BA6",
           "#377BA6",
           "#377BA6",
           "#E1812B",
           "#377BA6",
           "#377BA6",
           "#377BA6",
           "#E1812B",
           "#377BA6",
           "#377BA6",
           "#377BA6",
           "#377BA6",
           "#377BA6",
           "#377BA6",
           "#377BA6",
           "#E1812B",
           "#E1812B",
           "#377BA6",
           "#377BA6",
           "#E1812B",
           "#377BA6",
           "#377BA6",
           "#377BA6",
           "#E1812B",
           "#377BA6",
           "#377BA6",
           "#377BA6",
           "#377BA6",
           "#377BA6",
           "#377BA6",
           "#377BA6",
           "#E1812B",
           "#E1812B",
           "#E1812B",
           "#377BA6",
           "#377BA6",
           "#377BA6",
           "#377BA6",
           "#377BA6",
           "#E1812B",
           "#377BA6",
           "#E1812B",
           "#377BA6",
           "#E1812B",
           "#E1812B",
           "#E1812B",
           "#377BA6",
           "#377BA6",
           "#E1812B",
           "#377BA6",
           "#377BA6",
           "#377BA6",
           "#E1812B",
           "#377BA6",
           "#E1812B",
           "#377BA6",
           "#E1812B",
           "#377BA6",
           "#E1812B",
           "#E1812B",
           "#377BA6",
           "#E1812B",
           "#377BA6",
           "#377BA6",
           "#E1812B",
           "#E1812B",
           "#377BA6",
           "#377BA6",
           "#377BA6",
           "#377BA6",
           "#377BA6",
           "#377BA6",
           "#377BA6",
           "#E1812B",
           "#E1812B",
           "#E1812B",
           "#377BA6",
           "#377BA6",
           "#377BA6",
           "#377BA6",
           "#377BA6",
           "#377BA6",
           "#377BA6",
           "#377BA6",
           "#377BA6",
           "#377BA6",
           "#377BA6",
           "#E1812B",
           "#377BA6",
           "#377BA6",
           "#377BA6",
           "#377BA6",
           "#E1812B",
           "#377BA6",
           "#E1812B",
           "#377BA6",
           "#377BA6",
           "#377BA6",
           "#377BA6",
           "#377BA6",
           "#377BA6",
           "#377BA6",
           "#377BA6",
           "#E1812B",
           "#377BA6",
           "#377BA6",
           "#E1812B",
           "#E1812B",
           "#E1812B",
           "#377BA6",
           "#377BA6",
           "#377BA6",
           "#377BA6",
           "#E1812B",
           "#E1812B",
           "#377BA6",
           "#377BA6",
           "#377BA6",
           "#377BA6",
           "#E1812B",
           "#E1812B",
           "#377BA6",
           "#377BA6",
           "#377BA6",
           "#377BA6",
           "#377BA6",
           "#377BA6",
           "#377BA6",
           "#377BA6",
           "#E1812B",
           "#377BA6",
           "#377BA6",
           "#377BA6",
           "#377BA6",
           "#E1812B",
           "#377BA6",
           "#E1812B",
           "#377BA6",
           "#E1812B",
           "#377BA6",
           "#377BA6",
           "#E1812B",
           "#E1812B",
           "#377BA6",
           "#377BA6",
           "#377BA6",
           "#377BA6",
           "#377BA6",
           "#377BA6",
           "#377BA6",
           "#E1812B",
           "#377BA6",
           "#377BA6",
           "#E1812B",
           "#E1812B",
           "#377BA6",
           "#E1812B",
           "#E1812B",
           "#377BA6",
           "#377BA6",
           "#E1812B",
           "#377BA6",
           "#377BA6",
           "#377BA6",
           "#377BA6",
           "#E1812B",
           "#E1812B",
           "#E1812B",
           "#E1812B",
           "#E1812B",
           "#377BA6",
           "#377BA6",
           "#E1812B",
           "#377BA6",
           "#377BA6",
           "#377BA6",
           "#377BA6",
           "#377BA6",
           "#E1812B",
           "#377BA6",
           "#377BA6",
           "#E1812B",
           "#E1812B",
           "#E1812B",
           "#377BA6",
           "#377BA6",
           "#E1812B",
           "#377BA6",
           "#377BA6",
           "#377BA6",
           "#E1812B",
           "#377BA6",
           "#377BA6",
           "#E1812B",
           "#377BA6",
           "#E1812B",
           "#E1812B",
           "#E1812B",
           "#E1812B",
           "#377BA6",
           "#377BA6",
           "#377BA6",
           "#377BA6",
           "#E1812B",
           "#377BA6",
           "#E1812B",
           "#377BA6",
           "#E1812B",
           "#E1812B",
           "#377BA6",
           "#377BA6",
           "#377BA6",
           "#377BA6",
           "#377BA6",
           "#E1812B",
           "#E1812B",
           "#377BA6",
           "#E1812B",
           "#377BA6",
           "#377BA6",
           "#377BA6",
           "#377BA6",
           "#377BA6",
           "#377BA6",
           "#E1812B",
           "#377BA6",
           "#377BA6",
           "#E1812B",
           "#377BA6",
           "#377BA6",
           "#377BA6",
           "#377BA6",
           "#E1812B",
           "#377BA6",
           "#377BA6",
           "#E1812B",
           "#377BA6",
           "#E1812B",
           "#377BA6",
           "#377BA6",
           "#E1812B",
           "#377BA6",
           "#377BA6",
           "#377BA6",
           "#377BA6",
           "#E1812B",
           "#E1812B",
           "#E1812B",
           "#377BA6",
           "#E1812B",
           "#377BA6",
           "#377BA6",
           "#377BA6",
           "#377BA6",
           "#E1812B",
           "#377BA6",
           "#377BA6",
           "#E1812B",
           "#E1812B",
           "#377BA6",
           "#377BA6",
           "#377BA6",
           "#377BA6",
           "#E1812B",
           "#E1812B",
           "#E1812B",
           "#377BA6",
           "#377BA6",
           "#377BA6",
           "#377BA6",
           "#377BA6",
           "#377BA6",
           "#377BA6",
           "#E1812B",
           "#E1812B",
           "#377BA6",
           "#377BA6",
           "#E1812B",
           "#377BA6",
           "#377BA6",
           "#377BA6",
           "#E1812B",
           "#377BA6",
           "#E1812B",
           "#E1812B",
           "#377BA6",
           "#E1812B",
           "#377BA6",
           "#E1812B",
           "#E1812B",
           "#E1812B",
           "#377BA6",
           "#E1812B",
           "#377BA6",
           "#377BA6",
           "#E1812B",
           "#E1812B",
           "#E1812B",
           "#377BA6",
           "#377BA6",
           "#377BA6",
           "#377BA6",
           "#377BA6",
           "#E1812B",
           "#377BA6",
           "#377BA6",
           "#377BA6",
           "#E1812B",
           "#377BA6",
           "#377BA6",
           "#377BA6",
           "#377BA6",
           "#E1812B",
           "#E1812B",
           "#377BA6",
           "#377BA6",
           "#377BA6",
           "#E1812B",
           "#377BA6",
           "#377BA6",
           "#377BA6",
           "#E1812B",
           "#E1812B",
           "#377BA6",
           "#377BA6",
           "#E1812B",
           "#377BA6",
           "#377BA6",
           "#377BA6",
           "#E1812B",
           "#377BA6",
           "#377BA6",
           "#377BA6",
           "#E1812B",
           "#377BA6",
           "#E1812B",
           "#377BA6",
           "#377BA6",
           "#377BA6",
           "#E1812B",
           "#E1812B",
           "#377BA6",
           "#E1812B",
           "#377BA6",
           "#377BA6",
           "#377BA6",
           "#E1812B",
           "#377BA6",
           "#377BA6",
           "#377BA6",
           "#E1812B",
           "#E1812B",
           "#377BA6",
           "#377BA6",
           "#377BA6",
           "#E1812B",
           "#E1812B",
           "#377BA6",
           "#E1812B",
           "#377BA6",
           "#377BA6",
           "#377BA6",
           "#377BA6",
           "#E1812B",
           "#377BA6",
           "#E1812B",
           "#377BA6",
           "#377BA6",
           "#E1812B",
           "#E1812B",
           "#377BA6",
           "#377BA6",
           "#E1812B",
           "#377BA6",
           "#E1812B",
           "#E1812B",
           "#377BA6",
           "#377BA6",
           "#377BA6",
           "#377BA6",
           "#377BA6",
           "#377BA6",
           "#E1812B",
           "#E1812B",
           "#E1812B",
           "#E1812B",
           "#E1812B",
           "#377BA6",
           "#E1812B",
           "#377BA6",
           "#377BA6",
           "#E1812B",
           "#377BA6",
           "#377BA6",
           "#E1812B",
           "#E1812B",
           "#E1812B",
           "#377BA6",
           "#377BA6",
           "#377BA6",
           "#377BA6",
           "#377BA6",
           "#E1812B",
           "#377BA6",
           "#377BA6",
           "#E1812B",
           "#377BA6",
           "#E1812B",
           "#E1812B",
           "#377BA6",
           "#377BA6",
           "#E1812B",
           "#E1812B",
           "#377BA6",
           "#377BA6",
           "#377BA6",
           "#E1812B",
           "#377BA6",
           "#377BA6",
           "#E1812B",
           "#E1812B",
           "#377BA6",
           "#E1812B",
           "#377BA6",
           "#377BA6",
           "#377BA6",
           "#377BA6",
           "#E1812B",
           "#377BA6",
           "#E1812B",
           "#E1812B",
           "#E1812B",
           "#377BA6",
           "#E1812B",
           "#377BA6",
           "#377BA6",
           "#377BA6",
           "#377BA6",
           "#377BA6",
           "#E1812B",
           "#377BA6",
           "#E1812B",
           "#E1812B",
           "#E1812B",
           "#377BA6",
           "#E1812B",
           "#E1812B",
           "#E1812B",
           "#377BA6",
           "#377BA6",
           "#377BA6",
           "#377BA6",
           "#E1812B",
           "#377BA6",
           "#E1812B",
           "#E1812B",
           "#377BA6",
           "#E1812B",
           "#377BA6",
           "#377BA6",
           "#377BA6",
           "#377BA6",
           "#377BA6",
           "#E1812B",
           "#E1812B",
           "#E1812B",
           "#377BA6",
           "#E1812B",
           "#377BA6",
           "#377BA6",
           "#E1812B",
           "#E1812B",
           "#377BA6",
           "#377BA6",
           "#377BA6",
           "#E1812B",
           "#377BA6",
           "#E1812B",
           "#377BA6",
           "#E1812B",
           "#E1812B",
           "#E1812B",
           "#377BA6",
           "#377BA6",
           "#377BA6",
           "#377BA6",
           "#377BA6",
           "#377BA6",
           "#E1812B",
           "#377BA6",
           "#E1812B",
           "#377BA6",
           "#377BA6",
           "#E1812B",
           "#E1812B",
           "#377BA6",
           "#E1812B",
           "#377BA6",
           "#377BA6",
           "#377BA6",
           "#E1812B",
           "#377BA6",
           "#377BA6",
           "#E1812B",
           "#377BA6",
           "#377BA6",
           "#377BA6",
           "#377BA6",
           "#377BA6",
           "#E1812B",
           "#377BA6",
           "#E1812B",
           "#377BA6",
           "#377BA6",
           "#377BA6",
           "#377BA6",
           "#377BA6",
           "#377BA6",
           "#377BA6",
           "#377BA6",
           "#377BA6",
           "#377BA6",
           "#E1812B",
           "#E1812B",
           "#E1812B",
           "#377BA6",
           "#377BA6",
           "#377BA6",
           "#377BA6",
           "#377BA6",
           "#377BA6",
           "#377BA6",
           "#E1812B",
           "#377BA6",
           "#377BA6",
           "#377BA6",
           "#377BA6",
           "#E1812B",
           "#377BA6",
           "#377BA6",
           "#377BA6",
           "#377BA6",
           "#377BA6",
           "#377BA6",
           "#377BA6",
           "#377BA6",
           "#377BA6",
           "#E1812B",
           "#E1812B",
           "#E1812B",
           "#377BA6",
           "#E1812B",
           "#E1812B",
           "#377BA6",
           "#377BA6",
           "#E1812B",
           "#E1812B",
           "#377BA6",
           "#377BA6",
           "#377BA6",
           "#377BA6",
           "#E1812B",
           "#377BA6",
           "#E1812B",
           "#E1812B",
           "#E1812B",
           "#377BA6",
           "#377BA6",
           "#377BA6",
           "#377BA6",
           "#377BA6",
           "#377BA6",
           "#E1812B",
           "#377BA6",
           "#377BA6",
           "#377BA6",
           "#377BA6",
           "#E1812B",
           "#E1812B",
           "#E1812B",
           "#377BA6",
           "#377BA6",
           "#377BA6",
           "#377BA6",
           "#377BA6",
           "#E1812B",
           "#377BA6",
           "#377BA6",
           "#E1812B",
           "#E1812B",
           "#E1812B",
           "#E1812B",
           "#E1812B",
           "#377BA6",
           "#377BA6",
           "#377BA6",
           "#377BA6",
           "#377BA6",
           "#377BA6",
           "#377BA6",
           "#377BA6",
           "#377BA6",
           "#377BA6",
           "#E1812B",
           "#377BA6",
           "#E1812B",
           "#E1812B",
           "#E1812B",
           "#377BA6",
           "#377BA6",
           "#377BA6",
           "#E1812B",
           "#E1812B",
           "#E1812B",
           "#377BA6",
           "#377BA6",
           "#377BA6",
           "#E1812B",
           "#E1812B",
           "#377BA6",
           "#E1812B",
           "#E1812B",
           "#377BA6",
           "#377BA6",
           "#377BA6",
           "#E1812B",
           "#377BA6",
           "#377BA6",
           "#E1812B",
           "#E1812B",
           "#377BA6",
           "#377BA6",
           "#377BA6",
           "#377BA6",
           "#E1812B",
           "#377BA6",
           "#377BA6",
           "#377BA6",
           "#377BA6",
           "#377BA6",
           "#377BA6",
           "#377BA6",
           "#377BA6",
           "#377BA6",
           "#377BA6",
           "#377BA6",
           "#377BA6",
           "#377BA6",
           "#E1812B",
           "#377BA6",
           "#E1812B",
           "#377BA6",
           "#377BA6",
           "#E1812B",
           "#377BA6",
           "#377BA6",
           "#E1812B",
           "#377BA6",
           "#E1812B",
           "#377BA6",
           "#E1812B",
           "#377BA6",
           "#E1812B",
           "#377BA6",
           "#377BA6",
           "#E1812B",
           "#E1812B",
           "#E1812B",
           "#377BA6",
           "#E1812B",
           "#377BA6",
           "#E1812B",
           "#E1812B",
           "#377BA6",
           "#377BA6",
           "#E1812B",
           "#377BA6",
           "#377BA6",
           "#377BA6",
           "#377BA6",
           "#E1812B",
           "#377BA6",
           "#E1812B",
           "#377BA6",
           "#377BA6",
           "#E1812B",
           "#E1812B",
           "#E1812B",
           "#377BA6",
           "#377BA6",
           "#377BA6",
           "#377BA6",
           "#377BA6",
           "#377BA6",
           "#E1812B",
           "#E1812B",
           "#377BA6",
           "#E1812B",
           "#377BA6",
           "#E1812B",
           "#377BA6",
           "#E1812B",
           "#377BA6",
           "#377BA6",
           "#377BA6",
           "#377BA6",
           "#377BA6",
           "#E1812B",
           "#377BA6",
           "#E1812B",
           "#E1812B",
           "#377BA6",
           "#E1812B",
           "#377BA6",
           "#E1812B",
           "#E1812B",
           "#377BA6",
           "#E1812B",
           "#E1812B",
           "#377BA6",
           "#377BA6",
           "#377BA6",
           "#E1812B",
           "#E1812B",
           "#E1812B",
           "#377BA6",
           "#377BA6",
           "#E1812B",
           "#E1812B",
           "#377BA6",
           "#377BA6",
           "#377BA6",
           "#E1812B",
           "#E1812B",
           "#E1812B",
           "#E1812B",
           "#E1812B",
           "#377BA6",
           "#E1812B",
           "#377BA6",
           "#377BA6",
           "#377BA6",
           "#377BA6",
           "#377BA6",
           "#377BA6",
           "#377BA6",
           "#E1812B",
           "#E1812B",
           "#377BA6",
           "#377BA6",
           "#377BA6",
           "#E1812B",
           "#377BA6",
           "#377BA6",
           "#E1812B",
           "#377BA6",
           "#377BA6",
           "#377BA6",
           "#E1812B",
           "#377BA6",
           "#E1812B",
           "#E1812B",
           "#377BA6",
           "#377BA6",
           "#377BA6",
           "#E1812B",
           "#E1812B",
           "#E1812B",
           "#377BA6",
           "#377BA6",
           "#E1812B",
           "#377BA6",
           "#E1812B",
           "#E1812B",
           "#E1812B",
           "#377BA6",
           "#E1812B",
           "#377BA6",
           "#E1812B",
           "#377BA6",
           "#E1812B",
           "#E1812B",
           "#377BA6",
           "#377BA6",
           "#377BA6",
           "#E1812B",
           "#377BA6",
           "#E1812B",
           "#377BA6",
           "#377BA6",
           "#E1812B",
           "#377BA6",
           "#377BA6",
           "#377BA6",
           "#E1812B",
           "#E1812B",
           "#E1812B",
           "#377BA6",
           "#E1812B",
           "#E1812B",
           "#E1812B",
           "#377BA6",
           "#377BA6",
           "#377BA6",
           "#377BA6",
           "#E1812B",
           "#E1812B",
           "#377BA6",
           "#377BA6",
           "#377BA6",
           "#E1812B",
           "#E1812B",
           "#377BA6",
           "#377BA6",
           "#E1812B",
           "#E1812B",
           "#377BA6",
           "#E1812B",
           "#E1812B",
           "#377BA6",
           "#377BA6",
           "#377BA6",
           "#377BA6",
           "#E1812B",
           "#E1812B",
           "#377BA6",
           "#377BA6",
           "#E1812B",
           "#E1812B",
           "#377BA6",
           "#377BA6",
           "#E1812B",
           "#377BA6",
           "#E1812B",
           "#377BA6",
           "#377BA6",
           "#E1812B",
           "#E1812B",
           "#E1812B",
           "#E1812B",
           "#377BA6",
           "#377BA6",
           "#377BA6",
           "#E1812B",
           "#377BA6",
           "#E1812B",
           "#377BA6",
           "#377BA6",
           "#E1812B",
           "#377BA6",
           "#377BA6",
           "#377BA6",
           "#377BA6",
           "#377BA6",
           "#E1812B",
           "#377BA6",
           "#377BA6",
           "#377BA6",
           "#377BA6",
           "#E1812B",
           "#E1812B",
           "#377BA6",
           "#377BA6",
           "#377BA6",
           "#E1812B",
           "#E1812B",
           "#377BA6",
           "#E1812B",
           "#E1812B",
           "#377BA6",
           "#377BA6",
           "#E1812B",
           "#377BA6",
           "#377BA6",
           "#E1812B",
           "#377BA6",
           "#377BA6",
           "#E1812B",
           "#377BA6",
           "#377BA6",
           "#377BA6",
           "#377BA6",
           "#377BA6",
           "#E1812B",
           "#E1812B",
           "#E1812B",
           "#E1812B",
           "#E1812B",
           "#E1812B",
           "#E1812B",
           "#377BA6",
           "#E1812B",
           "#377BA6",
           "#E1812B",
           "#377BA6",
           "#E1812B",
           "#377BA6",
           "#377BA6",
           "#377BA6",
           "#E1812B",
           "#377BA6",
           "#377BA6",
           "#E1812B",
           "#377BA6",
           "#377BA6",
           "#377BA6",
           "#E1812B",
           "#377BA6",
           "#E1812B",
           "#377BA6",
           "#377BA6",
           "#E1812B",
           "#E1812B",
           "#E1812B",
           "#377BA6",
           "#E1812B",
           "#377BA6",
           "#377BA6",
           "#377BA6",
           "#377BA6",
           "#377BA6",
           "#377BA6",
           "#377BA6",
           "#377BA6",
           "#377BA6",
           "#377BA6",
           "#377BA6",
           "#E1812B",
           "#377BA6",
           "#377BA6",
           "#377BA6",
           "#377BA6",
           "#E1812B",
           "#377BA6",
           "#377BA6",
           "#E1812B",
           "#377BA6",
           "#E1812B",
           "#377BA6",
           "#377BA6",
           "#377BA6",
           "#377BA6",
           "#377BA6",
           "#377BA6",
           "#377BA6",
           "#E1812B",
           "#377BA6",
           "#E1812B",
           "#377BA6",
           "#377BA6",
           "#E1812B",
           "#E1812B",
           "#377BA6",
           "#E1812B",
           "#377BA6",
           "#377BA6",
           "#E1812B",
           "#377BA6",
           "#377BA6",
           "#377BA6",
           "#377BA6",
           "#377BA6",
           "#377BA6",
           "#377BA6",
           "#E1812B",
           "#377BA6",
           "#377BA6",
           "#377BA6",
           "#377BA6",
           "#E1812B",
           "#E1812B",
           "#377BA6",
           "#377BA6",
           "#E1812B",
           "#E1812B",
           "#E1812B",
           "#377BA6",
           "#E1812B",
           "#377BA6",
           "#377BA6",
           "#377BA6",
           "#377BA6",
           "#E1812B",
           "#E1812B",
           "#377BA6",
           "#E1812B",
           "#377BA6",
           "#377BA6",
           "#377BA6",
           "#E1812B",
           "#E1812B",
           "#E1812B",
           "#377BA6",
           "#E1812B",
           "#377BA6",
           "#E1812B",
           "#377BA6",
           "#377BA6",
           "#377BA6",
           "#377BA6",
           "#377BA6",
           "#E1812B",
           "#377BA6",
           "#E1812B",
           "#377BA6",
           "#377BA6",
           "#377BA6",
           "#377BA6",
           "#E1812B",
           "#E1812B",
           "#377BA6",
           "#E1812B",
           "#E1812B",
           "#377BA6",
           "#377BA6",
           "#377BA6",
           "#377BA6",
           "#377BA6",
           "#E1812B",
           "#377BA6",
           "#377BA6",
           "#377BA6",
           "#E1812B",
           "#E1812B",
           "#377BA6",
           "#377BA6",
           "#377BA6",
           "#E1812B",
           "#377BA6",
           "#377BA6",
           "#377BA6",
           "#377BA6",
           "#E1812B",
           "#377BA6",
           "#377BA6",
           "#377BA6",
           "#377BA6",
           "#E1812B",
           "#377BA6",
           "#377BA6",
           "#377BA6",
           "#E1812B",
           "#E1812B",
           "#377BA6",
           "#377BA6",
           "#E1812B",
           "#377BA6",
           "#377BA6",
           "#E1812B",
           "#377BA6",
           "#E1812B",
           "#377BA6",
           "#377BA6",
           "#377BA6",
           "#377BA6",
           "#377BA6",
           "#E1812B",
           "#377BA6",
           "#377BA6",
           "#377BA6",
           "#377BA6",
           "#377BA6",
           "#377BA6",
           "#E1812B",
           "#E1812B",
           "#377BA6",
           "#377BA6",
           "#E1812B",
           "#E1812B",
           "#377BA6",
           "#E1812B",
           "#377BA6",
           "#E1812B",
           "#377BA6",
           "#377BA6",
           "#377BA6",
           "#377BA6",
           "#377BA6",
           "#E1812B",
           "#E1812B",
           "#E1812B",
           "#E1812B",
           "#377BA6",
           "#E1812B",
           "#377BA6",
           "#377BA6",
           "#E1812B",
           "#377BA6",
           "#377BA6",
           "#377BA6",
           "#377BA6",
           "#377BA6",
           "#377BA6",
           "#E1812B",
           "#E1812B",
           "#E1812B",
           "#377BA6",
           "#377BA6",
           "#377BA6",
           "#377BA6",
           "#E1812B",
           "#377BA6",
           "#E1812B",
           "#377BA6",
           "#377BA6",
           "#377BA6",
           "#E1812B",
           "#E1812B",
           "#E1812B",
           "#E1812B",
           "#E1812B",
           "#377BA6",
           "#377BA6",
           "#377BA6",
           "#377BA6",
           "#377BA6",
           "#E1812B",
           "#377BA6",
           "#377BA6",
           "#377BA6",
           "#377BA6",
           "#377BA6",
           "#E1812B",
           "#377BA6",
           "#377BA6",
           "#E1812B",
           "#E1812B",
           "#E1812B",
           "#E1812B",
           "#377BA6",
           "#377BA6",
           "#E1812B",
           "#E1812B",
           "#377BA6",
           "#E1812B",
           "#377BA6",
           "#377BA6",
           "#377BA6",
           "#377BA6",
           "#377BA6",
           "#E1812B",
           "#377BA6",
           "#377BA6",
           "#377BA6",
           "#377BA6",
           "#377BA6",
           "#E1812B",
           "#E1812B",
           "#377BA6",
           "#E1812B",
           "#377BA6",
           "#377BA6",
           "#377BA6",
           "#377BA6",
           "#377BA6",
           "#E1812B",
           "#377BA6",
           "#377BA6",
           "#377BA6",
           "#377BA6",
           "#377BA6",
           "#377BA6",
           "#377BA6",
           "#377BA6",
           "#E1812B",
           "#377BA6",
           "#E1812B",
           "#377BA6",
           "#E1812B",
           "#377BA6",
           "#377BA6",
           "#377BA6",
           "#377BA6",
           "#E1812B",
           "#E1812B",
           "#E1812B",
           "#377BA6",
           "#E1812B",
           "#E1812B",
           "#377BA6",
           "#E1812B",
           "#377BA6",
           "#E1812B",
           "#377BA6",
           "#377BA6",
           "#E1812B",
           "#377BA6",
           "#377BA6",
           "#377BA6",
           "#377BA6",
           "#377BA6",
           "#377BA6",
           "#E1812B",
           "#377BA6",
           "#377BA6",
           "#377BA6",
           "#377BA6",
           "#377BA6",
           "#377BA6",
           "#E1812B",
           "#377BA6",
           "#377BA6",
           "#377BA6",
           "#E1812B",
           "#377BA6",
           "#377BA6",
           "#377BA6",
           "#377BA6",
           "#377BA6",
           "#E1812B",
           "#E1812B",
           "#377BA6",
           "#E1812B",
           "#377BA6",
           "#377BA6",
           "#377BA6",
           "#E1812B",
           "#377BA6",
           "#377BA6",
           "#377BA6",
           "#377BA6",
           "#E1812B",
           "#377BA6",
           "#E1812B",
           "#377BA6",
           "#377BA6",
           "#377BA6",
           "#E1812B",
           "#377BA6",
           "#377BA6",
           "#377BA6",
           "#E1812B",
           "#377BA6",
           "#377BA6",
           "#377BA6",
           "#E1812B",
           "#377BA6",
           "#377BA6",
           "#377BA6",
           "#E1812B",
           "#E1812B",
           "#377BA6",
           "#377BA6",
           "#377BA6",
           "#377BA6",
           "#377BA6",
           "#377BA6",
           "#377BA6",
           "#E1812B",
           "#E1812B",
           "#E1812B",
           "#377BA6",
           "#377BA6",
           "#377BA6",
           "#E1812B",
           "#E1812B",
           "#377BA6",
           "#377BA6",
           "#377BA6",
           "#E1812B",
           "#377BA6",
           "#377BA6",
           "#E1812B",
           "#377BA6",
           "#377BA6",
           "#377BA6",
           "#377BA6",
           "#377BA6",
           "#377BA6",
           "#E1812B",
           "#E1812B",
           "#E1812B",
           "#377BA6",
           "#E1812B",
           "#377BA6",
           "#E1812B",
           "#377BA6",
           "#E1812B",
           "#377BA6",
           "#E1812B",
           "#377BA6",
           "#377BA6",
           "#377BA6",
           "#E1812B",
           "#377BA6",
           "#E1812B",
           "#E1812B",
           "#377BA6",
           "#377BA6",
           "#377BA6",
           "#377BA6",
           "#377BA6",
           "#377BA6",
           "#377BA6",
           "#377BA6",
           "#377BA6",
           "#377BA6",
           "#377BA6",
           "#377BA6",
           "#377BA6",
           "#377BA6",
           "#377BA6",
           "#377BA6",
           "#E1812B",
           "#377BA6",
           "#377BA6",
           "#377BA6",
           "#E1812B",
           "#377BA6",
           "#377BA6",
           "#E1812B",
           "#E1812B",
           "#377BA6",
           "#377BA6",
           "#E1812B",
           "#377BA6",
           "#377BA6",
           "#377BA6",
           "#377BA6",
           "#377BA6",
           "#E1812B",
           "#E1812B",
           "#377BA6",
           "#E1812B",
           "#E1812B",
           "#E1812B",
           "#E1812B",
           "#E1812B",
           "#377BA6",
           "#377BA6",
           "#377BA6",
           "#E1812B",
           "#E1812B",
           "#377BA6",
           "#E1812B",
           "#377BA6",
           "#E1812B",
           "#E1812B",
           "#E1812B",
           "#377BA6",
           "#E1812B",
           "#377BA6",
           "#377BA6",
           "#377BA6",
           "#377BA6",
           "#377BA6",
           "#377BA6",
           "#E1812B",
           "#377BA6",
           "#377BA6",
           "#377BA6",
           "#377BA6",
           "#E1812B",
           "#E1812B",
           "#377BA6",
           "#377BA6",
           "#377BA6",
           "#377BA6",
           "#377BA6",
           "#E1812B",
           "#377BA6",
           "#377BA6",
           "#E1812B",
           "#E1812B",
           "#377BA6",
           "#377BA6",
           "#377BA6",
           "#E1812B",
           "#377BA6",
           "#377BA6",
           "#377BA6",
           "#377BA6",
           "#377BA6",
           "#E1812B",
           "#E1812B",
           "#377BA6",
           "#377BA6",
           "#377BA6",
           "#377BA6",
           "#377BA6",
           "#377BA6",
           "#377BA6",
           "#E1812B",
           "#E1812B",
           "#E1812B",
           "#E1812B",
           "#377BA6",
           "#377BA6",
           "#377BA6",
           "#377BA6",
           "#377BA6",
           "#377BA6",
           "#E1812B",
           "#377BA6",
           "#377BA6",
           "#377BA6",
           "#377BA6",
           "#E1812B",
           "#377BA6",
           "#377BA6",
           "#E1812B",
           "#E1812B",
           "#E1812B",
           "#377BA6",
           "#E1812B",
           "#E1812B",
           "#377BA6",
           "#377BA6",
           "#E1812B",
           "#E1812B",
           "#377BA6",
           "#377BA6",
           "#E1812B",
           "#377BA6",
           "#377BA6",
           "#377BA6",
           "#E1812B",
           "#377BA6",
           "#377BA6",
           "#E1812B",
           "#377BA6",
           "#E1812B",
           "#377BA6",
           "#377BA6",
           "#377BA6",
           "#377BA6",
           "#E1812B",
           "#377BA6",
           "#377BA6",
           "#E1812B",
           "#377BA6",
           "#E1812B",
           "#377BA6",
           "#E1812B",
           "#E1812B",
           "#377BA6",
           "#377BA6",
           "#E1812B",
           "#E1812B",
           "#377BA6",
           "#377BA6",
           "#E1812B",
           "#377BA6"
          ]
         },
         "name": "",
         "showlegend": true,
         "type": "pie"
        }
       ],
       "layout": {
        "height": 1000,
        "legend": {
         "tracegroupgap": 0
        },
        "template": {
         "data": {
          "bar": [
           {
            "error_x": {
             "color": "#2a3f5f"
            },
            "error_y": {
             "color": "#2a3f5f"
            },
            "marker": {
             "line": {
              "color": "#E5ECF6",
              "width": 0.5
             },
             "pattern": {
              "fillmode": "overlay",
              "size": 10,
              "solidity": 0.2
             }
            },
            "type": "bar"
           }
          ],
          "barpolar": [
           {
            "marker": {
             "line": {
              "color": "#E5ECF6",
              "width": 0.5
             },
             "pattern": {
              "fillmode": "overlay",
              "size": 10,
              "solidity": 0.2
             }
            },
            "type": "barpolar"
           }
          ],
          "carpet": [
           {
            "aaxis": {
             "endlinecolor": "#2a3f5f",
             "gridcolor": "white",
             "linecolor": "white",
             "minorgridcolor": "white",
             "startlinecolor": "#2a3f5f"
            },
            "baxis": {
             "endlinecolor": "#2a3f5f",
             "gridcolor": "white",
             "linecolor": "white",
             "minorgridcolor": "white",
             "startlinecolor": "#2a3f5f"
            },
            "type": "carpet"
           }
          ],
          "choropleth": [
           {
            "colorbar": {
             "outlinewidth": 0,
             "ticks": ""
            },
            "type": "choropleth"
           }
          ],
          "contour": [
           {
            "colorbar": {
             "outlinewidth": 0,
             "ticks": ""
            },
            "colorscale": [
             [
              0,
              "#0d0887"
             ],
             [
              0.1111111111111111,
              "#46039f"
             ],
             [
              0.2222222222222222,
              "#7201a8"
             ],
             [
              0.3333333333333333,
              "#9c179e"
             ],
             [
              0.4444444444444444,
              "#bd3786"
             ],
             [
              0.5555555555555556,
              "#d8576b"
             ],
             [
              0.6666666666666666,
              "#ed7953"
             ],
             [
              0.7777777777777778,
              "#fb9f3a"
             ],
             [
              0.8888888888888888,
              "#fdca26"
             ],
             [
              1,
              "#f0f921"
             ]
            ],
            "type": "contour"
           }
          ],
          "contourcarpet": [
           {
            "colorbar": {
             "outlinewidth": 0,
             "ticks": ""
            },
            "type": "contourcarpet"
           }
          ],
          "heatmap": [
           {
            "colorbar": {
             "outlinewidth": 0,
             "ticks": ""
            },
            "colorscale": [
             [
              0,
              "#0d0887"
             ],
             [
              0.1111111111111111,
              "#46039f"
             ],
             [
              0.2222222222222222,
              "#7201a8"
             ],
             [
              0.3333333333333333,
              "#9c179e"
             ],
             [
              0.4444444444444444,
              "#bd3786"
             ],
             [
              0.5555555555555556,
              "#d8576b"
             ],
             [
              0.6666666666666666,
              "#ed7953"
             ],
             [
              0.7777777777777778,
              "#fb9f3a"
             ],
             [
              0.8888888888888888,
              "#fdca26"
             ],
             [
              1,
              "#f0f921"
             ]
            ],
            "type": "heatmap"
           }
          ],
          "heatmapgl": [
           {
            "colorbar": {
             "outlinewidth": 0,
             "ticks": ""
            },
            "colorscale": [
             [
              0,
              "#0d0887"
             ],
             [
              0.1111111111111111,
              "#46039f"
             ],
             [
              0.2222222222222222,
              "#7201a8"
             ],
             [
              0.3333333333333333,
              "#9c179e"
             ],
             [
              0.4444444444444444,
              "#bd3786"
             ],
             [
              0.5555555555555556,
              "#d8576b"
             ],
             [
              0.6666666666666666,
              "#ed7953"
             ],
             [
              0.7777777777777778,
              "#fb9f3a"
             ],
             [
              0.8888888888888888,
              "#fdca26"
             ],
             [
              1,
              "#f0f921"
             ]
            ],
            "type": "heatmapgl"
           }
          ],
          "histogram": [
           {
            "marker": {
             "pattern": {
              "fillmode": "overlay",
              "size": 10,
              "solidity": 0.2
             }
            },
            "type": "histogram"
           }
          ],
          "histogram2d": [
           {
            "colorbar": {
             "outlinewidth": 0,
             "ticks": ""
            },
            "colorscale": [
             [
              0,
              "#0d0887"
             ],
             [
              0.1111111111111111,
              "#46039f"
             ],
             [
              0.2222222222222222,
              "#7201a8"
             ],
             [
              0.3333333333333333,
              "#9c179e"
             ],
             [
              0.4444444444444444,
              "#bd3786"
             ],
             [
              0.5555555555555556,
              "#d8576b"
             ],
             [
              0.6666666666666666,
              "#ed7953"
             ],
             [
              0.7777777777777778,
              "#fb9f3a"
             ],
             [
              0.8888888888888888,
              "#fdca26"
             ],
             [
              1,
              "#f0f921"
             ]
            ],
            "type": "histogram2d"
           }
          ],
          "histogram2dcontour": [
           {
            "colorbar": {
             "outlinewidth": 0,
             "ticks": ""
            },
            "colorscale": [
             [
              0,
              "#0d0887"
             ],
             [
              0.1111111111111111,
              "#46039f"
             ],
             [
              0.2222222222222222,
              "#7201a8"
             ],
             [
              0.3333333333333333,
              "#9c179e"
             ],
             [
              0.4444444444444444,
              "#bd3786"
             ],
             [
              0.5555555555555556,
              "#d8576b"
             ],
             [
              0.6666666666666666,
              "#ed7953"
             ],
             [
              0.7777777777777778,
              "#fb9f3a"
             ],
             [
              0.8888888888888888,
              "#fdca26"
             ],
             [
              1,
              "#f0f921"
             ]
            ],
            "type": "histogram2dcontour"
           }
          ],
          "mesh3d": [
           {
            "colorbar": {
             "outlinewidth": 0,
             "ticks": ""
            },
            "type": "mesh3d"
           }
          ],
          "parcoords": [
           {
            "line": {
             "colorbar": {
              "outlinewidth": 0,
              "ticks": ""
             }
            },
            "type": "parcoords"
           }
          ],
          "pie": [
           {
            "automargin": true,
            "type": "pie"
           }
          ],
          "scatter": [
           {
            "fillpattern": {
             "fillmode": "overlay",
             "size": 10,
             "solidity": 0.2
            },
            "type": "scatter"
           }
          ],
          "scatter3d": [
           {
            "line": {
             "colorbar": {
              "outlinewidth": 0,
              "ticks": ""
             }
            },
            "marker": {
             "colorbar": {
              "outlinewidth": 0,
              "ticks": ""
             }
            },
            "type": "scatter3d"
           }
          ],
          "scattercarpet": [
           {
            "marker": {
             "colorbar": {
              "outlinewidth": 0,
              "ticks": ""
             }
            },
            "type": "scattercarpet"
           }
          ],
          "scattergeo": [
           {
            "marker": {
             "colorbar": {
              "outlinewidth": 0,
              "ticks": ""
             }
            },
            "type": "scattergeo"
           }
          ],
          "scattergl": [
           {
            "marker": {
             "colorbar": {
              "outlinewidth": 0,
              "ticks": ""
             }
            },
            "type": "scattergl"
           }
          ],
          "scattermapbox": [
           {
            "marker": {
             "colorbar": {
              "outlinewidth": 0,
              "ticks": ""
             }
            },
            "type": "scattermapbox"
           }
          ],
          "scatterpolar": [
           {
            "marker": {
             "colorbar": {
              "outlinewidth": 0,
              "ticks": ""
             }
            },
            "type": "scatterpolar"
           }
          ],
          "scatterpolargl": [
           {
            "marker": {
             "colorbar": {
              "outlinewidth": 0,
              "ticks": ""
             }
            },
            "type": "scatterpolargl"
           }
          ],
          "scatterternary": [
           {
            "marker": {
             "colorbar": {
              "outlinewidth": 0,
              "ticks": ""
             }
            },
            "type": "scatterternary"
           }
          ],
          "surface": [
           {
            "colorbar": {
             "outlinewidth": 0,
             "ticks": ""
            },
            "colorscale": [
             [
              0,
              "#0d0887"
             ],
             [
              0.1111111111111111,
              "#46039f"
             ],
             [
              0.2222222222222222,
              "#7201a8"
             ],
             [
              0.3333333333333333,
              "#9c179e"
             ],
             [
              0.4444444444444444,
              "#bd3786"
             ],
             [
              0.5555555555555556,
              "#d8576b"
             ],
             [
              0.6666666666666666,
              "#ed7953"
             ],
             [
              0.7777777777777778,
              "#fb9f3a"
             ],
             [
              0.8888888888888888,
              "#fdca26"
             ],
             [
              1,
              "#f0f921"
             ]
            ],
            "type": "surface"
           }
          ],
          "table": [
           {
            "cells": {
             "fill": {
              "color": "#EBF0F8"
             },
             "line": {
              "color": "white"
             }
            },
            "header": {
             "fill": {
              "color": "#C8D4E3"
             },
             "line": {
              "color": "white"
             }
            },
            "type": "table"
           }
          ]
         },
         "layout": {
          "annotationdefaults": {
           "arrowcolor": "#2a3f5f",
           "arrowhead": 0,
           "arrowwidth": 1
          },
          "autotypenumbers": "strict",
          "coloraxis": {
           "colorbar": {
            "outlinewidth": 0,
            "ticks": ""
           }
          },
          "colorscale": {
           "diverging": [
            [
             0,
             "#8e0152"
            ],
            [
             0.1,
             "#c51b7d"
            ],
            [
             0.2,
             "#de77ae"
            ],
            [
             0.3,
             "#f1b6da"
            ],
            [
             0.4,
             "#fde0ef"
            ],
            [
             0.5,
             "#f7f7f7"
            ],
            [
             0.6,
             "#e6f5d0"
            ],
            [
             0.7,
             "#b8e186"
            ],
            [
             0.8,
             "#7fbc41"
            ],
            [
             0.9,
             "#4d9221"
            ],
            [
             1,
             "#276419"
            ]
           ],
           "sequential": [
            [
             0,
             "#0d0887"
            ],
            [
             0.1111111111111111,
             "#46039f"
            ],
            [
             0.2222222222222222,
             "#7201a8"
            ],
            [
             0.3333333333333333,
             "#9c179e"
            ],
            [
             0.4444444444444444,
             "#bd3786"
            ],
            [
             0.5555555555555556,
             "#d8576b"
            ],
            [
             0.6666666666666666,
             "#ed7953"
            ],
            [
             0.7777777777777778,
             "#fb9f3a"
            ],
            [
             0.8888888888888888,
             "#fdca26"
            ],
            [
             1,
             "#f0f921"
            ]
           ],
           "sequentialminus": [
            [
             0,
             "#0d0887"
            ],
            [
             0.1111111111111111,
             "#46039f"
            ],
            [
             0.2222222222222222,
             "#7201a8"
            ],
            [
             0.3333333333333333,
             "#9c179e"
            ],
            [
             0.4444444444444444,
             "#bd3786"
            ],
            [
             0.5555555555555556,
             "#d8576b"
            ],
            [
             0.6666666666666666,
             "#ed7953"
            ],
            [
             0.7777777777777778,
             "#fb9f3a"
            ],
            [
             0.8888888888888888,
             "#fdca26"
            ],
            [
             1,
             "#f0f921"
            ]
           ]
          },
          "colorway": [
           "#636efa",
           "#EF553B",
           "#00cc96",
           "#ab63fa",
           "#FFA15A",
           "#19d3f3",
           "#FF6692",
           "#B6E880",
           "#FF97FF",
           "#FECB52"
          ],
          "font": {
           "color": "#2a3f5f"
          },
          "geo": {
           "bgcolor": "white",
           "lakecolor": "white",
           "landcolor": "#E5ECF6",
           "showlakes": true,
           "showland": true,
           "subunitcolor": "white"
          },
          "hoverlabel": {
           "align": "left"
          },
          "hovermode": "closest",
          "mapbox": {
           "style": "light"
          },
          "paper_bgcolor": "white",
          "plot_bgcolor": "#E5ECF6",
          "polar": {
           "angularaxis": {
            "gridcolor": "white",
            "linecolor": "white",
            "ticks": ""
           },
           "bgcolor": "#E5ECF6",
           "radialaxis": {
            "gridcolor": "white",
            "linecolor": "white",
            "ticks": ""
           }
          },
          "scene": {
           "xaxis": {
            "backgroundcolor": "#E5ECF6",
            "gridcolor": "white",
            "gridwidth": 2,
            "linecolor": "white",
            "showbackground": true,
            "ticks": "",
            "zerolinecolor": "white"
           },
           "yaxis": {
            "backgroundcolor": "#E5ECF6",
            "gridcolor": "white",
            "gridwidth": 2,
            "linecolor": "white",
            "showbackground": true,
            "ticks": "",
            "zerolinecolor": "white"
           },
           "zaxis": {
            "backgroundcolor": "#E5ECF6",
            "gridcolor": "white",
            "gridwidth": 2,
            "linecolor": "white",
            "showbackground": true,
            "ticks": "",
            "zerolinecolor": "white"
           }
          },
          "shapedefaults": {
           "line": {
            "color": "#2a3f5f"
           }
          },
          "ternary": {
           "aaxis": {
            "gridcolor": "white",
            "linecolor": "white",
            "ticks": ""
           },
           "baxis": {
            "gridcolor": "white",
            "linecolor": "white",
            "ticks": ""
           },
           "bgcolor": "#E5ECF6",
           "caxis": {
            "gridcolor": "white",
            "linecolor": "white",
            "ticks": ""
           }
          },
          "title": {
           "x": 0.05
          },
          "xaxis": {
           "automargin": true,
           "gridcolor": "white",
           "linecolor": "white",
           "ticks": "",
           "title": {
            "standoff": 15
           },
           "zerolinecolor": "white",
           "zerolinewidth": 2
          },
          "yaxis": {
           "automargin": true,
           "gridcolor": "white",
           "linecolor": "white",
           "ticks": "",
           "title": {
            "standoff": 15
           },
           "zerolinecolor": "white",
           "zerolinewidth": 2
          }
         }
        },
        "title": {
         "text": "Personne ayant souscrit à l assurance"
        },
        "width": 1000
       }
      }
     },
     "metadata": {},
     "output_type": "display_data"
    }
   ],
   "source": [
    "#Visualisation de la proportion des personnes ayant souscrit une assurance voyage\n",
    "\n",
    "px.pie(tip,\n",
    "      names='TravelInsurance',\n",
    "      color='TravelInsurance',\n",
    "      color_discrete_map={1:'#E1812B', 0:'#377BA6'},\n",
    "      title='Personne ayant souscrit à l assurance',\n",
    "      width=1000,\n",
    "     height=1000,\n",
    "          )"
   ]
  },
  {
   "cell_type": "code",
   "execution_count": 37,
   "metadata": {},
   "outputs": [
    {
     "data": {
      "application/vnd.plotly.v1+json": {
       "config": {
        "plotlyServerURL": "https://plot.ly"
       },
       "data": [
        {
         "alignmentgroup": "True",
         "bingroup": "x",
         "hovertemplate": "TravelInsurance=0<br>AnnualIncome=%{x}<br>count=%{y}<extra></extra>",
         "legendgroup": "0",
         "marker": {
          "color": "#377BA6",
          "pattern": {
           "shape": ""
          }
         },
         "name": "0",
         "offsetgroup": "0",
         "orientation": "v",
         "showlegend": true,
         "type": "histogram",
         "x": [
          4829.75,
          15092.97,
          8452.06,
          8452.06,
          13885.53,
          15696.69,
          9659.5,
          4829.75,
          4829.75,
          8452.06,
          13885.53,
          13885.53,
          13281.82,
          18111.57,
          9659.5,
          15092.97,
          7244.63,
          10866.94,
          6640.91,
          3622.31,
          10263.22,
          16904.13,
          3622.31,
          8452.06,
          13281.82,
          6640.91,
          13281.82,
          7244.63,
          15092.97,
          12678.1,
          15092.97,
          3622.31,
          14489.25,
          9055.78,
          15092.97,
          9659.5,
          6037.19,
          7244.63,
          9659.5,
          4226.03,
          3622.31,
          15696.69,
          9055.78,
          9659.5,
          9055.78,
          8452.06,
          15696.69,
          4829.75,
          4829.75,
          15696.69,
          13885.53,
          15092.97,
          4226.03,
          10866.94,
          3622.31,
          12678.1,
          3622.31,
          12678.1,
          3622.31,
          13885.53,
          15696.69,
          8452.06,
          4226.03,
          13281.82,
          7244.63,
          6037.19,
          13885.53,
          9055.78,
          15696.69,
          10263.22,
          4829.75,
          9659.5,
          9659.5,
          10866.94,
          6037.19,
          10866.94,
          4829.75,
          6037.19,
          9659.5,
          9659.5,
          10263.22,
          4226.03,
          9659.5,
          9055.78,
          12678.1,
          9659.5,
          9055.78,
          13281.82,
          7244.63,
          7244.63,
          13885.53,
          6640.91,
          16904.13,
          4226.03,
          15696.69,
          15092.97,
          13885.53,
          4829.75,
          9659.5,
          14489.25,
          7244.63,
          8452.06,
          10866.94,
          7244.63,
          10866.94,
          4226.03,
          3622.31,
          12074.38,
          9659.5,
          4829.75,
          10263.22,
          7244.63,
          10866.94,
          7244.63,
          9659.5,
          15092.97,
          4226.03,
          15092.97,
          9055.78,
          15696.69,
          20526.44,
          9055.78,
          7848.35,
          6037.19,
          10866.94,
          7848.35,
          9659.5,
          15696.69,
          13281.82,
          13885.53,
          13281.82,
          10866.94,
          13885.53,
          4226.03,
          20526.44,
          14489.25,
          5433.47,
          9055.78,
          10263.22,
          13281.82,
          9659.5,
          18111.57,
          15092.97,
          9659.5,
          14489.25,
          14489.25,
          7848.35,
          13281.82,
          15092.97,
          15696.69,
          12074.38,
          12074.38,
          10866.94,
          14489.25,
          15092.97,
          14489.25,
          15696.69,
          6640.91,
          6037.19,
          7244.63,
          15092.97,
          4226.03,
          4829.75,
          9055.78,
          6037.19,
          13885.53,
          4226.03,
          13885.53,
          3622.31,
          14489.25,
          10866.94,
          9055.78,
          9659.5,
          4226.03,
          10263.22,
          4829.75,
          9659.5,
          10866.94,
          8452.06,
          12678.1,
          11470.66,
          4226.03,
          9659.5,
          9055.78,
          7244.63,
          9055.78,
          7244.63,
          14489.25,
          13281.82,
          6037.19,
          10866.94,
          15696.69,
          10263.22,
          14489.25,
          6640.91,
          4226.03,
          5433.47,
          10263.22,
          3622.31,
          12678.1,
          15092.97,
          13885.53,
          12074.38,
          6640.91,
          10263.22,
          3622.31,
          11470.66,
          9659.5,
          6037.19,
          9055.78,
          3622.31,
          15092.97,
          13885.53,
          15696.69,
          13281.82,
          9659.5,
          16904.13,
          4226.03,
          6640.91,
          7244.63,
          12678.1,
          9659.5,
          6640.91,
          15092.97,
          9659.5,
          14489.25,
          15696.69,
          16904.13,
          6037.19,
          11470.66,
          14489.25,
          3622.31,
          12074.38,
          6037.19,
          12074.38,
          13885.53,
          6640.91,
          8452.06,
          15696.69,
          14489.25,
          3622.31,
          15696.69,
          9659.5,
          10866.94,
          4226.03,
          10866.94,
          7244.63,
          13281.82,
          15696.69,
          14489.25,
          14489.25,
          13281.82,
          7244.63,
          12074.38,
          3622.31,
          6640.91,
          12678.1,
          9659.5,
          9055.78,
          15092.97,
          9659.5,
          14489.25,
          8452.06,
          15092.97,
          9659.5,
          10263.22,
          4226.03,
          8452.06,
          6640.91,
          7244.63,
          3622.31,
          7244.63,
          12074.38,
          13885.53,
          12678.1,
          3622.31,
          4226.03,
          6037.19,
          8452.06,
          4226.03,
          6037.19,
          6037.19,
          13281.82,
          14489.25,
          9659.5,
          4829.75,
          9659.5,
          13281.82,
          12678.1,
          8452.06,
          6037.19,
          15092.97,
          9659.5,
          13281.82,
          3622.31,
          13281.82,
          13885.53,
          9055.78,
          15092.97,
          9055.78,
          6640.91,
          6037.19,
          14489.25,
          15696.69,
          15092.97,
          3622.31,
          13281.82,
          10866.94,
          15696.69,
          13281.82,
          10263.22,
          13885.53,
          5433.47,
          6640.91,
          3622.31,
          9659.5,
          14489.25,
          6037.19,
          12678.1,
          15696.69,
          14489.25,
          7244.63,
          7244.63,
          4226.03,
          15092.97,
          15696.69,
          6037.19,
          9659.5,
          7244.63,
          9659.5,
          11470.66,
          15092.97,
          13281.82,
          10263.22,
          10263.22,
          15092.97,
          13281.82,
          13281.82,
          4829.75,
          9659.5,
          6037.19,
          13281.82,
          8452.06,
          13885.53,
          15092.97,
          10866.94,
          13885.53,
          7244.63,
          6037.19,
          13885.53,
          4829.75,
          14489.25,
          7244.63,
          10263.22,
          4829.75,
          7244.63,
          6640.91,
          10263.22,
          3622.31,
          12678.1,
          12678.1,
          16904.13,
          9659.5,
          21130.16,
          6640.91,
          12678.1,
          10263.22,
          12678.1,
          12074.38,
          10866.94,
          9659.5,
          10263.22,
          9659.5,
          6037.19,
          13885.53,
          10263.22,
          6640.91,
          4226.03,
          13885.53,
          12074.38,
          4829.75,
          15092.97,
          8452.06,
          13281.82,
          10866.94,
          3622.31,
          6037.19,
          13885.53,
          7244.63,
          6640.91,
          13885.53,
          12074.38,
          8452.06,
          15696.69,
          4226.03,
          9659.5,
          6640.91,
          10866.94,
          6037.19,
          6640.91,
          15092.97,
          12074.38,
          3622.31,
          9055.78,
          12678.1,
          7848.35,
          9659.5,
          13281.82,
          12074.38,
          21130.16,
          13281.82,
          6037.19,
          13885.53,
          7244.63,
          13281.82,
          8452.06,
          8452.06,
          15696.69,
          6640.91,
          15696.69,
          15092.97,
          9659.5,
          8452.06,
          6037.19,
          13281.82,
          9659.5,
          13281.82,
          13281.82,
          9659.5,
          3622.31,
          6037.19,
          21130.16,
          8452.06,
          6037.19,
          6037.19,
          3622.31,
          3622.31,
          6037.19,
          15092.97,
          9659.5,
          15696.69,
          12074.38,
          7244.63,
          9659.5,
          13281.82,
          12678.1,
          10263.22,
          4226.03,
          14489.25,
          5433.47,
          6037.19,
          14489.25,
          9055.78,
          13885.53,
          13885.53,
          4829.75,
          6037.19,
          16904.13,
          11470.66,
          3622.31,
          9659.5,
          13885.53,
          4226.03,
          9659.5,
          6037.19,
          6037.19,
          10263.22,
          8452.06,
          6640.91,
          12074.38,
          3622.31,
          14489.25,
          9659.5,
          10866.94,
          15696.69,
          10263.22,
          12678.1,
          12678.1,
          9055.78,
          15092.97,
          7244.63,
          9659.5,
          9659.5,
          10866.94,
          3622.31,
          7848.35,
          9659.5,
          6037.19,
          12678.1,
          7244.63,
          6037.19,
          7848.35,
          9659.5,
          13281.82,
          10263.22,
          14489.25,
          3622.31,
          6037.19,
          6037.19,
          9659.5,
          7244.63,
          6037.19,
          4226.03,
          8452.06,
          3622.31,
          9659.5,
          7244.63,
          11470.66,
          11470.66,
          9659.5,
          4226.03,
          6037.19,
          10263.22,
          4829.75,
          14489.25,
          13281.82,
          14489.25,
          6037.19,
          12074.38,
          6037.19,
          9055.78,
          6037.19,
          4226.03,
          3622.31,
          3622.31,
          14489.25,
          14489.25,
          12678.1,
          4226.03,
          12678.1,
          6640.91,
          7244.63,
          5433.47,
          12074.38,
          6640.91,
          12678.1,
          20526.44,
          12678.1,
          13885.53,
          13885.53,
          14489.25,
          14489.25,
          10263.22,
          13885.53,
          7244.63,
          12678.1,
          7244.63,
          13281.82,
          13281.82,
          13281.82,
          7244.63,
          13281.82,
          9055.78,
          8452.06,
          10866.94,
          15696.69,
          10263.22,
          6037.19,
          4829.75,
          10263.22,
          6037.19,
          12678.1,
          9659.5,
          12074.38,
          3622.31,
          13281.82,
          7244.63,
          9055.78,
          14489.25,
          9659.5,
          20526.44,
          12074.38,
          6640.91,
          7244.63,
          9659.5,
          7244.63,
          9055.78,
          14489.25,
          7244.63,
          4226.03,
          7244.63,
          15092.97,
          9659.5,
          12678.1,
          12678.1,
          4829.75,
          7244.63,
          15696.69,
          15696.69,
          8452.06,
          7244.63,
          3622.31,
          6640.91,
          15696.69,
          15696.69,
          15696.69,
          12678.1,
          9659.5,
          7244.63,
          3622.31,
          7848.35,
          4829.75,
          10866.94,
          13281.82,
          4829.75,
          9659.5,
          14489.25,
          7244.63,
          9659.5,
          9659.5,
          15092.97,
          12074.38,
          6037.19,
          14489.25,
          7244.63,
          14489.25,
          9659.5,
          6037.19,
          6640.91,
          21130.16,
          12074.38,
          6037.19,
          4226.03,
          6037.19,
          3622.31,
          12074.38,
          13885.53,
          10866.94,
          15092.97,
          10866.94,
          5433.47,
          14489.25,
          15696.69,
          10866.94,
          7848.35,
          3622.31,
          9055.78,
          10263.22,
          6640.91,
          21130.16,
          13281.82,
          8452.06,
          6640.91,
          10263.22,
          8452.06,
          3622.31,
          6037.19,
          15092.97,
          4829.75,
          4226.03,
          13281.82,
          6037.19,
          14489.25,
          7244.63,
          4226.03,
          3622.31,
          4829.75,
          13885.53,
          10263.22,
          8452.06,
          13885.53,
          13885.53,
          3622.31,
          12074.38,
          14489.25,
          15092.97,
          15696.69,
          9055.78,
          9659.5,
          6037.19,
          6037.19,
          6037.19,
          13281.82,
          4829.75,
          6037.19,
          10866.94,
          13281.82,
          7244.63,
          14489.25,
          4829.75,
          15696.69,
          8452.06,
          10866.94,
          4226.03,
          11470.66,
          4829.75,
          7848.35,
          14489.25,
          14489.25,
          3622.31,
          9659.5,
          9659.5,
          9055.78,
          4829.75,
          6037.19,
          18111.57,
          7848.35,
          12678.1,
          3622.31,
          12074.38,
          8452.06,
          14489.25,
          13885.53,
          12678.1,
          15092.97,
          3622.31,
          14489.25,
          15092.97,
          6037.19,
          13281.82,
          8452.06,
          7244.63,
          13885.53,
          6037.19,
          14489.25,
          12678.1,
          12074.38,
          15696.69,
          13281.82,
          6037.19,
          9659.5,
          4829.75,
          12074.38,
          8452.06,
          9659.5,
          13281.82,
          3622.31,
          3622.31,
          13281.82,
          3622.31,
          14489.25,
          7848.35,
          8452.06,
          6640.91,
          4829.75,
          9659.5,
          10866.94,
          6037.19,
          9055.78,
          9055.78,
          9055.78,
          6037.19,
          3622.31,
          6037.19,
          14489.25,
          8452.06,
          3622.31,
          13885.53,
          12074.38,
          8452.06,
          15092.97,
          12678.1,
          10866.94,
          15696.69,
          12678.1,
          7244.63,
          15696.69,
          4829.75,
          9659.5,
          4829.75,
          15696.69,
          8452.06,
          6037.19,
          6037.19,
          7244.63,
          3622.31,
          13281.82,
          9659.5,
          4829.75,
          10866.94,
          14489.25,
          6037.19,
          15696.69,
          15092.97,
          13885.53,
          11470.66,
          10866.94,
          3622.31,
          4829.75,
          14489.25,
          7848.35,
          13885.53,
          8452.06,
          5433.47,
          14489.25,
          15696.69,
          14489.25,
          4829.75,
          13885.53,
          13281.82,
          3622.31,
          16300.41,
          6640.91,
          4226.03,
          12678.1,
          4829.75,
          4226.03,
          12678.1,
          15696.69,
          14489.25,
          7244.63,
          10866.94,
          8452.06,
          8452.06,
          13885.53,
          15092.97,
          6037.19,
          14489.25,
          7244.63,
          9659.5,
          12678.1,
          14489.25,
          6640.91,
          6640.91,
          7244.63,
          4829.75,
          12074.38,
          14489.25,
          4226.03,
          14489.25,
          12074.38,
          7244.63,
          7244.63,
          10866.94,
          4829.75,
          6037.19,
          6640.91,
          6037.19,
          9055.78,
          9659.5,
          7848.35,
          3622.31,
          7244.63,
          12678.1,
          3622.31,
          8452.06,
          14489.25,
          6640.91,
          14489.25,
          8452.06,
          10866.94,
          15092.97,
          15696.69,
          10866.94,
          13885.53,
          7244.63,
          3622.31,
          21130.16,
          8452.06,
          9659.5,
          10866.94,
          13281.82,
          14489.25,
          15092.97,
          9055.78,
          10866.94,
          15092.97,
          12074.38,
          8452.06,
          13281.82,
          15696.69,
          9659.5,
          13281.82,
          4829.75,
          14489.25,
          6640.91,
          6640.91,
          15696.69,
          7244.63,
          4226.03,
          9055.78,
          21130.16,
          9055.78,
          9659.5,
          7848.35,
          3622.31,
          9055.78,
          15696.69,
          9659.5,
          12074.38,
          6037.19,
          6037.19,
          4226.03,
          10866.94,
          16904.13,
          12074.38,
          7848.35,
          13281.82,
          4226.03,
          10866.94,
          7244.63,
          12678.1,
          3622.31,
          7244.63,
          7244.63,
          13281.82,
          15092.97,
          6640.91,
          13885.53,
          8452.06,
          7244.63,
          9659.5,
          12678.1,
          8452.06,
          8452.06,
          6640.91,
          4829.75,
          7244.63,
          6037.19,
          21130.16,
          10866.94,
          10263.22,
          10263.22,
          4829.75,
          6037.19,
          10866.94,
          13281.82,
          3622.31,
          9659.5,
          13281.82,
          13885.53,
          6640.91,
          12678.1,
          9659.5,
          6640.91,
          4829.75,
          6037.19,
          13885.53,
          4829.75,
          11470.66,
          14489.25,
          10263.22,
          15092.97,
          3622.31,
          13281.82,
          14489.25,
          12678.1,
          3622.31,
          3622.31,
          12074.38,
          13281.82,
          9055.78,
          8452.06,
          3622.31,
          9659.5,
          6037.19,
          4226.03,
          4226.03,
          8452.06,
          13885.53,
          12074.38,
          10866.94,
          9055.78,
          7244.63,
          14489.25,
          9659.5,
          9055.78,
          6037.19,
          10263.22,
          6037.19,
          13885.53,
          9055.78,
          15696.69,
          6037.19,
          15696.69,
          6037.19,
          4226.03,
          15696.69,
          7244.63,
          4829.75,
          9055.78,
          14489.25,
          9659.5,
          9055.78,
          6037.19,
          9055.78,
          14489.25,
          7244.63,
          4829.75,
          13281.82,
          13281.82,
          9659.5,
          4226.03,
          14489.25,
          6640.91,
          5433.47,
          8452.06,
          14489.25,
          15696.69,
          10866.94,
          9659.5,
          9659.5,
          12678.1,
          14489.25,
          8452.06,
          15092.97,
          6640.91,
          9659.5,
          14489.25,
          6037.19,
          8452.06,
          13885.53,
          7848.35,
          6640.91,
          6640.91,
          3622.31,
          6037.19,
          14489.25,
          14489.25,
          10866.94,
          3622.31,
          3622.31,
          9055.78,
          10866.94,
          6640.91,
          3622.31,
          6037.19,
          6037.19,
          4829.75,
          15092.97,
          7848.35,
          10263.22,
          15092.97,
          8452.06,
          7244.63,
          12678.1,
          5433.47,
          8452.06,
          6037.19,
          6640.91,
          6640.91,
          7848.35,
          13885.53,
          3622.31,
          9055.78,
          10263.22,
          10866.94,
          7244.63,
          13885.53,
          12074.38,
          12074.38,
          9659.5,
          13885.53,
          12074.38,
          15092.97,
          16904.13,
          7244.63,
          13281.82,
          15092.97,
          13885.53,
          13885.53,
          10263.22,
          13281.82,
          13885.53,
          3622.31,
          7244.63,
          6640.91,
          11470.66,
          6037.19,
          8452.06,
          6640.91,
          15092.97,
          13885.53,
          3622.31,
          9055.78,
          4226.03,
          8452.06,
          11470.66,
          3622.31,
          6640.91,
          15696.69,
          12678.1,
          9659.5,
          9659.5,
          9055.78,
          9659.5,
          4829.75,
          15092.97,
          6037.19,
          13281.82,
          4829.75,
          13281.82,
          9659.5,
          12678.1,
          6037.19,
          9659.5,
          15092.97,
          12678.1,
          10866.94,
          16904.13,
          3622.31,
          4829.75,
          9659.5,
          14489.25,
          13281.82,
          9659.5,
          6037.19,
          9659.5,
          15092.97,
          13281.82,
          9659.5,
          8452.06,
          13281.82,
          6037.19,
          13281.82,
          6037.19,
          14489.25,
          3622.31,
          12678.1,
          6037.19,
          12678.1,
          14489.25,
          6037.19,
          7244.63,
          9659.5,
          9659.5,
          6640.91,
          10263.22,
          4829.75,
          13281.82,
          13281.82,
          8452.06,
          3622.31,
          6037.19,
          10263.22,
          13885.53,
          6037.19,
          9055.78,
          6037.19,
          15696.69,
          12678.1,
          10866.94,
          6640.91,
          7848.35,
          12678.1,
          12678.1,
          13885.53,
          6037.19,
          4226.03,
          14489.25,
          8452.06,
          9055.78,
          11470.66,
          7244.63,
          10263.22,
          13885.53,
          11470.66,
          6037.19,
          21130.16,
          13885.53,
          13885.53,
          14489.25,
          10263.22,
          14489.25,
          9659.5,
          9055.78,
          14489.25,
          4829.75,
          13281.82,
          14489.25,
          7244.63,
          6037.19,
          3622.31,
          4226.03,
          13281.82,
          9659.5,
          12074.38,
          6037.19,
          9659.5,
          9659.5,
          9659.5,
          7244.63,
          14489.25,
          3622.31,
          4226.03,
          12678.1,
          14489.25,
          13281.82,
          4829.75,
          9659.5,
          15696.69,
          8452.06,
          4226.03,
          10866.94,
          4226.03,
          8452.06,
          14489.25,
          4226.03,
          3622.31,
          10263.22,
          4829.75,
          15092.97,
          3622.31,
          14489.25,
          8452.06,
          7244.63,
          10866.94,
          9659.5,
          6640.91,
          12678.1,
          6640.91,
          6037.19,
          3622.31,
          12678.1,
          12074.38,
          6037.19,
          13281.82,
          4226.03,
          6037.19,
          13281.82,
          4226.03,
          10866.94,
          9055.78,
          15696.69,
          14489.25,
          8452.06,
          10263.22,
          8452.06,
          6037.19,
          7244.63,
          15092.97,
          12074.38,
          7244.63,
          4829.75,
          8452.06,
          7244.63,
          9659.5,
          3622.31,
          13885.53,
          6037.19,
          13281.82,
          6640.91,
          9659.5,
          13281.82,
          3622.31,
          9659.5,
          3622.31,
          6037.19,
          9055.78,
          9055.78,
          4829.75,
          14489.25,
          15696.69,
          9659.5,
          6640.91,
          16300.41,
          12074.38,
          6037.19,
          16904.13,
          5433.47,
          16904.13,
          10866.94,
          12678.1,
          10866.94,
          15092.97,
          7244.63,
          6640.91,
          21130.16,
          15092.97,
          15696.69,
          6640.91,
          6037.19,
          13885.53,
          13281.82,
          8452.06,
          8452.06,
          3622.31,
          6037.19,
          11470.66,
          9659.5,
          14489.25,
          10866.94,
          13281.82,
          13885.53,
          21130.16,
          13885.53,
          6037.19
         ],
         "xaxis": "x",
         "yaxis": "y"
        },
        {
         "alignmentgroup": "True",
         "bingroup": "x",
         "hovertemplate": "TravelInsurance=1<br>AnnualIncome=%{x}<br>count=%{y}<extra></extra>",
         "legendgroup": "1",
         "marker": {
          "color": "#E1812B",
          "pattern": {
           "shape": ""
          }
         },
         "name": "1",
         "offsetgroup": "1",
         "orientation": "v",
         "showlegend": true,
         "type": "histogram",
         "x": [
          6037.19,
          16300.41,
          17507.85,
          16904.13,
          10263.22,
          18111.57,
          9659.5,
          12678.1,
          18111.57,
          4226.03,
          7244.63,
          15696.69,
          9055.78,
          9659.5,
          18111.57,
          16904.13,
          18111.57,
          14489.25,
          16904.13,
          16904.13,
          16904.13,
          16300.41,
          6640.91,
          12074.38,
          16904.13,
          16904.13,
          9659.5,
          17507.85,
          18111.57,
          14489.25,
          15696.69,
          11470.66,
          20526.44,
          8452.06,
          16904.13,
          15696.69,
          18111.57,
          16904.13,
          15696.69,
          20526.44,
          13885.53,
          18111.57,
          16904.13,
          6037.19,
          16300.41,
          21130.16,
          9659.5,
          6037.19,
          9659.5,
          9055.78,
          16904.13,
          7848.35,
          14489.25,
          15696.69,
          15092.97,
          14489.25,
          16904.13,
          6037.19,
          16300.41,
          5433.47,
          8452.06,
          12678.1,
          9659.5,
          3622.31,
          6037.19,
          16904.13,
          16904.13,
          12074.38,
          16300.41,
          17507.85,
          12678.1,
          16904.13,
          7244.63,
          13885.53,
          16300.41,
          16904.13,
          12678.1,
          15696.69,
          18111.57,
          9659.5,
          12678.1,
          15696.69,
          12074.38,
          16300.41,
          16904.13,
          18111.57,
          15696.69,
          6640.91,
          4829.75,
          16904.13,
          13281.82,
          13281.82,
          6037.19,
          15696.69,
          12074.38,
          10263.22,
          16904.13,
          9659.5,
          16904.13,
          9055.78,
          15092.97,
          9659.5,
          20526.44,
          10866.94,
          8452.06,
          7848.35,
          7848.35,
          18111.57,
          13885.53,
          16904.13,
          9659.5,
          13281.82,
          20526.44,
          16904.13,
          8452.06,
          6640.91,
          19922.72,
          12678.1,
          9659.5,
          13281.82,
          21733.88,
          16300.41,
          13885.53,
          16904.13,
          16300.41,
          20526.44,
          9659.5,
          15696.69,
          18715.29,
          20526.44,
          18715.29,
          16904.13,
          16300.41,
          16300.41,
          6640.91,
          14489.25,
          11470.66,
          14489.25,
          7848.35,
          7848.35,
          14489.25,
          20526.44,
          20526.44,
          16904.13,
          16904.13,
          16904.13,
          18111.57,
          16904.13,
          13281.82,
          16904.13,
          15696.69,
          15696.69,
          18111.57,
          12074.38,
          10263.22,
          13885.53,
          8452.06,
          18111.57,
          6037.19,
          15696.69,
          18111.57,
          18111.57,
          16300.41,
          10866.94,
          18111.57,
          18111.57,
          20526.44,
          16904.13,
          12074.38,
          16904.13,
          18111.57,
          12678.1,
          9659.5,
          10263.22,
          13281.82,
          14489.25,
          18111.57,
          3622.31,
          10866.94,
          17507.85,
          6037.19,
          15092.97,
          16300.41,
          20526.44,
          9659.5,
          15696.69,
          5433.47,
          16300.41,
          7244.63,
          18111.57,
          16904.13,
          16904.13,
          14489.25,
          16904.13,
          6640.91,
          9659.5,
          10866.94,
          16904.13,
          6037.19,
          6037.19,
          16904.13,
          10866.94,
          9659.5,
          16904.13,
          20526.44,
          16300.41,
          9659.5,
          18111.57,
          18111.57,
          16904.13,
          15092.97,
          9659.5,
          8452.06,
          6640.91,
          19922.72,
          13281.82,
          16904.13,
          16904.13,
          17507.85,
          15696.69,
          16904.13,
          16904.13,
          9659.5,
          14489.25,
          17507.85,
          9659.5,
          18111.57,
          9055.78,
          20526.44,
          13281.82,
          18111.57,
          18111.57,
          18111.57,
          13281.82,
          16904.13,
          14489.25,
          17507.85,
          16300.41,
          8452.06,
          18111.57,
          17507.85,
          12074.38,
          17507.85,
          13281.82,
          13281.82,
          4829.75,
          9659.5,
          20526.44,
          13281.82,
          6037.19,
          12678.1,
          8452.06,
          6640.91,
          12074.38,
          15696.69,
          12678.1,
          15696.69,
          15696.69,
          16300.41,
          6640.91,
          16904.13,
          8452.06,
          18111.57,
          18111.57,
          6037.19,
          16904.13,
          16904.13,
          6037.19,
          18111.57,
          9055.78,
          10866.94,
          9659.5,
          13885.53,
          15696.69,
          6037.19,
          6640.91,
          12678.1,
          18111.57,
          17507.85,
          6037.19,
          10866.94,
          12074.38,
          10866.94,
          10263.22,
          12074.38,
          12678.1,
          18111.57,
          18111.57,
          16904.13,
          17507.85,
          15092.97,
          13281.82,
          18111.57,
          12678.1,
          6037.19,
          8452.06,
          7244.63,
          17507.85,
          16300.41,
          16904.13,
          16904.13,
          4226.03,
          16904.13,
          12678.1,
          16300.41,
          13281.82,
          16300.41,
          16904.13,
          9659.5,
          7244.63,
          20526.44,
          12678.1,
          6037.19,
          16904.13,
          16904.13,
          16904.13,
          16904.13,
          18111.57,
          12074.38,
          18111.57,
          8452.06,
          18111.57,
          5433.47,
          7244.63,
          8452.06,
          12678.1,
          18715.29,
          14489.25,
          6037.19,
          16904.13,
          16904.13,
          14489.25,
          18111.57,
          17507.85,
          15696.69,
          20526.44,
          17507.85,
          7244.63,
          4829.75,
          20526.44,
          12678.1,
          18111.57,
          18111.57,
          17507.85,
          18111.57,
          11470.66,
          16904.13,
          16904.13,
          16904.13,
          4829.75,
          7244.63,
          17507.85,
          16904.13,
          16904.13,
          15696.69,
          15092.97,
          12074.38,
          16904.13,
          18111.57,
          11470.66,
          6640.91,
          16904.13,
          10263.22,
          13885.53,
          16904.13,
          9659.5,
          15696.69,
          10263.22,
          16904.13,
          10866.94,
          6640.91,
          10263.22,
          16300.41,
          16300.41,
          12678.1,
          20526.44,
          14489.25,
          8452.06,
          6037.19,
          16300.41,
          17507.85,
          18111.57,
          18111.57,
          18111.57,
          13281.82,
          17507.85,
          9659.5,
          5433.47,
          17507.85,
          16904.13,
          11470.66,
          16904.13,
          7244.63,
          12074.38,
          8452.06,
          21733.88,
          18111.57,
          15696.69,
          13281.82,
          15092.97,
          13281.82,
          7244.63,
          18111.57,
          16904.13,
          7244.63,
          8452.06,
          7244.63,
          15696.69,
          9659.5,
          7244.63,
          16904.13,
          16904.13,
          13885.53,
          16904.13,
          10866.94,
          10263.22,
          9659.5,
          13281.82,
          16300.41,
          20526.44,
          16904.13,
          16904.13,
          9659.5,
          14489.25,
          18111.57,
          9659.5,
          20526.44,
          9055.78,
          20526.44,
          9659.5,
          8452.06,
          16904.13,
          18111.57,
          4829.75,
          18111.57,
          18111.57,
          8452.06,
          18111.57,
          13281.82,
          8452.06,
          16904.13,
          6037.19,
          20526.44,
          8452.06,
          6037.19,
          15696.69,
          4829.75,
          9659.5,
          6037.19,
          16904.13,
          16300.41,
          12074.38,
          6037.19,
          7848.35,
          14489.25,
          18111.57,
          6640.91,
          14489.25,
          16904.13,
          16904.13,
          16904.13,
          18111.57,
          10866.94,
          6037.19,
          6640.91,
          12678.1,
          10866.94,
          16904.13,
          13885.53,
          9659.5,
          16904.13,
          16904.13,
          20526.44,
          16300.41,
          16300.41,
          12678.1,
          4829.75,
          9659.5,
          16904.13,
          15092.97,
          9055.78,
          17507.85,
          18111.57,
          8452.06,
          16904.13,
          18111.57,
          20526.44,
          16904.13,
          8452.06,
          16904.13,
          7848.35,
          18111.57,
          10263.22,
          16904.13,
          8452.06,
          10263.22,
          16300.41,
          14489.25,
          6640.91,
          17507.85,
          17507.85,
          6037.19,
          16904.13,
          16904.13,
          16904.13,
          7848.35,
          13885.53,
          12678.1,
          16904.13,
          9055.78,
          12074.38,
          8452.06,
          14489.25,
          14489.25,
          6037.19,
          15696.69,
          9659.5,
          16300.41,
          13885.53,
          15696.69,
          7848.35,
          16904.13,
          13885.53,
          8452.06,
          16904.13,
          6037.19,
          6037.19,
          4829.75,
          14489.25,
          6037.19,
          12678.1,
          16300.41,
          13281.82,
          20526.44,
          7244.63,
          18111.57,
          13281.82,
          21130.16,
          16904.13,
          6037.19,
          16300.41,
          16904.13,
          9055.78,
          7244.63,
          4829.75,
          21130.16,
          20526.44,
          17507.85,
          12074.38,
          16904.13,
          15092.97,
          3622.31,
          16300.41,
          6640.91,
          15092.97,
          15092.97,
          7244.63,
          21130.16,
          7848.35,
          6037.19,
          6640.91,
          16904.13,
          18111.57,
          9055.78,
          17507.85,
          16904.13,
          17507.85,
          13281.82,
          18111.57,
          18111.57,
          18111.57,
          13281.82,
          6640.91,
          20526.44,
          17507.85,
          16904.13,
          20526.44,
          16904.13,
          3622.31,
          4226.03,
          18111.57,
          16904.13,
          16904.13,
          15696.69,
          6037.19,
          12074.38,
          16904.13,
          13885.53,
          3622.31,
          12678.1,
          10866.94,
          9659.5,
          14489.25,
          20526.44,
          13281.82,
          15092.97,
          21733.88,
          18111.57,
          13281.82,
          6037.19,
          16904.13,
          14489.25,
          15696.69,
          6037.19,
          12678.1,
          16300.41,
          16300.41,
          9055.78,
          12678.1,
          16300.41,
          16904.13,
          9659.5,
          16904.13,
          15696.69,
          8452.06,
          15092.97,
          16300.41,
          16904.13,
          18111.57,
          8452.06,
          20526.44,
          17507.85,
          18111.57,
          10866.94,
          18111.57,
          10866.94,
          9055.78,
          11470.66,
          18111.57,
          7244.63,
          17507.85,
          10866.94,
          18111.57,
          15696.69,
          9659.5,
          16904.13,
          13281.82,
          20526.44,
          14489.25,
          8452.06,
          18111.57,
          18111.57,
          17507.85,
          20526.44,
          17507.85,
          16904.13,
          6640.91,
          16300.41,
          6640.91,
          6640.91,
          12678.1,
          16904.13,
          16300.41,
          21733.88,
          9659.5,
          16904.13,
          20526.44,
          14489.25,
          6640.91,
          15696.69,
          18715.29,
          9055.78,
          4829.75,
          16904.13,
          9659.5,
          16904.13,
          18111.57,
          20526.44,
          18111.57,
          16904.13,
          18111.57,
          8452.06,
          12678.1,
          15696.69,
          16300.41,
          14489.25,
          9659.5,
          16904.13,
          13281.82,
          7848.35,
          17507.85,
          7244.63,
          18715.29,
          15696.69,
          16904.13,
          16904.13,
          12074.38,
          18111.57,
          7244.63,
          18111.57,
          5433.47,
          18111.57,
          6640.91,
          10263.22,
          9659.5,
          8452.06,
          18111.57,
          15696.69,
          4226.03,
          3622.31,
          13281.82,
          6640.91,
          6037.19,
          16300.41,
          16904.13,
          16300.41,
          8452.06,
          10263.22,
          18111.57,
          12074.38
         ],
         "xaxis": "x",
         "yaxis": "y"
        }
       ],
       "layout": {
        "barmode": "relative",
        "height": 1000,
        "legend": {
         "title": {
          "text": "TravelInsurance"
         },
         "tracegroupgap": 0
        },
        "template": {
         "data": {
          "bar": [
           {
            "error_x": {
             "color": "#2a3f5f"
            },
            "error_y": {
             "color": "#2a3f5f"
            },
            "marker": {
             "line": {
              "color": "#E5ECF6",
              "width": 0.5
             },
             "pattern": {
              "fillmode": "overlay",
              "size": 10,
              "solidity": 0.2
             }
            },
            "type": "bar"
           }
          ],
          "barpolar": [
           {
            "marker": {
             "line": {
              "color": "#E5ECF6",
              "width": 0.5
             },
             "pattern": {
              "fillmode": "overlay",
              "size": 10,
              "solidity": 0.2
             }
            },
            "type": "barpolar"
           }
          ],
          "carpet": [
           {
            "aaxis": {
             "endlinecolor": "#2a3f5f",
             "gridcolor": "white",
             "linecolor": "white",
             "minorgridcolor": "white",
             "startlinecolor": "#2a3f5f"
            },
            "baxis": {
             "endlinecolor": "#2a3f5f",
             "gridcolor": "white",
             "linecolor": "white",
             "minorgridcolor": "white",
             "startlinecolor": "#2a3f5f"
            },
            "type": "carpet"
           }
          ],
          "choropleth": [
           {
            "colorbar": {
             "outlinewidth": 0,
             "ticks": ""
            },
            "type": "choropleth"
           }
          ],
          "contour": [
           {
            "colorbar": {
             "outlinewidth": 0,
             "ticks": ""
            },
            "colorscale": [
             [
              0,
              "#0d0887"
             ],
             [
              0.1111111111111111,
              "#46039f"
             ],
             [
              0.2222222222222222,
              "#7201a8"
             ],
             [
              0.3333333333333333,
              "#9c179e"
             ],
             [
              0.4444444444444444,
              "#bd3786"
             ],
             [
              0.5555555555555556,
              "#d8576b"
             ],
             [
              0.6666666666666666,
              "#ed7953"
             ],
             [
              0.7777777777777778,
              "#fb9f3a"
             ],
             [
              0.8888888888888888,
              "#fdca26"
             ],
             [
              1,
              "#f0f921"
             ]
            ],
            "type": "contour"
           }
          ],
          "contourcarpet": [
           {
            "colorbar": {
             "outlinewidth": 0,
             "ticks": ""
            },
            "type": "contourcarpet"
           }
          ],
          "heatmap": [
           {
            "colorbar": {
             "outlinewidth": 0,
             "ticks": ""
            },
            "colorscale": [
             [
              0,
              "#0d0887"
             ],
             [
              0.1111111111111111,
              "#46039f"
             ],
             [
              0.2222222222222222,
              "#7201a8"
             ],
             [
              0.3333333333333333,
              "#9c179e"
             ],
             [
              0.4444444444444444,
              "#bd3786"
             ],
             [
              0.5555555555555556,
              "#d8576b"
             ],
             [
              0.6666666666666666,
              "#ed7953"
             ],
             [
              0.7777777777777778,
              "#fb9f3a"
             ],
             [
              0.8888888888888888,
              "#fdca26"
             ],
             [
              1,
              "#f0f921"
             ]
            ],
            "type": "heatmap"
           }
          ],
          "heatmapgl": [
           {
            "colorbar": {
             "outlinewidth": 0,
             "ticks": ""
            },
            "colorscale": [
             [
              0,
              "#0d0887"
             ],
             [
              0.1111111111111111,
              "#46039f"
             ],
             [
              0.2222222222222222,
              "#7201a8"
             ],
             [
              0.3333333333333333,
              "#9c179e"
             ],
             [
              0.4444444444444444,
              "#bd3786"
             ],
             [
              0.5555555555555556,
              "#d8576b"
             ],
             [
              0.6666666666666666,
              "#ed7953"
             ],
             [
              0.7777777777777778,
              "#fb9f3a"
             ],
             [
              0.8888888888888888,
              "#fdca26"
             ],
             [
              1,
              "#f0f921"
             ]
            ],
            "type": "heatmapgl"
           }
          ],
          "histogram": [
           {
            "marker": {
             "pattern": {
              "fillmode": "overlay",
              "size": 10,
              "solidity": 0.2
             }
            },
            "type": "histogram"
           }
          ],
          "histogram2d": [
           {
            "colorbar": {
             "outlinewidth": 0,
             "ticks": ""
            },
            "colorscale": [
             [
              0,
              "#0d0887"
             ],
             [
              0.1111111111111111,
              "#46039f"
             ],
             [
              0.2222222222222222,
              "#7201a8"
             ],
             [
              0.3333333333333333,
              "#9c179e"
             ],
             [
              0.4444444444444444,
              "#bd3786"
             ],
             [
              0.5555555555555556,
              "#d8576b"
             ],
             [
              0.6666666666666666,
              "#ed7953"
             ],
             [
              0.7777777777777778,
              "#fb9f3a"
             ],
             [
              0.8888888888888888,
              "#fdca26"
             ],
             [
              1,
              "#f0f921"
             ]
            ],
            "type": "histogram2d"
           }
          ],
          "histogram2dcontour": [
           {
            "colorbar": {
             "outlinewidth": 0,
             "ticks": ""
            },
            "colorscale": [
             [
              0,
              "#0d0887"
             ],
             [
              0.1111111111111111,
              "#46039f"
             ],
             [
              0.2222222222222222,
              "#7201a8"
             ],
             [
              0.3333333333333333,
              "#9c179e"
             ],
             [
              0.4444444444444444,
              "#bd3786"
             ],
             [
              0.5555555555555556,
              "#d8576b"
             ],
             [
              0.6666666666666666,
              "#ed7953"
             ],
             [
              0.7777777777777778,
              "#fb9f3a"
             ],
             [
              0.8888888888888888,
              "#fdca26"
             ],
             [
              1,
              "#f0f921"
             ]
            ],
            "type": "histogram2dcontour"
           }
          ],
          "mesh3d": [
           {
            "colorbar": {
             "outlinewidth": 0,
             "ticks": ""
            },
            "type": "mesh3d"
           }
          ],
          "parcoords": [
           {
            "line": {
             "colorbar": {
              "outlinewidth": 0,
              "ticks": ""
             }
            },
            "type": "parcoords"
           }
          ],
          "pie": [
           {
            "automargin": true,
            "type": "pie"
           }
          ],
          "scatter": [
           {
            "fillpattern": {
             "fillmode": "overlay",
             "size": 10,
             "solidity": 0.2
            },
            "type": "scatter"
           }
          ],
          "scatter3d": [
           {
            "line": {
             "colorbar": {
              "outlinewidth": 0,
              "ticks": ""
             }
            },
            "marker": {
             "colorbar": {
              "outlinewidth": 0,
              "ticks": ""
             }
            },
            "type": "scatter3d"
           }
          ],
          "scattercarpet": [
           {
            "marker": {
             "colorbar": {
              "outlinewidth": 0,
              "ticks": ""
             }
            },
            "type": "scattercarpet"
           }
          ],
          "scattergeo": [
           {
            "marker": {
             "colorbar": {
              "outlinewidth": 0,
              "ticks": ""
             }
            },
            "type": "scattergeo"
           }
          ],
          "scattergl": [
           {
            "marker": {
             "colorbar": {
              "outlinewidth": 0,
              "ticks": ""
             }
            },
            "type": "scattergl"
           }
          ],
          "scattermapbox": [
           {
            "marker": {
             "colorbar": {
              "outlinewidth": 0,
              "ticks": ""
             }
            },
            "type": "scattermapbox"
           }
          ],
          "scatterpolar": [
           {
            "marker": {
             "colorbar": {
              "outlinewidth": 0,
              "ticks": ""
             }
            },
            "type": "scatterpolar"
           }
          ],
          "scatterpolargl": [
           {
            "marker": {
             "colorbar": {
              "outlinewidth": 0,
              "ticks": ""
             }
            },
            "type": "scatterpolargl"
           }
          ],
          "scatterternary": [
           {
            "marker": {
             "colorbar": {
              "outlinewidth": 0,
              "ticks": ""
             }
            },
            "type": "scatterternary"
           }
          ],
          "surface": [
           {
            "colorbar": {
             "outlinewidth": 0,
             "ticks": ""
            },
            "colorscale": [
             [
              0,
              "#0d0887"
             ],
             [
              0.1111111111111111,
              "#46039f"
             ],
             [
              0.2222222222222222,
              "#7201a8"
             ],
             [
              0.3333333333333333,
              "#9c179e"
             ],
             [
              0.4444444444444444,
              "#bd3786"
             ],
             [
              0.5555555555555556,
              "#d8576b"
             ],
             [
              0.6666666666666666,
              "#ed7953"
             ],
             [
              0.7777777777777778,
              "#fb9f3a"
             ],
             [
              0.8888888888888888,
              "#fdca26"
             ],
             [
              1,
              "#f0f921"
             ]
            ],
            "type": "surface"
           }
          ],
          "table": [
           {
            "cells": {
             "fill": {
              "color": "#EBF0F8"
             },
             "line": {
              "color": "white"
             }
            },
            "header": {
             "fill": {
              "color": "#C8D4E3"
             },
             "line": {
              "color": "white"
             }
            },
            "type": "table"
           }
          ]
         },
         "layout": {
          "annotationdefaults": {
           "arrowcolor": "#2a3f5f",
           "arrowhead": 0,
           "arrowwidth": 1
          },
          "autotypenumbers": "strict",
          "coloraxis": {
           "colorbar": {
            "outlinewidth": 0,
            "ticks": ""
           }
          },
          "colorscale": {
           "diverging": [
            [
             0,
             "#8e0152"
            ],
            [
             0.1,
             "#c51b7d"
            ],
            [
             0.2,
             "#de77ae"
            ],
            [
             0.3,
             "#f1b6da"
            ],
            [
             0.4,
             "#fde0ef"
            ],
            [
             0.5,
             "#f7f7f7"
            ],
            [
             0.6,
             "#e6f5d0"
            ],
            [
             0.7,
             "#b8e186"
            ],
            [
             0.8,
             "#7fbc41"
            ],
            [
             0.9,
             "#4d9221"
            ],
            [
             1,
             "#276419"
            ]
           ],
           "sequential": [
            [
             0,
             "#0d0887"
            ],
            [
             0.1111111111111111,
             "#46039f"
            ],
            [
             0.2222222222222222,
             "#7201a8"
            ],
            [
             0.3333333333333333,
             "#9c179e"
            ],
            [
             0.4444444444444444,
             "#bd3786"
            ],
            [
             0.5555555555555556,
             "#d8576b"
            ],
            [
             0.6666666666666666,
             "#ed7953"
            ],
            [
             0.7777777777777778,
             "#fb9f3a"
            ],
            [
             0.8888888888888888,
             "#fdca26"
            ],
            [
             1,
             "#f0f921"
            ]
           ],
           "sequentialminus": [
            [
             0,
             "#0d0887"
            ],
            [
             0.1111111111111111,
             "#46039f"
            ],
            [
             0.2222222222222222,
             "#7201a8"
            ],
            [
             0.3333333333333333,
             "#9c179e"
            ],
            [
             0.4444444444444444,
             "#bd3786"
            ],
            [
             0.5555555555555556,
             "#d8576b"
            ],
            [
             0.6666666666666666,
             "#ed7953"
            ],
            [
             0.7777777777777778,
             "#fb9f3a"
            ],
            [
             0.8888888888888888,
             "#fdca26"
            ],
            [
             1,
             "#f0f921"
            ]
           ]
          },
          "colorway": [
           "#636efa",
           "#EF553B",
           "#00cc96",
           "#ab63fa",
           "#FFA15A",
           "#19d3f3",
           "#FF6692",
           "#B6E880",
           "#FF97FF",
           "#FECB52"
          ],
          "font": {
           "color": "#2a3f5f"
          },
          "geo": {
           "bgcolor": "white",
           "lakecolor": "white",
           "landcolor": "#E5ECF6",
           "showlakes": true,
           "showland": true,
           "subunitcolor": "white"
          },
          "hoverlabel": {
           "align": "left"
          },
          "hovermode": "closest",
          "mapbox": {
           "style": "light"
          },
          "paper_bgcolor": "white",
          "plot_bgcolor": "#E5ECF6",
          "polar": {
           "angularaxis": {
            "gridcolor": "white",
            "linecolor": "white",
            "ticks": ""
           },
           "bgcolor": "#E5ECF6",
           "radialaxis": {
            "gridcolor": "white",
            "linecolor": "white",
            "ticks": ""
           }
          },
          "scene": {
           "xaxis": {
            "backgroundcolor": "#E5ECF6",
            "gridcolor": "white",
            "gridwidth": 2,
            "linecolor": "white",
            "showbackground": true,
            "ticks": "",
            "zerolinecolor": "white"
           },
           "yaxis": {
            "backgroundcolor": "#E5ECF6",
            "gridcolor": "white",
            "gridwidth": 2,
            "linecolor": "white",
            "showbackground": true,
            "ticks": "",
            "zerolinecolor": "white"
           },
           "zaxis": {
            "backgroundcolor": "#E5ECF6",
            "gridcolor": "white",
            "gridwidth": 2,
            "linecolor": "white",
            "showbackground": true,
            "ticks": "",
            "zerolinecolor": "white"
           }
          },
          "shapedefaults": {
           "line": {
            "color": "#2a3f5f"
           }
          },
          "ternary": {
           "aaxis": {
            "gridcolor": "white",
            "linecolor": "white",
            "ticks": ""
           },
           "baxis": {
            "gridcolor": "white",
            "linecolor": "white",
            "ticks": ""
           },
           "bgcolor": "#E5ECF6",
           "caxis": {
            "gridcolor": "white",
            "linecolor": "white",
            "ticks": ""
           }
          },
          "title": {
           "x": 0.05
          },
          "xaxis": {
           "automargin": true,
           "gridcolor": "white",
           "linecolor": "white",
           "ticks": "",
           "title": {
            "standoff": 15
           },
           "zerolinecolor": "white",
           "zerolinewidth": 2
          },
          "yaxis": {
           "automargin": true,
           "gridcolor": "white",
           "linecolor": "white",
           "ticks": "",
           "title": {
            "standoff": 15
           },
           "zerolinecolor": "white",
           "zerolinewidth": 2
          }
         }
        },
        "title": {
         "text": "Souscription d une assurance voyage en fonction du revenu annuel"
        },
        "width": 1000,
        "xaxis": {
         "anchor": "y",
         "domain": [
          0,
          1
         ],
         "title": {
          "text": "AnnualIncome"
         }
        },
        "yaxis": {
         "anchor": "x",
         "domain": [
          0,
          1
         ],
         "title": {
          "text": "count"
         }
        }
       }
      }
     },
     "metadata": {},
     "output_type": "display_data"
    }
   ],
   "source": [
    "#Visualisation de la souscription d'une assurance voyage en fonction du revenu annuel#\n",
    "\n",
    "px.histogram(tip,\n",
    "             x='AnnualIncome',\n",
    "             color='TravelInsurance',\n",
    "             color_discrete_map={1:'#E1812B', 0:'#377BA6'},\n",
    "             title='Souscription d une assurance voyage en fonction du revenu annuel',\n",
    "             width=1000,\n",
    "             height=1000,\n",
    "             )"
   ]
  },
  {
   "cell_type": "code",
   "execution_count": 38,
   "metadata": {},
   "outputs": [
    {
     "data": {
      "application/vnd.plotly.v1+json": {
       "config": {
        "plotlyServerURL": "https://plot.ly"
       },
       "data": [
        {
         "alignmentgroup": "True",
         "bingroup": "x",
         "hovertemplate": "TravelInsurance=0<br>FamilyMembers=%{x}<br>count=%{y}<extra></extra>",
         "legendgroup": "0",
         "marker": {
          "color": "#377BA6",
          "pattern": {
           "shape": ""
          }
         },
         "name": "0",
         "offsetgroup": "0",
         "orientation": "v",
         "showlegend": true,
         "type": "histogram",
         "x": [
          6,
          7,
          3,
          8,
          4,
          4,
          3,
          9,
          3,
          7,
          4,
          6,
          4,
          7,
          4,
          2,
          4,
          3,
          6,
          4,
          3,
          4,
          9,
          4,
          2,
          5,
          5,
          3,
          3,
          3,
          4,
          2,
          7,
          5,
          4,
          4,
          2,
          5,
          6,
          4,
          4,
          4,
          6,
          6,
          7,
          4,
          5,
          4,
          5,
          4,
          8,
          4,
          6,
          4,
          6,
          5,
          8,
          3,
          4,
          5,
          4,
          4,
          7,
          6,
          3,
          3,
          3,
          3,
          3,
          3,
          5,
          5,
          4,
          4,
          5,
          4,
          5,
          4,
          3,
          6,
          3,
          4,
          5,
          5,
          6,
          4,
          4,
          4,
          5,
          4,
          4,
          4,
          3,
          9,
          4,
          4,
          6,
          4,
          5,
          5,
          5,
          4,
          4,
          3,
          7,
          5,
          6,
          4,
          7,
          3,
          7,
          6,
          7,
          8,
          3,
          5,
          6,
          4,
          6,
          3,
          3,
          3,
          9,
          4,
          5,
          3,
          4,
          5,
          5,
          5,
          4,
          4,
          4,
          3,
          3,
          5,
          5,
          5,
          5,
          5,
          6,
          7,
          9,
          2,
          6,
          3,
          3,
          5,
          2,
          6,
          5,
          2,
          7,
          5,
          6,
          6,
          4,
          4,
          8,
          3,
          5,
          7,
          4,
          6,
          4,
          3,
          6,
          5,
          5,
          5,
          7,
          4,
          4,
          9,
          6,
          5,
          5,
          3,
          3,
          6,
          7,
          6,
          6,
          6,
          4,
          4,
          3,
          4,
          4,
          3,
          6,
          3,
          4,
          4,
          5,
          7,
          3,
          4,
          3,
          3,
          4,
          8,
          9,
          8,
          7,
          4,
          5,
          5,
          3,
          3,
          5,
          4,
          5,
          3,
          8,
          4,
          6,
          9,
          7,
          3,
          5,
          7,
          7,
          7,
          4,
          5,
          6,
          6,
          3,
          5,
          9,
          3,
          4,
          5,
          5,
          3,
          4,
          2,
          4,
          6,
          3,
          4,
          7,
          5,
          5,
          5,
          7,
          6,
          4,
          5,
          5,
          4,
          3,
          5,
          5,
          5,
          3,
          5,
          5,
          5,
          5,
          4,
          4,
          3,
          8,
          6,
          2,
          5,
          4,
          6,
          7,
          5,
          3,
          4,
          5,
          4,
          5,
          5,
          5,
          2,
          6,
          5,
          4,
          4,
          7,
          5,
          3,
          9,
          6,
          2,
          3,
          6,
          4,
          3,
          4,
          4,
          4,
          3,
          6,
          2,
          4,
          5,
          5,
          2,
          3,
          5,
          3,
          4,
          4,
          4,
          9,
          4,
          4,
          4,
          3,
          9,
          5,
          3,
          7,
          5,
          4,
          7,
          5,
          6,
          3,
          5,
          4,
          4,
          6,
          2,
          5,
          3,
          5,
          5,
          7,
          3,
          4,
          6,
          5,
          4,
          9,
          4,
          4,
          5,
          4,
          3,
          6,
          3,
          3,
          2,
          4,
          5,
          4,
          3,
          3,
          6,
          3,
          5,
          5,
          5,
          4,
          5,
          6,
          4,
          4,
          3,
          3,
          9,
          4,
          6,
          5,
          3,
          5,
          4,
          5,
          5,
          5,
          3,
          5,
          4,
          3,
          4,
          4,
          3,
          5,
          7,
          5,
          3,
          4,
          5,
          5,
          4,
          4,
          5,
          7,
          3,
          8,
          8,
          6,
          9,
          6,
          5,
          3,
          7,
          4,
          4,
          5,
          3,
          9,
          4,
          6,
          6,
          9,
          4,
          9,
          3,
          7,
          4,
          4,
          5,
          5,
          5,
          5,
          6,
          5,
          4,
          4,
          6,
          4,
          5,
          7,
          6,
          4,
          6,
          3,
          4,
          5,
          6,
          6,
          5,
          4,
          5,
          3,
          4,
          3,
          2,
          2,
          3,
          7,
          7,
          5,
          4,
          4,
          4,
          3,
          5,
          7,
          8,
          3,
          6,
          5,
          7,
          2,
          3,
          8,
          6,
          5,
          4,
          4,
          3,
          4,
          5,
          4,
          4,
          4,
          2,
          4,
          2,
          3,
          6,
          3,
          5,
          4,
          4,
          4,
          7,
          7,
          6,
          5,
          3,
          3,
          5,
          4,
          4,
          3,
          4,
          6,
          6,
          4,
          5,
          4,
          5,
          4,
          3,
          6,
          3,
          5,
          3,
          6,
          5,
          3,
          5,
          6,
          6,
          4,
          7,
          7,
          2,
          4,
          7,
          6,
          7,
          3,
          7,
          4,
          3,
          6,
          7,
          4,
          3,
          5,
          4,
          3,
          4,
          3,
          6,
          5,
          4,
          4,
          4,
          4,
          4,
          4,
          3,
          5,
          6,
          9,
          7,
          5,
          3,
          3,
          2,
          3,
          4,
          6,
          4,
          4,
          3,
          6,
          3,
          6,
          5,
          4,
          4,
          3,
          3,
          6,
          5,
          5,
          2,
          5,
          3,
          4,
          3,
          4,
          4,
          6,
          4,
          4,
          5,
          4,
          6,
          3,
          5,
          4,
          2,
          4,
          5,
          5,
          2,
          4,
          6,
          6,
          5,
          3,
          4,
          5,
          6,
          2,
          6,
          5,
          4,
          4,
          4,
          6,
          3,
          6,
          5,
          5,
          3,
          4,
          5,
          6,
          5,
          3,
          9,
          5,
          5,
          5,
          6,
          5,
          5,
          5,
          6,
          6,
          5,
          8,
          5,
          5,
          3,
          7,
          3,
          5,
          4,
          4,
          8,
          3,
          5,
          5,
          7,
          4,
          2,
          6,
          5,
          4,
          4,
          8,
          5,
          4,
          4,
          6,
          8,
          5,
          4,
          9,
          3,
          7,
          4,
          5,
          4,
          5,
          3,
          3,
          3,
          9,
          4,
          3,
          5,
          3,
          2,
          2,
          8,
          4,
          5,
          5,
          7,
          2,
          4,
          7,
          5,
          4,
          6,
          6,
          4,
          5,
          3,
          4,
          6,
          5,
          7,
          4,
          5,
          8,
          6,
          7,
          5,
          5,
          4,
          3,
          3,
          7,
          8,
          8,
          4,
          7,
          3,
          7,
          9,
          3,
          5,
          5,
          8,
          6,
          4,
          5,
          5,
          5,
          4,
          4,
          3,
          4,
          5,
          3,
          2,
          5,
          2,
          6,
          4,
          5,
          5,
          4,
          6,
          4,
          5,
          3,
          5,
          6,
          4,
          4,
          4,
          6,
          4,
          4,
          5,
          4,
          5,
          4,
          6,
          5,
          2,
          3,
          3,
          3,
          3,
          4,
          3,
          5,
          4,
          4,
          4,
          5,
          2,
          6,
          6,
          3,
          5,
          4,
          4,
          4,
          3,
          6,
          5,
          3,
          3,
          5,
          3,
          3,
          2,
          4,
          7,
          5,
          6,
          3,
          6,
          9,
          5,
          2,
          7,
          7,
          5,
          2,
          3,
          5,
          3,
          7,
          4,
          4,
          5,
          4,
          3,
          3,
          7,
          5,
          3,
          3,
          4,
          7,
          5,
          4,
          7,
          5,
          3,
          5,
          4,
          7,
          6,
          5,
          3,
          3,
          4,
          3,
          6,
          4,
          2,
          5,
          4,
          3,
          4,
          3,
          2,
          9,
          6,
          4,
          3,
          4,
          6,
          6,
          3,
          5,
          5,
          3,
          7,
          5,
          7,
          3,
          6,
          7,
          5,
          5,
          4,
          2,
          4,
          4,
          5,
          5,
          3,
          4,
          3,
          2,
          4,
          3,
          4,
          4,
          5,
          2,
          3,
          7,
          2,
          7,
          6,
          3,
          2,
          4,
          6,
          4,
          6,
          3,
          2,
          3,
          4,
          4,
          4,
          5,
          5,
          4,
          4,
          3,
          2,
          5,
          9,
          3,
          6,
          3,
          4,
          8,
          4,
          4,
          8,
          6,
          3,
          6,
          5,
          5,
          3,
          4,
          8,
          9,
          4,
          6,
          3,
          5,
          3,
          5,
          4,
          2,
          6,
          4,
          3,
          4,
          4,
          4,
          3,
          7,
          4,
          4,
          8,
          3,
          6,
          3,
          2,
          7,
          5,
          6,
          6,
          4,
          5,
          6,
          5,
          4,
          5,
          4,
          4,
          4,
          3,
          4,
          4,
          5,
          3,
          4,
          5,
          6,
          6,
          4,
          4,
          3,
          4,
          6,
          4,
          2,
          4,
          6,
          5,
          4,
          3,
          5,
          3,
          3,
          2,
          4,
          3,
          5,
          3,
          4,
          2,
          5,
          5,
          5,
          7,
          5,
          4,
          4,
          3,
          4,
          8,
          2,
          3,
          4,
          7,
          6,
          5,
          7,
          5,
          3,
          4,
          7,
          7,
          5,
          2,
          5,
          5,
          5,
          5,
          4,
          7,
          3,
          4,
          6,
          3,
          5,
          4,
          6,
          3,
          3,
          5,
          5,
          3,
          8,
          5,
          3,
          6,
          5,
          3,
          4,
          5,
          6,
          7,
          4,
          2,
          3,
          5,
          4,
          5,
          7,
          4,
          6,
          4,
          4,
          3,
          4,
          5,
          3,
          7,
          3,
          5,
          5,
          4,
          6,
          4,
          7,
          9,
          3,
          5,
          5,
          4,
          7,
          3,
          4,
          6,
          3,
          4,
          6,
          3,
          4,
          5,
          5,
          9,
          3,
          3,
          3,
          4,
          8,
          7,
          3,
          4,
          5,
          6,
          4,
          8,
          5,
          6,
          5,
          5,
          2,
          5,
          4,
          6,
          6,
          2,
          5,
          3,
          8,
          6,
          4,
          6,
          4,
          4,
          2,
          6,
          3,
          2,
          6,
          3,
          4,
          6,
          4,
          5,
          3,
          5,
          4,
          6,
          7,
          8,
          2,
          7,
          3,
          3,
          6,
          4,
          2,
          4,
          4,
          5,
          5,
          5,
          5,
          7,
          6,
          2,
          7,
          5,
          3,
          5,
          4,
          3,
          5,
          4,
          8,
          4,
          5,
          4,
          4,
          4,
          3,
          5,
          4,
          2,
          4,
          5,
          3,
          3,
          4,
          5,
          4,
          3,
          3,
          3,
          4,
          6,
          5,
          4,
          3,
          4,
          6,
          4,
          8,
          6,
          3,
          8,
          5,
          5,
          4,
          6,
          6,
          3,
          4,
          5,
          5,
          4,
          5,
          4,
          5,
          4,
          3,
          8,
          3,
          4,
          4,
          5,
          5,
          4,
          7,
          7,
          5,
          6,
          5,
          3,
          4,
          3,
          8,
          5,
          5,
          5,
          7,
          7,
          3,
          3,
          7,
          2,
          4,
          3,
          6,
          5,
          5,
          6,
          5,
          5,
          4,
          4,
          3,
          4,
          4,
          3,
          4,
          2,
          7,
          4,
          4,
          4,
          7,
          4,
          5,
          6,
          5,
          6,
          6,
          5,
          5,
          4,
          3,
          3,
          5,
          7,
          4,
          4,
          4,
          3,
          6,
          5,
          4,
          8,
          5,
          5,
          2,
          2,
          6,
          4,
          6,
          4,
          7,
          3,
          6,
          3,
          7,
          4,
          3,
          3,
          5,
          4,
          5,
          5,
          6,
          6,
          4,
          5,
          5,
          6,
          4
         ],
         "xaxis": "x",
         "yaxis": "y"
        },
        {
         "alignmentgroup": "True",
         "bingroup": "x",
         "hovertemplate": "TravelInsurance=1<br>FamilyMembers=%{x}<br>count=%{y}<extra></extra>",
         "legendgroup": "1",
         "marker": {
          "color": "#E1812B",
          "pattern": {
           "shape": ""
          }
         },
         "name": "1",
         "offsetgroup": "1",
         "orientation": "v",
         "showlegend": true,
         "type": "histogram",
         "x": [
          4,
          3,
          6,
          5,
          6,
          6,
          7,
          5,
          2,
          3,
          9,
          6,
          4,
          9,
          5,
          3,
          2,
          4,
          7,
          5,
          4,
          3,
          3,
          6,
          6,
          9,
          3,
          9,
          3,
          3,
          3,
          4,
          4,
          7,
          5,
          6,
          3,
          5,
          4,
          3,
          5,
          4,
          6,
          3,
          8,
          4,
          6,
          6,
          7,
          3,
          4,
          2,
          7,
          6,
          6,
          5,
          3,
          7,
          6,
          5,
          6,
          6,
          3,
          4,
          9,
          7,
          5,
          7,
          4,
          5,
          4,
          2,
          7,
          5,
          4,
          5,
          8,
          9,
          5,
          6,
          3,
          6,
          6,
          5,
          2,
          5,
          7,
          5,
          3,
          3,
          4,
          4,
          6,
          6,
          6,
          7,
          4,
          5,
          4,
          3,
          3,
          7,
          4,
          5,
          6,
          5,
          4,
          7,
          4,
          5,
          6,
          3,
          2,
          5,
          6,
          4,
          7,
          3,
          2,
          2,
          7,
          6,
          5,
          3,
          4,
          3,
          3,
          6,
          4,
          5,
          6,
          6,
          5,
          5,
          5,
          5,
          4,
          4,
          6,
          5,
          9,
          6,
          5,
          4,
          7,
          3,
          7,
          5,
          7,
          7,
          7,
          7,
          4,
          4,
          5,
          6,
          4,
          4,
          3,
          4,
          5,
          5,
          6,
          4,
          5,
          5,
          5,
          8,
          4,
          4,
          6,
          7,
          6,
          4,
          4,
          5,
          4,
          4,
          6,
          6,
          4,
          5,
          4,
          3,
          6,
          5,
          4,
          5,
          8,
          3,
          4,
          9,
          3,
          7,
          3,
          7,
          6,
          3,
          3,
          3,
          7,
          9,
          6,
          3,
          4,
          5,
          6,
          4,
          4,
          6,
          5,
          4,
          7,
          5,
          2,
          6,
          6,
          4,
          3,
          5,
          4,
          8,
          6,
          5,
          6,
          6,
          4,
          3,
          4,
          4,
          5,
          4,
          3,
          6,
          3,
          7,
          4,
          7,
          8,
          3,
          3,
          8,
          9,
          2,
          7,
          8,
          4,
          5,
          7,
          6,
          7,
          4,
          4,
          6,
          6,
          7,
          6,
          8,
          9,
          6,
          6,
          7,
          3,
          5,
          7,
          6,
          4,
          5,
          5,
          4,
          4,
          7,
          6,
          5,
          4,
          5,
          3,
          6,
          5,
          4,
          4,
          4,
          7,
          7,
          6,
          6,
          6,
          3,
          5,
          4,
          4,
          3,
          3,
          4,
          5,
          7,
          3,
          3,
          5,
          3,
          3,
          3,
          3,
          4,
          3,
          8,
          3,
          3,
          5,
          5,
          3,
          3,
          7,
          6,
          4,
          6,
          4,
          6,
          7,
          6,
          5,
          5,
          7,
          5,
          7,
          5,
          7,
          8,
          8,
          6,
          5,
          3,
          5,
          5,
          6,
          5,
          4,
          6,
          9,
          4,
          6,
          4,
          4,
          3,
          2,
          6,
          3,
          3,
          2,
          7,
          4,
          7,
          4,
          4,
          6,
          5,
          6,
          5,
          4,
          9,
          5,
          4,
          4,
          4,
          3,
          9,
          4,
          3,
          3,
          7,
          4,
          3,
          6,
          4,
          4,
          5,
          5,
          4,
          4,
          4,
          5,
          9,
          7,
          5,
          9,
          7,
          6,
          3,
          7,
          5,
          3,
          4,
          9,
          6,
          5,
          6,
          2,
          4,
          3,
          7,
          7,
          6,
          3,
          5,
          3,
          7,
          4,
          6,
          5,
          3,
          4,
          6,
          2,
          7,
          4,
          7,
          4,
          3,
          3,
          5,
          4,
          4,
          3,
          3,
          5,
          5,
          4,
          2,
          5,
          6,
          6,
          7,
          5,
          9,
          6,
          4,
          6,
          6,
          8,
          6,
          3,
          5,
          3,
          8,
          5,
          7,
          6,
          6,
          4,
          8,
          3,
          5,
          4,
          3,
          5,
          2,
          3,
          5,
          4,
          3,
          5,
          5,
          7,
          2,
          3,
          5,
          5,
          4,
          6,
          3,
          6,
          3,
          4,
          3,
          3,
          6,
          9,
          4,
          4,
          5,
          3,
          4,
          5,
          4,
          3,
          5,
          3,
          3,
          3,
          9,
          6,
          4,
          9,
          4,
          2,
          5,
          6,
          4,
          5,
          5,
          3,
          5,
          4,
          4,
          2,
          6,
          6,
          2,
          3,
          2,
          6,
          7,
          3,
          3,
          4,
          3,
          4,
          3,
          6,
          7,
          3,
          6,
          6,
          3,
          4,
          4,
          7,
          7,
          7,
          5,
          7,
          3,
          4,
          3,
          3,
          5,
          3,
          6,
          7,
          6,
          4,
          7,
          6,
          4,
          6,
          3,
          5,
          5,
          6,
          4,
          6,
          6,
          5,
          5,
          5,
          4,
          8,
          6,
          5,
          4,
          7,
          3,
          4,
          2,
          3,
          9,
          6,
          4,
          3,
          5,
          6,
          4,
          6,
          2,
          4,
          4,
          5,
          5,
          7,
          8,
          6,
          6,
          6,
          4,
          2,
          9,
          3,
          6,
          3,
          3,
          4,
          5,
          4,
          4,
          7,
          3,
          4,
          3,
          7,
          5,
          5,
          5,
          6,
          5,
          8,
          8,
          5,
          7,
          7,
          7,
          6,
          6,
          5,
          2,
          3,
          3,
          4,
          4,
          5,
          3,
          3,
          2,
          3,
          4,
          6,
          7,
          8,
          4,
          5,
          7,
          4,
          3,
          3,
          6,
          4,
          4,
          8,
          6,
          9,
          4,
          3,
          3,
          5,
          3,
          3,
          5,
          4,
          4,
          5,
          3,
          7,
          3,
          5,
          6,
          5,
          4,
          6,
          3,
          6,
          5,
          4,
          3,
          6,
          6,
          5,
          5,
          2,
          3,
          4,
          5,
          4,
          4,
          4,
          4,
          9,
          4,
          7,
          3,
          4,
          4,
          6,
          5,
          6,
          4,
          3,
          5,
          4,
          7,
          7,
          7,
          3,
          4,
          4,
          7,
          6,
          6,
          4,
          7,
          3,
          6,
          4,
          3,
          4,
          3,
          9,
          6,
          5,
          3,
          4,
          6
         ],
         "xaxis": "x",
         "yaxis": "y"
        }
       ],
       "layout": {
        "barmode": "relative",
        "height": 1000,
        "legend": {
         "title": {
          "text": "TravelInsurance"
         },
         "tracegroupgap": 0
        },
        "template": {
         "data": {
          "bar": [
           {
            "error_x": {
             "color": "#2a3f5f"
            },
            "error_y": {
             "color": "#2a3f5f"
            },
            "marker": {
             "line": {
              "color": "#E5ECF6",
              "width": 0.5
             },
             "pattern": {
              "fillmode": "overlay",
              "size": 10,
              "solidity": 0.2
             }
            },
            "type": "bar"
           }
          ],
          "barpolar": [
           {
            "marker": {
             "line": {
              "color": "#E5ECF6",
              "width": 0.5
             },
             "pattern": {
              "fillmode": "overlay",
              "size": 10,
              "solidity": 0.2
             }
            },
            "type": "barpolar"
           }
          ],
          "carpet": [
           {
            "aaxis": {
             "endlinecolor": "#2a3f5f",
             "gridcolor": "white",
             "linecolor": "white",
             "minorgridcolor": "white",
             "startlinecolor": "#2a3f5f"
            },
            "baxis": {
             "endlinecolor": "#2a3f5f",
             "gridcolor": "white",
             "linecolor": "white",
             "minorgridcolor": "white",
             "startlinecolor": "#2a3f5f"
            },
            "type": "carpet"
           }
          ],
          "choropleth": [
           {
            "colorbar": {
             "outlinewidth": 0,
             "ticks": ""
            },
            "type": "choropleth"
           }
          ],
          "contour": [
           {
            "colorbar": {
             "outlinewidth": 0,
             "ticks": ""
            },
            "colorscale": [
             [
              0,
              "#0d0887"
             ],
             [
              0.1111111111111111,
              "#46039f"
             ],
             [
              0.2222222222222222,
              "#7201a8"
             ],
             [
              0.3333333333333333,
              "#9c179e"
             ],
             [
              0.4444444444444444,
              "#bd3786"
             ],
             [
              0.5555555555555556,
              "#d8576b"
             ],
             [
              0.6666666666666666,
              "#ed7953"
             ],
             [
              0.7777777777777778,
              "#fb9f3a"
             ],
             [
              0.8888888888888888,
              "#fdca26"
             ],
             [
              1,
              "#f0f921"
             ]
            ],
            "type": "contour"
           }
          ],
          "contourcarpet": [
           {
            "colorbar": {
             "outlinewidth": 0,
             "ticks": ""
            },
            "type": "contourcarpet"
           }
          ],
          "heatmap": [
           {
            "colorbar": {
             "outlinewidth": 0,
             "ticks": ""
            },
            "colorscale": [
             [
              0,
              "#0d0887"
             ],
             [
              0.1111111111111111,
              "#46039f"
             ],
             [
              0.2222222222222222,
              "#7201a8"
             ],
             [
              0.3333333333333333,
              "#9c179e"
             ],
             [
              0.4444444444444444,
              "#bd3786"
             ],
             [
              0.5555555555555556,
              "#d8576b"
             ],
             [
              0.6666666666666666,
              "#ed7953"
             ],
             [
              0.7777777777777778,
              "#fb9f3a"
             ],
             [
              0.8888888888888888,
              "#fdca26"
             ],
             [
              1,
              "#f0f921"
             ]
            ],
            "type": "heatmap"
           }
          ],
          "heatmapgl": [
           {
            "colorbar": {
             "outlinewidth": 0,
             "ticks": ""
            },
            "colorscale": [
             [
              0,
              "#0d0887"
             ],
             [
              0.1111111111111111,
              "#46039f"
             ],
             [
              0.2222222222222222,
              "#7201a8"
             ],
             [
              0.3333333333333333,
              "#9c179e"
             ],
             [
              0.4444444444444444,
              "#bd3786"
             ],
             [
              0.5555555555555556,
              "#d8576b"
             ],
             [
              0.6666666666666666,
              "#ed7953"
             ],
             [
              0.7777777777777778,
              "#fb9f3a"
             ],
             [
              0.8888888888888888,
              "#fdca26"
             ],
             [
              1,
              "#f0f921"
             ]
            ],
            "type": "heatmapgl"
           }
          ],
          "histogram": [
           {
            "marker": {
             "pattern": {
              "fillmode": "overlay",
              "size": 10,
              "solidity": 0.2
             }
            },
            "type": "histogram"
           }
          ],
          "histogram2d": [
           {
            "colorbar": {
             "outlinewidth": 0,
             "ticks": ""
            },
            "colorscale": [
             [
              0,
              "#0d0887"
             ],
             [
              0.1111111111111111,
              "#46039f"
             ],
             [
              0.2222222222222222,
              "#7201a8"
             ],
             [
              0.3333333333333333,
              "#9c179e"
             ],
             [
              0.4444444444444444,
              "#bd3786"
             ],
             [
              0.5555555555555556,
              "#d8576b"
             ],
             [
              0.6666666666666666,
              "#ed7953"
             ],
             [
              0.7777777777777778,
              "#fb9f3a"
             ],
             [
              0.8888888888888888,
              "#fdca26"
             ],
             [
              1,
              "#f0f921"
             ]
            ],
            "type": "histogram2d"
           }
          ],
          "histogram2dcontour": [
           {
            "colorbar": {
             "outlinewidth": 0,
             "ticks": ""
            },
            "colorscale": [
             [
              0,
              "#0d0887"
             ],
             [
              0.1111111111111111,
              "#46039f"
             ],
             [
              0.2222222222222222,
              "#7201a8"
             ],
             [
              0.3333333333333333,
              "#9c179e"
             ],
             [
              0.4444444444444444,
              "#bd3786"
             ],
             [
              0.5555555555555556,
              "#d8576b"
             ],
             [
              0.6666666666666666,
              "#ed7953"
             ],
             [
              0.7777777777777778,
              "#fb9f3a"
             ],
             [
              0.8888888888888888,
              "#fdca26"
             ],
             [
              1,
              "#f0f921"
             ]
            ],
            "type": "histogram2dcontour"
           }
          ],
          "mesh3d": [
           {
            "colorbar": {
             "outlinewidth": 0,
             "ticks": ""
            },
            "type": "mesh3d"
           }
          ],
          "parcoords": [
           {
            "line": {
             "colorbar": {
              "outlinewidth": 0,
              "ticks": ""
             }
            },
            "type": "parcoords"
           }
          ],
          "pie": [
           {
            "automargin": true,
            "type": "pie"
           }
          ],
          "scatter": [
           {
            "fillpattern": {
             "fillmode": "overlay",
             "size": 10,
             "solidity": 0.2
            },
            "type": "scatter"
           }
          ],
          "scatter3d": [
           {
            "line": {
             "colorbar": {
              "outlinewidth": 0,
              "ticks": ""
             }
            },
            "marker": {
             "colorbar": {
              "outlinewidth": 0,
              "ticks": ""
             }
            },
            "type": "scatter3d"
           }
          ],
          "scattercarpet": [
           {
            "marker": {
             "colorbar": {
              "outlinewidth": 0,
              "ticks": ""
             }
            },
            "type": "scattercarpet"
           }
          ],
          "scattergeo": [
           {
            "marker": {
             "colorbar": {
              "outlinewidth": 0,
              "ticks": ""
             }
            },
            "type": "scattergeo"
           }
          ],
          "scattergl": [
           {
            "marker": {
             "colorbar": {
              "outlinewidth": 0,
              "ticks": ""
             }
            },
            "type": "scattergl"
           }
          ],
          "scattermapbox": [
           {
            "marker": {
             "colorbar": {
              "outlinewidth": 0,
              "ticks": ""
             }
            },
            "type": "scattermapbox"
           }
          ],
          "scatterpolar": [
           {
            "marker": {
             "colorbar": {
              "outlinewidth": 0,
              "ticks": ""
             }
            },
            "type": "scatterpolar"
           }
          ],
          "scatterpolargl": [
           {
            "marker": {
             "colorbar": {
              "outlinewidth": 0,
              "ticks": ""
             }
            },
            "type": "scatterpolargl"
           }
          ],
          "scatterternary": [
           {
            "marker": {
             "colorbar": {
              "outlinewidth": 0,
              "ticks": ""
             }
            },
            "type": "scatterternary"
           }
          ],
          "surface": [
           {
            "colorbar": {
             "outlinewidth": 0,
             "ticks": ""
            },
            "colorscale": [
             [
              0,
              "#0d0887"
             ],
             [
              0.1111111111111111,
              "#46039f"
             ],
             [
              0.2222222222222222,
              "#7201a8"
             ],
             [
              0.3333333333333333,
              "#9c179e"
             ],
             [
              0.4444444444444444,
              "#bd3786"
             ],
             [
              0.5555555555555556,
              "#d8576b"
             ],
             [
              0.6666666666666666,
              "#ed7953"
             ],
             [
              0.7777777777777778,
              "#fb9f3a"
             ],
             [
              0.8888888888888888,
              "#fdca26"
             ],
             [
              1,
              "#f0f921"
             ]
            ],
            "type": "surface"
           }
          ],
          "table": [
           {
            "cells": {
             "fill": {
              "color": "#EBF0F8"
             },
             "line": {
              "color": "white"
             }
            },
            "header": {
             "fill": {
              "color": "#C8D4E3"
             },
             "line": {
              "color": "white"
             }
            },
            "type": "table"
           }
          ]
         },
         "layout": {
          "annotationdefaults": {
           "arrowcolor": "#2a3f5f",
           "arrowhead": 0,
           "arrowwidth": 1
          },
          "autotypenumbers": "strict",
          "coloraxis": {
           "colorbar": {
            "outlinewidth": 0,
            "ticks": ""
           }
          },
          "colorscale": {
           "diverging": [
            [
             0,
             "#8e0152"
            ],
            [
             0.1,
             "#c51b7d"
            ],
            [
             0.2,
             "#de77ae"
            ],
            [
             0.3,
             "#f1b6da"
            ],
            [
             0.4,
             "#fde0ef"
            ],
            [
             0.5,
             "#f7f7f7"
            ],
            [
             0.6,
             "#e6f5d0"
            ],
            [
             0.7,
             "#b8e186"
            ],
            [
             0.8,
             "#7fbc41"
            ],
            [
             0.9,
             "#4d9221"
            ],
            [
             1,
             "#276419"
            ]
           ],
           "sequential": [
            [
             0,
             "#0d0887"
            ],
            [
             0.1111111111111111,
             "#46039f"
            ],
            [
             0.2222222222222222,
             "#7201a8"
            ],
            [
             0.3333333333333333,
             "#9c179e"
            ],
            [
             0.4444444444444444,
             "#bd3786"
            ],
            [
             0.5555555555555556,
             "#d8576b"
            ],
            [
             0.6666666666666666,
             "#ed7953"
            ],
            [
             0.7777777777777778,
             "#fb9f3a"
            ],
            [
             0.8888888888888888,
             "#fdca26"
            ],
            [
             1,
             "#f0f921"
            ]
           ],
           "sequentialminus": [
            [
             0,
             "#0d0887"
            ],
            [
             0.1111111111111111,
             "#46039f"
            ],
            [
             0.2222222222222222,
             "#7201a8"
            ],
            [
             0.3333333333333333,
             "#9c179e"
            ],
            [
             0.4444444444444444,
             "#bd3786"
            ],
            [
             0.5555555555555556,
             "#d8576b"
            ],
            [
             0.6666666666666666,
             "#ed7953"
            ],
            [
             0.7777777777777778,
             "#fb9f3a"
            ],
            [
             0.8888888888888888,
             "#fdca26"
            ],
            [
             1,
             "#f0f921"
            ]
           ]
          },
          "colorway": [
           "#636efa",
           "#EF553B",
           "#00cc96",
           "#ab63fa",
           "#FFA15A",
           "#19d3f3",
           "#FF6692",
           "#B6E880",
           "#FF97FF",
           "#FECB52"
          ],
          "font": {
           "color": "#2a3f5f"
          },
          "geo": {
           "bgcolor": "white",
           "lakecolor": "white",
           "landcolor": "#E5ECF6",
           "showlakes": true,
           "showland": true,
           "subunitcolor": "white"
          },
          "hoverlabel": {
           "align": "left"
          },
          "hovermode": "closest",
          "mapbox": {
           "style": "light"
          },
          "paper_bgcolor": "white",
          "plot_bgcolor": "#E5ECF6",
          "polar": {
           "angularaxis": {
            "gridcolor": "white",
            "linecolor": "white",
            "ticks": ""
           },
           "bgcolor": "#E5ECF6",
           "radialaxis": {
            "gridcolor": "white",
            "linecolor": "white",
            "ticks": ""
           }
          },
          "scene": {
           "xaxis": {
            "backgroundcolor": "#E5ECF6",
            "gridcolor": "white",
            "gridwidth": 2,
            "linecolor": "white",
            "showbackground": true,
            "ticks": "",
            "zerolinecolor": "white"
           },
           "yaxis": {
            "backgroundcolor": "#E5ECF6",
            "gridcolor": "white",
            "gridwidth": 2,
            "linecolor": "white",
            "showbackground": true,
            "ticks": "",
            "zerolinecolor": "white"
           },
           "zaxis": {
            "backgroundcolor": "#E5ECF6",
            "gridcolor": "white",
            "gridwidth": 2,
            "linecolor": "white",
            "showbackground": true,
            "ticks": "",
            "zerolinecolor": "white"
           }
          },
          "shapedefaults": {
           "line": {
            "color": "#2a3f5f"
           }
          },
          "ternary": {
           "aaxis": {
            "gridcolor": "white",
            "linecolor": "white",
            "ticks": ""
           },
           "baxis": {
            "gridcolor": "white",
            "linecolor": "white",
            "ticks": ""
           },
           "bgcolor": "#E5ECF6",
           "caxis": {
            "gridcolor": "white",
            "linecolor": "white",
            "ticks": ""
           }
          },
          "title": {
           "x": 0.05
          },
          "xaxis": {
           "automargin": true,
           "gridcolor": "white",
           "linecolor": "white",
           "ticks": "",
           "title": {
            "standoff": 15
           },
           "zerolinecolor": "white",
           "zerolinewidth": 2
          },
          "yaxis": {
           "automargin": true,
           "gridcolor": "white",
           "linecolor": "white",
           "ticks": "",
           "title": {
            "standoff": 15
           },
           "zerolinecolor": "white",
           "zerolinewidth": 2
          }
         }
        },
        "title": {
         "text": "Souscription d une assurance voyage en fonction du du nombre de membres dans la famille"
        },
        "width": 1000,
        "xaxis": {
         "anchor": "y",
         "domain": [
          0,
          1
         ],
         "title": {
          "text": "FamilyMembers"
         }
        },
        "yaxis": {
         "anchor": "x",
         "domain": [
          0,
          1
         ],
         "title": {
          "text": "count"
         }
        }
       }
      }
     },
     "metadata": {},
     "output_type": "display_data"
    }
   ],
   "source": [
    "#Visualisation de la souscription d'une assurance voyage en fonction du nombre de membres dans la famille\n",
    "\n",
    "px.histogram(tip,\n",
    "             x='FamilyMembers',\n",
    "             color='TravelInsurance',\n",
    "             color_discrete_map={1:'#E1812B', 0:'#377BA6'},\n",
    "             title='Souscription d une assurance voyage en fonction du du nombre de membres dans la famille',\n",
    "             width=1000,\n",
    "             height=1000,\n",
    "             )"
   ]
  },
  {
   "cell_type": "code",
   "execution_count": 39,
   "metadata": {},
   "outputs": [
    {
     "data": {
      "application/vnd.plotly.v1+json": {
       "config": {
        "plotlyServerURL": "https://plot.ly"
       },
       "data": [
        {
         "alignmentgroup": "True",
         "bingroup": "x",
         "hovertemplate": "TravelInsurance=0<br>EverTravelledAbroad=%{x}<br>count=%{y}<extra></extra>",
         "legendgroup": "0",
         "marker": {
          "color": "#377BA6",
          "pattern": {
           "shape": ""
          }
         },
         "name": "0",
         "offsetgroup": "0",
         "orientation": "v",
         "showlegend": true,
         "type": "histogram",
         "x": [
          "No",
          "No",
          "No",
          "No",
          "No",
          "No",
          "No",
          "No",
          "No",
          "No",
          "No",
          "No",
          "No",
          "Yes",
          "Yes",
          "No",
          "No",
          "No",
          "Yes",
          "No",
          "No",
          "Yes",
          "No",
          "No",
          "No",
          "No",
          "No",
          "No",
          "No",
          "No",
          "Yes",
          "No",
          "No",
          "No",
          "Yes",
          "No",
          "No",
          "No",
          "No",
          "No",
          "No",
          "No",
          "No",
          "No",
          "No",
          "No",
          "No",
          "No",
          "No",
          "No",
          "No",
          "No",
          "No",
          "No",
          "No",
          "No",
          "No",
          "No",
          "No",
          "No",
          "No",
          "No",
          "No",
          "No",
          "No",
          "No",
          "No",
          "No",
          "No",
          "Yes",
          "No",
          "No",
          "No",
          "No",
          "No",
          "No",
          "No",
          "No",
          "No",
          "No",
          "No",
          "No",
          "No",
          "No",
          "No",
          "No",
          "No",
          "No",
          "No",
          "No",
          "No",
          "No",
          "Yes",
          "No",
          "No",
          "No",
          "No",
          "No",
          "No",
          "No",
          "No",
          "No",
          "No",
          "No",
          "No",
          "No",
          "No",
          "No",
          "No",
          "No",
          "No",
          "No",
          "No",
          "No",
          "No",
          "No",
          "No",
          "No",
          "No",
          "No",
          "No",
          "No",
          "No",
          "No",
          "No",
          "Yes",
          "Yes",
          "No",
          "No",
          "No",
          "No",
          "No",
          "Yes",
          "No",
          "No",
          "No",
          "No",
          "No",
          "Yes",
          "No",
          "No",
          "Yes",
          "No",
          "No",
          "No",
          "No",
          "No",
          "No",
          "No",
          "No",
          "No",
          "No",
          "No",
          "No",
          "No",
          "No",
          "No",
          "No",
          "No",
          "No",
          "No",
          "No",
          "No",
          "No",
          "No",
          "No",
          "No",
          "No",
          "No",
          "No",
          "No",
          "No",
          "No",
          "No",
          "No",
          "No",
          "No",
          "No",
          "No",
          "No",
          "No",
          "No",
          "No",
          "No",
          "No",
          "No",
          "No",
          "No",
          "No",
          "No",
          "No",
          "No",
          "No",
          "No",
          "No",
          "No",
          "No",
          "No",
          "No",
          "No",
          "Yes",
          "No",
          "No",
          "No",
          "No",
          "No",
          "No",
          "No",
          "No",
          "No",
          "No",
          "No",
          "No",
          "No",
          "No",
          "No",
          "Yes",
          "No",
          "No",
          "No",
          "No",
          "No",
          "No",
          "No",
          "Yes",
          "Yes",
          "No",
          "Yes",
          "No",
          "Yes",
          "No",
          "No",
          "No",
          "No",
          "No",
          "No",
          "No",
          "No",
          "No",
          "No",
          "No",
          "No",
          "No",
          "Yes",
          "No",
          "No",
          "No",
          "No",
          "No",
          "No",
          "No",
          "No",
          "Yes",
          "No",
          "No",
          "No",
          "No",
          "No",
          "No",
          "No",
          "No",
          "No",
          "No",
          "No",
          "No",
          "No",
          "No",
          "No",
          "No",
          "No",
          "No",
          "No",
          "No",
          "No",
          "No",
          "No",
          "No",
          "No",
          "No",
          "No",
          "No",
          "No",
          "No",
          "Yes",
          "No",
          "No",
          "No",
          "No",
          "No",
          "No",
          "No",
          "Yes",
          "No",
          "No",
          "No",
          "No",
          "No",
          "No",
          "No",
          "No",
          "No",
          "No",
          "No",
          "No",
          "No",
          "No",
          "No",
          "No",
          "No",
          "No",
          "No",
          "No",
          "No",
          "No",
          "No",
          "No",
          "No",
          "No",
          "No",
          "Yes",
          "No",
          "No",
          "No",
          "No",
          "No",
          "No",
          "No",
          "No",
          "No",
          "No",
          "No",
          "Yes",
          "No",
          "No",
          "No",
          "No",
          "No",
          "No",
          "No",
          "No",
          "No",
          "No",
          "No",
          "No",
          "No",
          "No",
          "No",
          "No",
          "No",
          "No",
          "No",
          "No",
          "No",
          "No",
          "No",
          "No",
          "No",
          "No",
          "No",
          "No",
          "No",
          "Yes",
          "No",
          "No",
          "No",
          "No",
          "No",
          "No",
          "Yes",
          "No",
          "No",
          "Yes",
          "No",
          "No",
          "No",
          "No",
          "No",
          "No",
          "No",
          "No",
          "No",
          "No",
          "No",
          "No",
          "No",
          "No",
          "No",
          "No",
          "No",
          "No",
          "No",
          "No",
          "No",
          "No",
          "No",
          "No",
          "No",
          "Yes",
          "No",
          "No",
          "No",
          "No",
          "No",
          "Yes",
          "No",
          "No",
          "No",
          "No",
          "No",
          "No",
          "No",
          "No",
          "No",
          "No",
          "No",
          "No",
          "No",
          "No",
          "No",
          "No",
          "No",
          "No",
          "Yes",
          "No",
          "No",
          "No",
          "No",
          "No",
          "No",
          "No",
          "No",
          "No",
          "No",
          "No",
          "No",
          "No",
          "No",
          "No",
          "No",
          "No",
          "Yes",
          "No",
          "No",
          "No",
          "No",
          "No",
          "No",
          "No",
          "No",
          "No",
          "No",
          "No",
          "No",
          "No",
          "No",
          "No",
          "No",
          "Yes",
          "No",
          "No",
          "No",
          "No",
          "No",
          "No",
          "No",
          "No",
          "No",
          "No",
          "No",
          "No",
          "No",
          "No",
          "No",
          "No",
          "No",
          "Yes",
          "No",
          "No",
          "No",
          "Yes",
          "Yes",
          "No",
          "No",
          "No",
          "No",
          "No",
          "No",
          "No",
          "Yes",
          "No",
          "No",
          "Yes",
          "No",
          "No",
          "No",
          "No",
          "No",
          "No",
          "No",
          "No",
          "No",
          "No",
          "No",
          "No",
          "No",
          "No",
          "No",
          "No",
          "No",
          "No",
          "No",
          "No",
          "No",
          "No",
          "No",
          "No",
          "Yes",
          "No",
          "No",
          "No",
          "No",
          "No",
          "No",
          "No",
          "No",
          "No",
          "No",
          "No",
          "No",
          "No",
          "No",
          "No",
          "No",
          "No",
          "No",
          "Yes",
          "No",
          "No",
          "No",
          "No",
          "No",
          "No",
          "No",
          "No",
          "No",
          "No",
          "No",
          "No",
          "No",
          "No",
          "No",
          "No",
          "No",
          "No",
          "No",
          "No",
          "No",
          "No",
          "No",
          "No",
          "No",
          "No",
          "No",
          "No",
          "No",
          "No",
          "No",
          "No",
          "No",
          "Yes",
          "Yes",
          "No",
          "No",
          "No",
          "No",
          "No",
          "No",
          "No",
          "No",
          "No",
          "No",
          "No",
          "No",
          "No",
          "No",
          "No",
          "No",
          "No",
          "No",
          "No",
          "No",
          "No",
          "Yes",
          "No",
          "Yes",
          "No",
          "No",
          "No",
          "No",
          "No",
          "No",
          "No",
          "No",
          "No",
          "No",
          "No",
          "No",
          "Yes",
          "No",
          "No",
          "No",
          "No",
          "No",
          "No",
          "No",
          "No",
          "No",
          "No",
          "No",
          "No",
          "No",
          "No",
          "No",
          "No",
          "No",
          "No",
          "No",
          "No",
          "No",
          "No",
          "No",
          "No",
          "No",
          "No",
          "No",
          "No",
          "No",
          "No",
          "No",
          "No",
          "No",
          "No",
          "No",
          "No",
          "No",
          "No",
          "No",
          "No",
          "No",
          "No",
          "No",
          "No",
          "No",
          "No",
          "No",
          "No",
          "No",
          "No",
          "No",
          "No",
          "No",
          "No",
          "No",
          "No",
          "No",
          "No",
          "No",
          "No",
          "No",
          "No",
          "No",
          "No",
          "No",
          "No",
          "No",
          "No",
          "Yes",
          "Yes",
          "No",
          "No",
          "No",
          "No",
          "Yes",
          "No",
          "No",
          "No",
          "No",
          "No",
          "No",
          "No",
          "No",
          "No",
          "No",
          "No",
          "No",
          "Yes",
          "No",
          "No",
          "No",
          "No",
          "No",
          "No",
          "No",
          "No",
          "No",
          "No",
          "No",
          "No",
          "No",
          "No",
          "No",
          "No",
          "No",
          "No",
          "No",
          "No",
          "No",
          "No",
          "Yes",
          "No",
          "No",
          "No",
          "Yes",
          "No",
          "No",
          "No",
          "No",
          "No",
          "No",
          "No",
          "No",
          "No",
          "No",
          "No",
          "No",
          "No",
          "No",
          "No",
          "Yes",
          "No",
          "No",
          "No",
          "No",
          "No",
          "No",
          "No",
          "No",
          "No",
          "No",
          "No",
          "No",
          "No",
          "No",
          "No",
          "No",
          "No",
          "No",
          "No",
          "No",
          "No",
          "No",
          "No",
          "No",
          "No",
          "No",
          "No",
          "No",
          "No",
          "No",
          "No",
          "No",
          "No",
          "No",
          "No",
          "No",
          "No",
          "No",
          "No",
          "No",
          "No",
          "No",
          "No",
          "No",
          "No",
          "No",
          "No",
          "No",
          "No",
          "No",
          "No",
          "No",
          "Yes",
          "No",
          "No",
          "No",
          "No",
          "No",
          "No",
          "No",
          "No",
          "No",
          "Yes",
          "No",
          "Yes",
          "Yes",
          "No",
          "No",
          "No",
          "No",
          "No",
          "No",
          "No",
          "No",
          "No",
          "No",
          "No",
          "No",
          "No",
          "No",
          "No",
          "No",
          "No",
          "No",
          "No",
          "No",
          "No",
          "No",
          "No",
          "No",
          "No",
          "No",
          "No",
          "No",
          "No",
          "No",
          "No",
          "No",
          "No",
          "No",
          "No",
          "No",
          "No",
          "No",
          "No",
          "No",
          "No",
          "No",
          "No",
          "No",
          "No",
          "No",
          "No",
          "No",
          "No",
          "No",
          "No",
          "No",
          "No",
          "No",
          "No",
          "No",
          "No",
          "No",
          "No",
          "No",
          "Yes",
          "No",
          "No",
          "No",
          "No",
          "No",
          "No",
          "No",
          "No",
          "No",
          "No",
          "No",
          "No",
          "No",
          "No",
          "No",
          "No",
          "No",
          "No",
          "Yes",
          "Yes",
          "No",
          "No",
          "No",
          "Yes",
          "No",
          "No",
          "No",
          "No",
          "No",
          "No",
          "No",
          "No",
          "No",
          "No",
          "No",
          "No",
          "No",
          "No",
          "No",
          "No",
          "No",
          "No",
          "No",
          "No",
          "No",
          "No",
          "No",
          "No",
          "No",
          "No",
          "No",
          "No",
          "No",
          "No",
          "No",
          "No",
          "No",
          "No",
          "No",
          "No",
          "No",
          "No",
          "No",
          "No",
          "No",
          "No",
          "No",
          "No",
          "No",
          "No",
          "No",
          "No",
          "No",
          "No",
          "No",
          "No",
          "Yes",
          "No",
          "No",
          "No",
          "No",
          "No",
          "No",
          "No",
          "No",
          "No",
          "No",
          "No",
          "No",
          "No",
          "No",
          "No",
          "No",
          "No",
          "No",
          "No",
          "No",
          "No",
          "No",
          "No",
          "No",
          "No",
          "No",
          "No",
          "No",
          "No",
          "No",
          "No",
          "No",
          "No",
          "No",
          "No",
          "No",
          "No",
          "No",
          "No",
          "No",
          "No",
          "No",
          "No",
          "No",
          "No",
          "No",
          "No",
          "No",
          "No",
          "No",
          "No",
          "No",
          "No",
          "No",
          "No",
          "Yes",
          "No",
          "Yes",
          "No",
          "No",
          "No",
          "No",
          "No",
          "No",
          "No",
          "No",
          "No",
          "No",
          "No",
          "No",
          "No",
          "No",
          "No",
          "No",
          "No",
          "No",
          "No",
          "No",
          "No",
          "No",
          "No",
          "No",
          "No",
          "No",
          "No",
          "No",
          "No",
          "No",
          "No",
          "No",
          "No",
          "No",
          "No",
          "No",
          "No",
          "No",
          "No",
          "No",
          "No",
          "No",
          "No",
          "No",
          "Yes",
          "No",
          "No",
          "No",
          "No",
          "No",
          "No",
          "No",
          "No",
          "No",
          "No",
          "No",
          "Yes",
          "No",
          "No",
          "No",
          "No",
          "No",
          "No",
          "No",
          "No",
          "No",
          "No",
          "No",
          "No",
          "No",
          "No",
          "No",
          "No",
          "No",
          "Yes",
          "No",
          "No",
          "No",
          "No",
          "No",
          "No",
          "No",
          "No",
          "No",
          "No",
          "No",
          "No",
          "No",
          "Yes",
          "No",
          "No",
          "No",
          "No",
          "No",
          "No",
          "No",
          "No",
          "No",
          "No",
          "No",
          "No",
          "No",
          "No",
          "No",
          "No",
          "Yes",
          "No",
          "No",
          "No",
          "No",
          "No",
          "No",
          "No",
          "No",
          "No",
          "No",
          "Yes",
          "No",
          "No",
          "Yes",
          "No",
          "No",
          "No",
          "No",
          "No",
          "No",
          "No",
          "No",
          "No",
          "No",
          "No",
          "No",
          "No",
          "No",
          "No",
          "No",
          "No",
          "No",
          "No",
          "No",
          "No",
          "No",
          "No",
          "No",
          "Yes",
          "No",
          "No",
          "No",
          "No",
          "No",
          "No",
          "No",
          "No",
          "No",
          "No",
          "No",
          "No",
          "No",
          "No",
          "No",
          "No",
          "No",
          "No",
          "No",
          "Yes",
          "No",
          "No",
          "No",
          "No",
          "No",
          "No",
          "No",
          "No",
          "No",
          "No",
          "No",
          "No",
          "No",
          "No",
          "Yes",
          "Yes",
          "Yes",
          "No",
          "Yes",
          "No",
          "No",
          "No",
          "No",
          "No",
          "No",
          "No",
          "No",
          "No",
          "No",
          "No",
          "No",
          "No",
          "No",
          "No",
          "No",
          "No",
          "No",
          "No",
          "No",
          "No",
          "No",
          "No",
          "No",
          "No",
          "No",
          "No",
          "No",
          "No",
          "No",
          "No",
          "No",
          "No",
          "No",
          "No",
          "No",
          "No",
          "No",
          "No",
          "No",
          "No",
          "No",
          "No",
          "No",
          "No",
          "No",
          "No",
          "No",
          "No",
          "No",
          "No",
          "No",
          "No",
          "No",
          "No",
          "No",
          "No",
          "No",
          "No",
          "No",
          "Yes",
          "No",
          "Yes",
          "Yes",
          "No",
          "Yes",
          "No",
          "No",
          "No",
          "Yes",
          "No",
          "No",
          "No",
          "No",
          "No",
          "No",
          "No",
          "No",
          "No",
          "No",
          "No",
          "No",
          "No",
          "No",
          "No",
          "No",
          "No",
          "No",
          "No",
          "Yes",
          "No",
          "No"
         ],
         "xaxis": "x",
         "yaxis": "y"
        },
        {
         "alignmentgroup": "True",
         "bingroup": "x",
         "hovertemplate": "TravelInsurance=1<br>EverTravelledAbroad=%{x}<br>count=%{y}<extra></extra>",
         "legendgroup": "1",
         "marker": {
          "color": "#E1812B",
          "pattern": {
           "shape": ""
          }
         },
         "name": "1",
         "offsetgroup": "1",
         "orientation": "v",
         "showlegend": true,
         "type": "histogram",
         "x": [
          "No",
          "Yes",
          "Yes",
          "Yes",
          "No",
          "Yes",
          "No",
          "No",
          "Yes",
          "No",
          "No",
          "No",
          "No",
          "No",
          "Yes",
          "Yes",
          "Yes",
          "No",
          "Yes",
          "Yes",
          "Yes",
          "Yes",
          "No",
          "No",
          "Yes",
          "Yes",
          "No",
          "Yes",
          "Yes",
          "No",
          "Yes",
          "No",
          "No",
          "No",
          "Yes",
          "No",
          "Yes",
          "Yes",
          "No",
          "No",
          "No",
          "Yes",
          "Yes",
          "No",
          "Yes",
          "Yes",
          "Yes",
          "No",
          "No",
          "No",
          "Yes",
          "No",
          "No",
          "No",
          "No",
          "No",
          "Yes",
          "No",
          "Yes",
          "No",
          "No",
          "No",
          "No",
          "No",
          "No",
          "Yes",
          "Yes",
          "No",
          "Yes",
          "Yes",
          "No",
          "Yes",
          "No",
          "No",
          "Yes",
          "Yes",
          "No",
          "No",
          "Yes",
          "No",
          "No",
          "No",
          "No",
          "Yes",
          "Yes",
          "Yes",
          "Yes",
          "No",
          "No",
          "Yes",
          "No",
          "No",
          "No",
          "Yes",
          "No",
          "No",
          "Yes",
          "No",
          "Yes",
          "No",
          "No",
          "No",
          "No",
          "No",
          "No",
          "No",
          "No",
          "Yes",
          "No",
          "Yes",
          "No",
          "No",
          "No",
          "Yes",
          "Yes",
          "No",
          "No",
          "No",
          "No",
          "No",
          "No",
          "Yes",
          "No",
          "Yes",
          "Yes",
          "No",
          "No",
          "No",
          "No",
          "No",
          "No",
          "Yes",
          "Yes",
          "Yes",
          "No",
          "No",
          "No",
          "No",
          "No",
          "No",
          "No",
          "No",
          "No",
          "Yes",
          "Yes",
          "Yes",
          "Yes",
          "Yes",
          "No",
          "Yes",
          "No",
          "No",
          "Yes",
          "No",
          "No",
          "No",
          "No",
          "Yes",
          "No",
          "No",
          "Yes",
          "Yes",
          "Yes",
          "No",
          "Yes",
          "Yes",
          "No",
          "Yes",
          "No",
          "Yes",
          "Yes",
          "No",
          "No",
          "No",
          "No",
          "No",
          "Yes",
          "No",
          "No",
          "Yes",
          "No",
          "No",
          "Yes",
          "No",
          "No",
          "No",
          "No",
          "Yes",
          "No",
          "Yes",
          "Yes",
          "Yes",
          "No",
          "Yes",
          "No",
          "Yes",
          "No",
          "Yes",
          "No",
          "No",
          "Yes",
          "No",
          "No",
          "Yes",
          "No",
          "Yes",
          "No",
          "Yes",
          "Yes",
          "Yes",
          "Yes",
          "No",
          "Yes",
          "No",
          "No",
          "No",
          "Yes",
          "Yes",
          "Yes",
          "No",
          "Yes",
          "Yes",
          "No",
          "No",
          "Yes",
          "No",
          "Yes",
          "No",
          "No",
          "Yes",
          "Yes",
          "Yes",
          "Yes",
          "No",
          "Yes",
          "No",
          "Yes",
          "Yes",
          "No",
          "Yes",
          "Yes",
          "No",
          "Yes",
          "No",
          "No",
          "No",
          "No",
          "No",
          "No",
          "No",
          "No",
          "No",
          "No",
          "No",
          "No",
          "No",
          "No",
          "No",
          "Yes",
          "No",
          "Yes",
          "No",
          "Yes",
          "Yes",
          "No",
          "Yes",
          "Yes",
          "No",
          "Yes",
          "No",
          "No",
          "No",
          "No",
          "No",
          "No",
          "No",
          "No",
          "Yes",
          "Yes",
          "No",
          "No",
          "No",
          "No",
          "No",
          "No",
          "No",
          "Yes",
          "Yes",
          "Yes",
          "Yes",
          "No",
          "No",
          "Yes",
          "No",
          "No",
          "No",
          "No",
          "Yes",
          "Yes",
          "Yes",
          "Yes",
          "No",
          "Yes",
          "No",
          "Yes",
          "No",
          "Yes",
          "Yes",
          "No",
          "Yes",
          "No",
          "No",
          "No",
          "Yes",
          "Yes",
          "Yes",
          "Yes",
          "Yes",
          "No",
          "Yes",
          "No",
          "Yes",
          "No",
          "No",
          "No",
          "No",
          "No",
          "No",
          "No",
          "Yes",
          "Yes",
          "Yes",
          "Yes",
          "Yes",
          "No",
          "No",
          "Yes",
          "No",
          "No",
          "No",
          "Yes",
          "Yes",
          "Yes",
          "Yes",
          "Yes",
          "No",
          "Yes",
          "Yes",
          "Yes",
          "No",
          "No",
          "Yes",
          "Yes",
          "Yes",
          "No",
          "No",
          "No",
          "Yes",
          "Yes",
          "No",
          "No",
          "Yes",
          "Yes",
          "No",
          "Yes",
          "Yes",
          "No",
          "No",
          "Yes",
          "No",
          "No",
          "No",
          "Yes",
          "Yes",
          "No",
          "No",
          "No",
          "No",
          "No",
          "Yes",
          "Yes",
          "Yes",
          "Yes",
          "Yes",
          "No",
          "Yes",
          "No",
          "No",
          "Yes",
          "Yes",
          "No",
          "Yes",
          "No",
          "No",
          "No",
          "No",
          "Yes",
          "No",
          "No",
          "No",
          "No",
          "No",
          "Yes",
          "Yes",
          "No",
          "No",
          "No",
          "No",
          "No",
          "No",
          "Yes",
          "Yes",
          "No",
          "Yes",
          "No",
          "Yes",
          "No",
          "No",
          "Yes",
          "No",
          "Yes",
          "Yes",
          "No",
          "No",
          "Yes",
          "No",
          "No",
          "Yes",
          "No",
          "No",
          "No",
          "Yes",
          "Yes",
          "No",
          "Yes",
          "Yes",
          "No",
          "Yes",
          "No",
          "No",
          "Yes",
          "No",
          "No",
          "No",
          "No",
          "No",
          "No",
          "No",
          "No",
          "Yes",
          "Yes",
          "Yes",
          "No",
          "No",
          "No",
          "Yes",
          "No",
          "No",
          "Yes",
          "Yes",
          "Yes",
          "Yes",
          "No",
          "No",
          "No",
          "No",
          "No",
          "Yes",
          "No",
          "No",
          "Yes",
          "Yes",
          "No",
          "Yes",
          "Yes",
          "No",
          "No",
          "No",
          "Yes",
          "No",
          "Yes",
          "Yes",
          "Yes",
          "No",
          "Yes",
          "Yes",
          "No",
          "Yes",
          "No",
          "Yes",
          "No",
          "Yes",
          "No",
          "Yes",
          "No",
          "No",
          "Yes",
          "No",
          "No",
          "Yes",
          "Yes",
          "No",
          "Yes",
          "Yes",
          "Yes",
          "No",
          "No",
          "No",
          "Yes",
          "No",
          "No",
          "No",
          "No",
          "No",
          "No",
          "No",
          "No",
          "Yes",
          "No",
          "No",
          "No",
          "Yes",
          "No",
          "No",
          "Yes",
          "No",
          "No",
          "No",
          "No",
          "No",
          "No",
          "Yes",
          "No",
          "No",
          "No",
          "Yes",
          "No",
          "No",
          "Yes",
          "No",
          "Yes",
          "Yes",
          "No",
          "No",
          "No",
          "Yes",
          "Yes",
          "Yes",
          "No",
          "Yes",
          "No",
          "No",
          "Yes",
          "No",
          "No",
          "No",
          "No",
          "No",
          "No",
          "No",
          "No",
          "Yes",
          "Yes",
          "No",
          "Yes",
          "Yes",
          "Yes",
          "No",
          "Yes",
          "Yes",
          "Yes",
          "No",
          "No",
          "No",
          "Yes",
          "Yes",
          "No",
          "Yes",
          "No",
          "No",
          "Yes",
          "Yes",
          "Yes",
          "No",
          "No",
          "No",
          "Yes",
          "No",
          "No",
          "No",
          "No",
          "Yes",
          "No",
          "No",
          "No",
          "No",
          "No",
          "Yes",
          "No",
          "No",
          "Yes",
          "No",
          "No",
          "No",
          "No",
          "Yes",
          "Yes",
          "No",
          "No",
          "Yes",
          "Yes",
          "Yes",
          "Yes",
          "No",
          "No",
          "No",
          "Yes",
          "Yes",
          "Yes",
          "No",
          "No",
          "Yes",
          "Yes",
          "No",
          "Yes",
          "No",
          "No",
          "No",
          "Yes",
          "No",
          "Yes",
          "No",
          "Yes",
          "No",
          "No",
          "Yes",
          "No",
          "No",
          "No",
          "No",
          "Yes",
          "Yes",
          "Yes",
          "No",
          "Yes",
          "Yes",
          "No",
          "Yes",
          "No",
          "No",
          "No",
          "Yes",
          "Yes",
          "No",
          "No",
          "Yes",
          "No",
          "No",
          "No",
          "No",
          "No",
          "No",
          "No",
          "Yes",
          "No",
          "Yes",
          "Yes",
          "No",
          "Yes",
          "Yes",
          "Yes",
          "No",
          "No",
          "No",
          "Yes",
          "No",
          "No",
          "Yes",
          "No",
          "Yes",
          "Yes",
          "No",
          "No",
          "No",
          "Yes",
          "Yes",
          "No",
          "Yes",
          "No",
          "Yes",
          "No",
          "Yes",
          "Yes",
          "Yes",
          "No",
          "No",
          "Yes",
          "No",
          "Yes",
          "No",
          "No",
          "No",
          "No",
          "Yes",
          "Yes",
          "Yes",
          "No",
          "No",
          "Yes",
          "Yes"
         ],
         "xaxis": "x",
         "yaxis": "y"
        }
       ],
       "layout": {
        "barmode": "relative",
        "legend": {
         "title": {
          "text": "TravelInsurance"
         },
         "tracegroupgap": 0
        },
        "template": {
         "data": {
          "bar": [
           {
            "error_x": {
             "color": "#2a3f5f"
            },
            "error_y": {
             "color": "#2a3f5f"
            },
            "marker": {
             "line": {
              "color": "#E5ECF6",
              "width": 0.5
             },
             "pattern": {
              "fillmode": "overlay",
              "size": 10,
              "solidity": 0.2
             }
            },
            "type": "bar"
           }
          ],
          "barpolar": [
           {
            "marker": {
             "line": {
              "color": "#E5ECF6",
              "width": 0.5
             },
             "pattern": {
              "fillmode": "overlay",
              "size": 10,
              "solidity": 0.2
             }
            },
            "type": "barpolar"
           }
          ],
          "carpet": [
           {
            "aaxis": {
             "endlinecolor": "#2a3f5f",
             "gridcolor": "white",
             "linecolor": "white",
             "minorgridcolor": "white",
             "startlinecolor": "#2a3f5f"
            },
            "baxis": {
             "endlinecolor": "#2a3f5f",
             "gridcolor": "white",
             "linecolor": "white",
             "minorgridcolor": "white",
             "startlinecolor": "#2a3f5f"
            },
            "type": "carpet"
           }
          ],
          "choropleth": [
           {
            "colorbar": {
             "outlinewidth": 0,
             "ticks": ""
            },
            "type": "choropleth"
           }
          ],
          "contour": [
           {
            "colorbar": {
             "outlinewidth": 0,
             "ticks": ""
            },
            "colorscale": [
             [
              0,
              "#0d0887"
             ],
             [
              0.1111111111111111,
              "#46039f"
             ],
             [
              0.2222222222222222,
              "#7201a8"
             ],
             [
              0.3333333333333333,
              "#9c179e"
             ],
             [
              0.4444444444444444,
              "#bd3786"
             ],
             [
              0.5555555555555556,
              "#d8576b"
             ],
             [
              0.6666666666666666,
              "#ed7953"
             ],
             [
              0.7777777777777778,
              "#fb9f3a"
             ],
             [
              0.8888888888888888,
              "#fdca26"
             ],
             [
              1,
              "#f0f921"
             ]
            ],
            "type": "contour"
           }
          ],
          "contourcarpet": [
           {
            "colorbar": {
             "outlinewidth": 0,
             "ticks": ""
            },
            "type": "contourcarpet"
           }
          ],
          "heatmap": [
           {
            "colorbar": {
             "outlinewidth": 0,
             "ticks": ""
            },
            "colorscale": [
             [
              0,
              "#0d0887"
             ],
             [
              0.1111111111111111,
              "#46039f"
             ],
             [
              0.2222222222222222,
              "#7201a8"
             ],
             [
              0.3333333333333333,
              "#9c179e"
             ],
             [
              0.4444444444444444,
              "#bd3786"
             ],
             [
              0.5555555555555556,
              "#d8576b"
             ],
             [
              0.6666666666666666,
              "#ed7953"
             ],
             [
              0.7777777777777778,
              "#fb9f3a"
             ],
             [
              0.8888888888888888,
              "#fdca26"
             ],
             [
              1,
              "#f0f921"
             ]
            ],
            "type": "heatmap"
           }
          ],
          "heatmapgl": [
           {
            "colorbar": {
             "outlinewidth": 0,
             "ticks": ""
            },
            "colorscale": [
             [
              0,
              "#0d0887"
             ],
             [
              0.1111111111111111,
              "#46039f"
             ],
             [
              0.2222222222222222,
              "#7201a8"
             ],
             [
              0.3333333333333333,
              "#9c179e"
             ],
             [
              0.4444444444444444,
              "#bd3786"
             ],
             [
              0.5555555555555556,
              "#d8576b"
             ],
             [
              0.6666666666666666,
              "#ed7953"
             ],
             [
              0.7777777777777778,
              "#fb9f3a"
             ],
             [
              0.8888888888888888,
              "#fdca26"
             ],
             [
              1,
              "#f0f921"
             ]
            ],
            "type": "heatmapgl"
           }
          ],
          "histogram": [
           {
            "marker": {
             "pattern": {
              "fillmode": "overlay",
              "size": 10,
              "solidity": 0.2
             }
            },
            "type": "histogram"
           }
          ],
          "histogram2d": [
           {
            "colorbar": {
             "outlinewidth": 0,
             "ticks": ""
            },
            "colorscale": [
             [
              0,
              "#0d0887"
             ],
             [
              0.1111111111111111,
              "#46039f"
             ],
             [
              0.2222222222222222,
              "#7201a8"
             ],
             [
              0.3333333333333333,
              "#9c179e"
             ],
             [
              0.4444444444444444,
              "#bd3786"
             ],
             [
              0.5555555555555556,
              "#d8576b"
             ],
             [
              0.6666666666666666,
              "#ed7953"
             ],
             [
              0.7777777777777778,
              "#fb9f3a"
             ],
             [
              0.8888888888888888,
              "#fdca26"
             ],
             [
              1,
              "#f0f921"
             ]
            ],
            "type": "histogram2d"
           }
          ],
          "histogram2dcontour": [
           {
            "colorbar": {
             "outlinewidth": 0,
             "ticks": ""
            },
            "colorscale": [
             [
              0,
              "#0d0887"
             ],
             [
              0.1111111111111111,
              "#46039f"
             ],
             [
              0.2222222222222222,
              "#7201a8"
             ],
             [
              0.3333333333333333,
              "#9c179e"
             ],
             [
              0.4444444444444444,
              "#bd3786"
             ],
             [
              0.5555555555555556,
              "#d8576b"
             ],
             [
              0.6666666666666666,
              "#ed7953"
             ],
             [
              0.7777777777777778,
              "#fb9f3a"
             ],
             [
              0.8888888888888888,
              "#fdca26"
             ],
             [
              1,
              "#f0f921"
             ]
            ],
            "type": "histogram2dcontour"
           }
          ],
          "mesh3d": [
           {
            "colorbar": {
             "outlinewidth": 0,
             "ticks": ""
            },
            "type": "mesh3d"
           }
          ],
          "parcoords": [
           {
            "line": {
             "colorbar": {
              "outlinewidth": 0,
              "ticks": ""
             }
            },
            "type": "parcoords"
           }
          ],
          "pie": [
           {
            "automargin": true,
            "type": "pie"
           }
          ],
          "scatter": [
           {
            "fillpattern": {
             "fillmode": "overlay",
             "size": 10,
             "solidity": 0.2
            },
            "type": "scatter"
           }
          ],
          "scatter3d": [
           {
            "line": {
             "colorbar": {
              "outlinewidth": 0,
              "ticks": ""
             }
            },
            "marker": {
             "colorbar": {
              "outlinewidth": 0,
              "ticks": ""
             }
            },
            "type": "scatter3d"
           }
          ],
          "scattercarpet": [
           {
            "marker": {
             "colorbar": {
              "outlinewidth": 0,
              "ticks": ""
             }
            },
            "type": "scattercarpet"
           }
          ],
          "scattergeo": [
           {
            "marker": {
             "colorbar": {
              "outlinewidth": 0,
              "ticks": ""
             }
            },
            "type": "scattergeo"
           }
          ],
          "scattergl": [
           {
            "marker": {
             "colorbar": {
              "outlinewidth": 0,
              "ticks": ""
             }
            },
            "type": "scattergl"
           }
          ],
          "scattermapbox": [
           {
            "marker": {
             "colorbar": {
              "outlinewidth": 0,
              "ticks": ""
             }
            },
            "type": "scattermapbox"
           }
          ],
          "scatterpolar": [
           {
            "marker": {
             "colorbar": {
              "outlinewidth": 0,
              "ticks": ""
             }
            },
            "type": "scatterpolar"
           }
          ],
          "scatterpolargl": [
           {
            "marker": {
             "colorbar": {
              "outlinewidth": 0,
              "ticks": ""
             }
            },
            "type": "scatterpolargl"
           }
          ],
          "scatterternary": [
           {
            "marker": {
             "colorbar": {
              "outlinewidth": 0,
              "ticks": ""
             }
            },
            "type": "scatterternary"
           }
          ],
          "surface": [
           {
            "colorbar": {
             "outlinewidth": 0,
             "ticks": ""
            },
            "colorscale": [
             [
              0,
              "#0d0887"
             ],
             [
              0.1111111111111111,
              "#46039f"
             ],
             [
              0.2222222222222222,
              "#7201a8"
             ],
             [
              0.3333333333333333,
              "#9c179e"
             ],
             [
              0.4444444444444444,
              "#bd3786"
             ],
             [
              0.5555555555555556,
              "#d8576b"
             ],
             [
              0.6666666666666666,
              "#ed7953"
             ],
             [
              0.7777777777777778,
              "#fb9f3a"
             ],
             [
              0.8888888888888888,
              "#fdca26"
             ],
             [
              1,
              "#f0f921"
             ]
            ],
            "type": "surface"
           }
          ],
          "table": [
           {
            "cells": {
             "fill": {
              "color": "#EBF0F8"
             },
             "line": {
              "color": "white"
             }
            },
            "header": {
             "fill": {
              "color": "#C8D4E3"
             },
             "line": {
              "color": "white"
             }
            },
            "type": "table"
           }
          ]
         },
         "layout": {
          "annotationdefaults": {
           "arrowcolor": "#2a3f5f",
           "arrowhead": 0,
           "arrowwidth": 1
          },
          "autotypenumbers": "strict",
          "coloraxis": {
           "colorbar": {
            "outlinewidth": 0,
            "ticks": ""
           }
          },
          "colorscale": {
           "diverging": [
            [
             0,
             "#8e0152"
            ],
            [
             0.1,
             "#c51b7d"
            ],
            [
             0.2,
             "#de77ae"
            ],
            [
             0.3,
             "#f1b6da"
            ],
            [
             0.4,
             "#fde0ef"
            ],
            [
             0.5,
             "#f7f7f7"
            ],
            [
             0.6,
             "#e6f5d0"
            ],
            [
             0.7,
             "#b8e186"
            ],
            [
             0.8,
             "#7fbc41"
            ],
            [
             0.9,
             "#4d9221"
            ],
            [
             1,
             "#276419"
            ]
           ],
           "sequential": [
            [
             0,
             "#0d0887"
            ],
            [
             0.1111111111111111,
             "#46039f"
            ],
            [
             0.2222222222222222,
             "#7201a8"
            ],
            [
             0.3333333333333333,
             "#9c179e"
            ],
            [
             0.4444444444444444,
             "#bd3786"
            ],
            [
             0.5555555555555556,
             "#d8576b"
            ],
            [
             0.6666666666666666,
             "#ed7953"
            ],
            [
             0.7777777777777778,
             "#fb9f3a"
            ],
            [
             0.8888888888888888,
             "#fdca26"
            ],
            [
             1,
             "#f0f921"
            ]
           ],
           "sequentialminus": [
            [
             0,
             "#0d0887"
            ],
            [
             0.1111111111111111,
             "#46039f"
            ],
            [
             0.2222222222222222,
             "#7201a8"
            ],
            [
             0.3333333333333333,
             "#9c179e"
            ],
            [
             0.4444444444444444,
             "#bd3786"
            ],
            [
             0.5555555555555556,
             "#d8576b"
            ],
            [
             0.6666666666666666,
             "#ed7953"
            ],
            [
             0.7777777777777778,
             "#fb9f3a"
            ],
            [
             0.8888888888888888,
             "#fdca26"
            ],
            [
             1,
             "#f0f921"
            ]
           ]
          },
          "colorway": [
           "#636efa",
           "#EF553B",
           "#00cc96",
           "#ab63fa",
           "#FFA15A",
           "#19d3f3",
           "#FF6692",
           "#B6E880",
           "#FF97FF",
           "#FECB52"
          ],
          "font": {
           "color": "#2a3f5f"
          },
          "geo": {
           "bgcolor": "white",
           "lakecolor": "white",
           "landcolor": "#E5ECF6",
           "showlakes": true,
           "showland": true,
           "subunitcolor": "white"
          },
          "hoverlabel": {
           "align": "left"
          },
          "hovermode": "closest",
          "mapbox": {
           "style": "light"
          },
          "paper_bgcolor": "white",
          "plot_bgcolor": "#E5ECF6",
          "polar": {
           "angularaxis": {
            "gridcolor": "white",
            "linecolor": "white",
            "ticks": ""
           },
           "bgcolor": "#E5ECF6",
           "radialaxis": {
            "gridcolor": "white",
            "linecolor": "white",
            "ticks": ""
           }
          },
          "scene": {
           "xaxis": {
            "backgroundcolor": "#E5ECF6",
            "gridcolor": "white",
            "gridwidth": 2,
            "linecolor": "white",
            "showbackground": true,
            "ticks": "",
            "zerolinecolor": "white"
           },
           "yaxis": {
            "backgroundcolor": "#E5ECF6",
            "gridcolor": "white",
            "gridwidth": 2,
            "linecolor": "white",
            "showbackground": true,
            "ticks": "",
            "zerolinecolor": "white"
           },
           "zaxis": {
            "backgroundcolor": "#E5ECF6",
            "gridcolor": "white",
            "gridwidth": 2,
            "linecolor": "white",
            "showbackground": true,
            "ticks": "",
            "zerolinecolor": "white"
           }
          },
          "shapedefaults": {
           "line": {
            "color": "#2a3f5f"
           }
          },
          "ternary": {
           "aaxis": {
            "gridcolor": "white",
            "linecolor": "white",
            "ticks": ""
           },
           "baxis": {
            "gridcolor": "white",
            "linecolor": "white",
            "ticks": ""
           },
           "bgcolor": "#E5ECF6",
           "caxis": {
            "gridcolor": "white",
            "linecolor": "white",
            "ticks": ""
           }
          },
          "title": {
           "x": 0.05
          },
          "xaxis": {
           "automargin": true,
           "gridcolor": "white",
           "linecolor": "white",
           "ticks": "",
           "title": {
            "standoff": 15
           },
           "zerolinecolor": "white",
           "zerolinewidth": 2
          },
          "yaxis": {
           "automargin": true,
           "gridcolor": "white",
           "linecolor": "white",
           "ticks": "",
           "title": {
            "standoff": 15
           },
           "zerolinecolor": "white",
           "zerolinewidth": 2
          }
         }
        },
        "title": {
         "text": "Nombre de personnes ayant voyagé à l étranger et ayant souscrit ou non à une assurance voyage"
        },
        "xaxis": {
         "anchor": "y",
         "domain": [
          0,
          1
         ],
         "title": {
          "text": "EverTravelledAbroad"
         }
        },
        "yaxis": {
         "anchor": "x",
         "domain": [
          0,
          1
         ],
         "title": {
          "text": "count"
         }
        }
       }
      }
     },
     "metadata": {},
     "output_type": "display_data"
    }
   ],
   "source": [
    "#Visualisation du nombre de personnes ayant voyagé à l'étranger et ayant souscrit ou non à une assurance voyage\n",
    "\n",
    "px.histogram(tip,\n",
    "             x='EverTravelledAbroad',\n",
    "             color='TravelInsurance',\n",
    "             color_discrete_map={1:'#E1812B', 0:'#377BA6'},\n",
    "             title='Nombre de personnes ayant voyagé à l étranger et ayant souscrit ou non à une assurance voyage',\n",
    "             )"
   ]
  },
  {
   "cell_type": "code",
   "execution_count": 40,
   "metadata": {},
   "outputs": [
    {
     "data": {
      "application/vnd.plotly.v1+json": {
       "config": {
        "plotlyServerURL": "https://plot.ly"
       },
       "data": [
        {
         "alignmentgroup": "True",
         "bingroup": "x",
         "hovertemplate": "TravelInsurance=0<br>FrequentFlyer=%{x}<br>count=%{y}<extra></extra>",
         "legendgroup": "0",
         "marker": {
          "color": "#377BA6",
          "pattern": {
           "shape": ""
          }
         },
         "name": "0",
         "offsetgroup": "0",
         "orientation": "v",
         "showlegend": true,
         "type": "histogram",
         "x": [
          "No",
          "No",
          "No",
          "Yes",
          "No",
          "No",
          "Yes",
          "No",
          "No",
          "No",
          "No",
          "Yes",
          "No",
          "Yes",
          "No",
          "Yes",
          "Yes",
          "No",
          "Yes",
          "No",
          "No",
          "Yes",
          "No",
          "No",
          "No",
          "No",
          "No",
          "No",
          "No",
          "No",
          "No",
          "No",
          "No",
          "No",
          "Yes",
          "Yes",
          "No",
          "No",
          "Yes",
          "No",
          "No",
          "No",
          "Yes",
          "Yes",
          "Yes",
          "No",
          "No",
          "No",
          "No",
          "No",
          "No",
          "No",
          "No",
          "No",
          "No",
          "No",
          "No",
          "No",
          "No",
          "No",
          "No",
          "No",
          "No",
          "No",
          "No",
          "No",
          "No",
          "No",
          "No",
          "No",
          "No",
          "No",
          "No",
          "Yes",
          "No",
          "No",
          "No",
          "No",
          "No",
          "No",
          "No",
          "No",
          "Yes",
          "No",
          "No",
          "No",
          "No",
          "No",
          "Yes",
          "Yes",
          "No",
          "No",
          "No",
          "No",
          "No",
          "No",
          "No",
          "No",
          "No",
          "Yes",
          "Yes",
          "Yes",
          "Yes",
          "No",
          "No",
          "No",
          "No",
          "No",
          "No",
          "No",
          "No",
          "No",
          "No",
          "No",
          "No",
          "No",
          "No",
          "No",
          "Yes",
          "No",
          "Yes",
          "No",
          "No",
          "No",
          "No",
          "No",
          "No",
          "No",
          "No",
          "Yes",
          "No",
          "Yes",
          "No",
          "No",
          "Yes",
          "Yes",
          "No",
          "No",
          "No",
          "No",
          "No",
          "Yes",
          "No",
          "No",
          "No",
          "No",
          "No",
          "Yes",
          "No",
          "No",
          "No",
          "No",
          "Yes",
          "No",
          "No",
          "No",
          "No",
          "No",
          "No",
          "No",
          "No",
          "No",
          "No",
          "No",
          "No",
          "No",
          "No",
          "No",
          "No",
          "No",
          "Yes",
          "No",
          "No",
          "No",
          "Yes",
          "No",
          "No",
          "No",
          "No",
          "No",
          "Yes",
          "No",
          "Yes",
          "No",
          "Yes",
          "No",
          "No",
          "No",
          "No",
          "No",
          "No",
          "Yes",
          "No",
          "No",
          "No",
          "No",
          "No",
          "No",
          "No",
          "No",
          "No",
          "No",
          "No",
          "No",
          "No",
          "No",
          "No",
          "No",
          "No",
          "No",
          "No",
          "No",
          "No",
          "No",
          "No",
          "No",
          "No",
          "No",
          "Yes",
          "No",
          "No",
          "No",
          "No",
          "No",
          "Yes",
          "No",
          "Yes",
          "No",
          "No",
          "Yes",
          "Yes",
          "No",
          "No",
          "No",
          "Yes",
          "No",
          "No",
          "No",
          "No",
          "No",
          "No",
          "No",
          "No",
          "No",
          "No",
          "Yes",
          "No",
          "No",
          "No",
          "No",
          "No",
          "No",
          "No",
          "No",
          "No",
          "No",
          "Yes",
          "No",
          "No",
          "Yes",
          "No",
          "Yes",
          "No",
          "No",
          "No",
          "No",
          "No",
          "No",
          "No",
          "No",
          "No",
          "No",
          "No",
          "No",
          "No",
          "No",
          "No",
          "No",
          "No",
          "No",
          "No",
          "No",
          "No",
          "No",
          "No",
          "No",
          "No",
          "No",
          "No",
          "No",
          "No",
          "No",
          "No",
          "No",
          "No",
          "No",
          "No",
          "No",
          "No",
          "No",
          "No",
          "No",
          "No",
          "No",
          "No",
          "No",
          "Yes",
          "No",
          "No",
          "No",
          "No",
          "No",
          "No",
          "Yes",
          "No",
          "No",
          "No",
          "No",
          "No",
          "No",
          "No",
          "No",
          "No",
          "No",
          "No",
          "No",
          "No",
          "No",
          "No",
          "No",
          "No",
          "No",
          "Yes",
          "No",
          "Yes",
          "No",
          "No",
          "No",
          "No",
          "No",
          "No",
          "No",
          "No",
          "No",
          "Yes",
          "No",
          "No",
          "No",
          "No",
          "Yes",
          "No",
          "No",
          "Yes",
          "No",
          "No",
          "No",
          "No",
          "No",
          "No",
          "No",
          "No",
          "Yes",
          "No",
          "No",
          "No",
          "No",
          "No",
          "No",
          "No",
          "No",
          "No",
          "No",
          "No",
          "No",
          "No",
          "No",
          "No",
          "No",
          "Yes",
          "No",
          "No",
          "No",
          "No",
          "No",
          "No",
          "No",
          "No",
          "No",
          "No",
          "Yes",
          "Yes",
          "No",
          "No",
          "No",
          "No",
          "No",
          "No",
          "No",
          "No",
          "No",
          "No",
          "No",
          "No",
          "No",
          "Yes",
          "No",
          "Yes",
          "No",
          "No",
          "No",
          "Yes",
          "No",
          "No",
          "Yes",
          "No",
          "No",
          "No",
          "No",
          "No",
          "No",
          "Yes",
          "No",
          "No",
          "No",
          "No",
          "No",
          "No",
          "No",
          "No",
          "No",
          "No",
          "No",
          "No",
          "No",
          "No",
          "No",
          "No",
          "No",
          "Yes",
          "No",
          "No",
          "Yes",
          "Yes",
          "No",
          "No",
          "No",
          "No",
          "No",
          "No",
          "No",
          "No",
          "No",
          "No",
          "No",
          "No",
          "No",
          "No",
          "No",
          "Yes",
          "No",
          "No",
          "No",
          "No",
          "Yes",
          "No",
          "No",
          "No",
          "No",
          "No",
          "No",
          "No",
          "No",
          "No",
          "No",
          "No",
          "No",
          "No",
          "Yes",
          "No",
          "No",
          "No",
          "No",
          "No",
          "Yes",
          "No",
          "No",
          "Yes",
          "No",
          "No",
          "Yes",
          "No",
          "No",
          "No",
          "No",
          "No",
          "No",
          "No",
          "No",
          "No",
          "No",
          "No",
          "No",
          "No",
          "No",
          "No",
          "No",
          "No",
          "No",
          "No",
          "Yes",
          "No",
          "No",
          "No",
          "No",
          "No",
          "No",
          "No",
          "No",
          "No",
          "No",
          "Yes",
          "No",
          "No",
          "No",
          "No",
          "No",
          "No",
          "No",
          "No",
          "Yes",
          "No",
          "No",
          "No",
          "No",
          "No",
          "No",
          "Yes",
          "No",
          "No",
          "No",
          "No",
          "No",
          "No",
          "Yes",
          "No",
          "No",
          "No",
          "Yes",
          "Yes",
          "No",
          "No",
          "No",
          "No",
          "No",
          "No",
          "No",
          "Yes",
          "No",
          "No",
          "No",
          "No",
          "Yes",
          "No",
          "No",
          "No",
          "No",
          "Yes",
          "No",
          "No",
          "No",
          "Yes",
          "No",
          "No",
          "No",
          "No",
          "No",
          "Yes",
          "No",
          "No",
          "No",
          "No",
          "No",
          "No",
          "No",
          "No",
          "No",
          "No",
          "No",
          "No",
          "No",
          "No",
          "No",
          "No",
          "No",
          "No",
          "No",
          "Yes",
          "No",
          "Yes",
          "No",
          "No",
          "No",
          "No",
          "Yes",
          "No",
          "No",
          "No",
          "No",
          "Yes",
          "No",
          "No",
          "No",
          "No",
          "No",
          "No",
          "No",
          "No",
          "No",
          "No",
          "No",
          "Yes",
          "No",
          "No",
          "No",
          "No",
          "No",
          "Yes",
          "No",
          "No",
          "No",
          "No",
          "No",
          "No",
          "Yes",
          "No",
          "No",
          "No",
          "No",
          "No",
          "No",
          "No",
          "Yes",
          "No",
          "No",
          "No",
          "No",
          "No",
          "No",
          "No",
          "No",
          "No",
          "No",
          "No",
          "Yes",
          "No",
          "No",
          "No",
          "No",
          "Yes",
          "No",
          "Yes",
          "No",
          "No",
          "No",
          "No",
          "No",
          "No",
          "No",
          "No",
          "No",
          "No",
          "No",
          "No",
          "No",
          "No",
          "No",
          "No",
          "Yes",
          "No",
          "No",
          "No",
          "No",
          "Yes",
          "No",
          "No",
          "No",
          "No",
          "No",
          "No",
          "No",
          "No",
          "No",
          "No",
          "No",
          "No",
          "Yes",
          "Yes",
          "No",
          "No",
          "No",
          "No",
          "No",
          "No",
          "No",
          "No",
          "No",
          "No",
          "No",
          "No",
          "No",
          "No",
          "Yes",
          "No",
          "No",
          "No",
          "No",
          "No",
          "No",
          "No",
          "No",
          "No",
          "No",
          "No",
          "No",
          "No",
          "Yes",
          "No",
          "No",
          "Yes",
          "No",
          "No",
          "Yes",
          "No",
          "Yes",
          "No",
          "No",
          "Yes",
          "No",
          "Yes",
          "No",
          "No",
          "No",
          "No",
          "No",
          "No",
          "Yes",
          "No",
          "No",
          "No",
          "No",
          "No",
          "No",
          "No",
          "No",
          "No",
          "No",
          "No",
          "No",
          "Yes",
          "No",
          "No",
          "Yes",
          "No",
          "No",
          "No",
          "No",
          "No",
          "No",
          "No",
          "No",
          "No",
          "No",
          "No",
          "No",
          "No",
          "No",
          "No",
          "No",
          "No",
          "No",
          "Yes",
          "No",
          "No",
          "No",
          "No",
          "No",
          "No",
          "No",
          "No",
          "No",
          "No",
          "Yes",
          "No",
          "No",
          "No",
          "No",
          "No",
          "No",
          "No",
          "No",
          "No",
          "No",
          "Yes",
          "No",
          "No",
          "No",
          "No",
          "No",
          "No",
          "No",
          "No",
          "No",
          "No",
          "No",
          "No",
          "No",
          "No",
          "No",
          "No",
          "Yes",
          "No",
          "No",
          "No",
          "Yes",
          "No",
          "No",
          "No",
          "No",
          "No",
          "No",
          "No",
          "No",
          "No",
          "No",
          "No",
          "No",
          "No",
          "No",
          "No",
          "No",
          "No",
          "No",
          "No",
          "No",
          "No",
          "Yes",
          "No",
          "No",
          "No",
          "Yes",
          "Yes",
          "No",
          "No",
          "No",
          "Yes",
          "No",
          "No",
          "No",
          "No",
          "No",
          "No",
          "No",
          "No",
          "No",
          "No",
          "Yes",
          "No",
          "No",
          "No",
          "No",
          "Yes",
          "No",
          "Yes",
          "No",
          "Yes",
          "No",
          "No",
          "No",
          "Yes",
          "Yes",
          "No",
          "No",
          "No",
          "No",
          "No",
          "Yes",
          "No",
          "No",
          "No",
          "No",
          "No",
          "Yes",
          "No",
          "No",
          "No",
          "No",
          "No",
          "No",
          "No",
          "No",
          "No",
          "No",
          "No",
          "No",
          "Yes",
          "No",
          "No",
          "No",
          "No",
          "Yes",
          "No",
          "Yes",
          "No",
          "No",
          "No",
          "No",
          "No",
          "No",
          "No",
          "No",
          "No",
          "No",
          "No",
          "No",
          "No",
          "No",
          "No",
          "No",
          "No",
          "No",
          "No",
          "Yes",
          "No",
          "No",
          "No",
          "No",
          "No",
          "No",
          "No",
          "No",
          "No",
          "Yes",
          "No",
          "No",
          "No",
          "No",
          "No",
          "No",
          "No",
          "No",
          "No",
          "No",
          "No",
          "No",
          "No",
          "No",
          "No",
          "No",
          "No",
          "No",
          "No",
          "No",
          "No",
          "No",
          "No",
          "No",
          "No",
          "No",
          "No",
          "No",
          "No",
          "No",
          "No",
          "No",
          "No",
          "No",
          "No",
          "No",
          "No",
          "No",
          "No",
          "No",
          "No",
          "No",
          "No",
          "No",
          "No",
          "No",
          "No",
          "Yes",
          "No",
          "No",
          "No",
          "No",
          "No",
          "No",
          "No",
          "No",
          "No",
          "No",
          "No",
          "Yes",
          "No",
          "No",
          "No",
          "No",
          "No",
          "Yes",
          "Yes",
          "No",
          "No",
          "No",
          "No",
          "Yes",
          "Yes",
          "No",
          "No",
          "No",
          "No",
          "No",
          "No",
          "No",
          "No",
          "No",
          "No",
          "No",
          "No",
          "No",
          "No",
          "Yes",
          "Yes",
          "No",
          "No",
          "No",
          "No",
          "No",
          "No",
          "No",
          "No",
          "Yes",
          "No",
          "No",
          "Yes",
          "No",
          "No",
          "Yes",
          "No",
          "No",
          "No",
          "No",
          "Yes",
          "Yes",
          "No",
          "No",
          "No",
          "No",
          "No",
          "No",
          "No",
          "No",
          "Yes",
          "No",
          "Yes",
          "No",
          "No",
          "No",
          "No",
          "Yes",
          "No",
          "No",
          "No",
          "No",
          "No",
          "Yes",
          "Yes",
          "No",
          "No",
          "No",
          "No",
          "Yes",
          "No",
          "No",
          "No",
          "No",
          "No",
          "No",
          "No",
          "No",
          "No",
          "No",
          "No",
          "No",
          "No",
          "No",
          "No",
          "No",
          "No",
          "No",
          "No",
          "No",
          "Yes",
          "No",
          "No",
          "No",
          "No",
          "No",
          "No",
          "No",
          "No",
          "No",
          "No",
          "Yes",
          "No",
          "No",
          "No",
          "No",
          "No",
          "No",
          "No",
          "Yes",
          "No",
          "No",
          "No",
          "No",
          "No",
          "No",
          "No",
          "Yes",
          "No",
          "Yes",
          "No",
          "Yes",
          "No",
          "No",
          "No",
          "No",
          "Yes",
          "No",
          "No",
          "No",
          "Yes",
          "Yes",
          "Yes",
          "No",
          "No",
          "No",
          "No",
          "No",
          "No",
          "No",
          "No",
          "No",
          "No",
          "No",
          "No",
          "No",
          "No",
          "No",
          "No",
          "No",
          "No",
          "No",
          "No",
          "No",
          "No",
          "No",
          "Yes",
          "No",
          "No",
          "No",
          "Yes",
          "No",
          "No",
          "No",
          "No",
          "No",
          "No",
          "Yes",
          "No",
          "No",
          "No",
          "No",
          "No",
          "No",
          "No",
          "Yes",
          "No",
          "No",
          "No",
          "No",
          "No",
          "No",
          "No",
          "No",
          "No",
          "Yes",
          "No",
          "No",
          "No",
          "Yes",
          "No",
          "No",
          "No",
          "No",
          "No",
          "No",
          "Yes",
          "No",
          "No",
          "No",
          "No",
          "No",
          "No",
          "No",
          "No",
          "No",
          "No",
          "No",
          "No",
          "Yes",
          "No",
          "No",
          "No",
          "No",
          "Yes",
          "Yes",
          "No",
          "No",
          "No",
          "No",
          "No",
          "No",
          "No",
          "No",
          "No",
          "No",
          "No",
          "No",
          "No",
          "No",
          "No",
          "No",
          "No",
          "No",
          "Yes",
          "Yes",
          "Yes",
          "Yes",
          "No",
          "No",
          "Yes",
          "No",
          "No",
          "Yes",
          "No",
          "No",
          "No",
          "No",
          "No",
          "No",
          "No",
          "No",
          "No",
          "No",
          "Yes",
          "No",
          "No",
          "No",
          "No",
          "No",
          "Yes",
          "No",
          "No",
          "No",
          "No",
          "No",
          "No"
         ],
         "xaxis": "x",
         "yaxis": "y"
        },
        {
         "alignmentgroup": "True",
         "bingroup": "x",
         "hovertemplate": "TravelInsurance=1<br>FrequentFlyer=%{x}<br>count=%{y}<extra></extra>",
         "legendgroup": "1",
         "marker": {
          "color": "#E1812B",
          "pattern": {
           "shape": ""
          }
         },
         "name": "1",
         "offsetgroup": "1",
         "orientation": "v",
         "showlegend": true,
         "type": "histogram",
         "x": [
          "No",
          "Yes",
          "Yes",
          "Yes",
          "No",
          "Yes",
          "No",
          "No",
          "Yes",
          "No",
          "No",
          "Yes",
          "No",
          "No",
          "Yes",
          "Yes",
          "Yes",
          "Yes",
          "No",
          "No",
          "No",
          "No",
          "No",
          "No",
          "Yes",
          "Yes",
          "Yes",
          "Yes",
          "Yes",
          "No",
          "No",
          "Yes",
          "Yes",
          "Yes",
          "No",
          "No",
          "Yes",
          "No",
          "No",
          "Yes",
          "No",
          "Yes",
          "No",
          "No",
          "No",
          "No",
          "No",
          "No",
          "No",
          "No",
          "No",
          "No",
          "No",
          "No",
          "Yes",
          "No",
          "No",
          "No",
          "No",
          "No",
          "Yes",
          "No",
          "Yes",
          "No",
          "No",
          "No",
          "Yes",
          "No",
          "No",
          "Yes",
          "No",
          "No",
          "No",
          "No",
          "No",
          "Yes",
          "No",
          "No",
          "Yes",
          "No",
          "Yes",
          "No",
          "No",
          "No",
          "No",
          "Yes",
          "No",
          "No",
          "No",
          "No",
          "No",
          "No",
          "No",
          "No",
          "Yes",
          "No",
          "No",
          "No",
          "No",
          "No",
          "No",
          "No",
          "Yes",
          "No",
          "No",
          "No",
          "No",
          "Yes",
          "No",
          "No",
          "No",
          "No",
          "Yes",
          "No",
          "Yes",
          "No",
          "Yes",
          "No",
          "No",
          "No",
          "Yes",
          "No",
          "No",
          "No",
          "No",
          "Yes",
          "No",
          "No",
          "Yes",
          "Yes",
          "Yes",
          "No",
          "No",
          "No",
          "No",
          "No",
          "No",
          "No",
          "No",
          "No",
          "No",
          "Yes",
          "Yes",
          "No",
          "No",
          "Yes",
          "Yes",
          "No",
          "Yes",
          "Yes",
          "No",
          "No",
          "Yes",
          "No",
          "No",
          "No",
          "No",
          "Yes",
          "No",
          "No",
          "Yes",
          "Yes",
          "No",
          "No",
          "Yes",
          "Yes",
          "Yes",
          "No",
          "No",
          "No",
          "Yes",
          "Yes",
          "No",
          "No",
          "No",
          "Yes",
          "Yes",
          "No",
          "No",
          "Yes",
          "No",
          "No",
          "Yes",
          "Yes",
          "No",
          "Yes",
          "No",
          "No",
          "No",
          "Yes",
          "No",
          "No",
          "No",
          "No",
          "No",
          "No",
          "Yes",
          "No",
          "No",
          "No",
          "No",
          "No",
          "No",
          "No",
          "Yes",
          "No",
          "Yes",
          "Yes",
          "Yes",
          "No",
          "No",
          "Yes",
          "Yes",
          "Yes",
          "Yes",
          "No",
          "No",
          "No",
          "Yes",
          "Yes",
          "Yes",
          "No",
          "No",
          "No",
          "Yes",
          "No",
          "Yes",
          "No",
          "Yes",
          "No",
          "Yes",
          "Yes",
          "Yes",
          "No",
          "No",
          "No",
          "Yes",
          "No",
          "No",
          "Yes",
          "Yes",
          "No",
          "Yes",
          "No",
          "No",
          "No",
          "No",
          "Yes",
          "No",
          "No",
          "No",
          "No",
          "No",
          "No",
          "No",
          "No",
          "No",
          "No",
          "No",
          "No",
          "No",
          "No",
          "Yes",
          "Yes",
          "No",
          "Yes",
          "No",
          "No",
          "Yes",
          "No",
          "No",
          "No",
          "No",
          "No",
          "No",
          "No",
          "Yes",
          "Yes",
          "Yes",
          "No",
          "No",
          "No",
          "No",
          "No",
          "No",
          "No",
          "Yes",
          "Yes",
          "Yes",
          "Yes",
          "No",
          "No",
          "Yes",
          "No",
          "No",
          "No",
          "No",
          "Yes",
          "No",
          "No",
          "No",
          "No",
          "No",
          "No",
          "No",
          "Yes",
          "No",
          "No",
          "No",
          "No",
          "Yes",
          "Yes",
          "No",
          "No",
          "No",
          "Yes",
          "No",
          "Yes",
          "No",
          "Yes",
          "No",
          "Yes",
          "No",
          "No",
          "No",
          "No",
          "Yes",
          "Yes",
          "No",
          "Yes",
          "Yes",
          "No",
          "Yes",
          "Yes",
          "No",
          "Yes",
          "Yes",
          "No",
          "No",
          "Yes",
          "No",
          "Yes",
          "Yes",
          "Yes",
          "Yes",
          "Yes",
          "Yes",
          "No",
          "No",
          "No",
          "Yes",
          "Yes",
          "Yes",
          "No",
          "No",
          "No",
          "No",
          "No",
          "Yes",
          "No",
          "No",
          "No",
          "Yes",
          "No",
          "No",
          "No",
          "No",
          "No",
          "Yes",
          "No",
          "No",
          "Yes",
          "No",
          "No",
          "No",
          "Yes",
          "No",
          "Yes",
          "No",
          "No",
          "Yes",
          "Yes",
          "Yes",
          "Yes",
          "No",
          "Yes",
          "No",
          "No",
          "Yes",
          "No",
          "Yes",
          "Yes",
          "Yes",
          "No",
          "Yes",
          "Yes",
          "Yes",
          "No",
          "No",
          "No",
          "No",
          "No",
          "Yes",
          "Yes",
          "No",
          "No",
          "Yes",
          "No",
          "No",
          "No",
          "No",
          "No",
          "No",
          "No",
          "No",
          "No",
          "No",
          "No",
          "No",
          "Yes",
          "No",
          "No",
          "No",
          "No",
          "Yes",
          "No",
          "Yes",
          "No",
          "Yes",
          "No",
          "Yes",
          "No",
          "Yes",
          "No",
          "Yes",
          "Yes",
          "No",
          "Yes",
          "No",
          "No",
          "No",
          "No",
          "Yes",
          "No",
          "No",
          "No",
          "No",
          "No",
          "No",
          "No",
          "Yes",
          "No",
          "No",
          "No",
          "No",
          "Yes",
          "No",
          "Yes",
          "No",
          "Yes",
          "Yes",
          "Yes",
          "Yes",
          "No",
          "No",
          "No",
          "No",
          "No",
          "No",
          "No",
          "No",
          "No",
          "Yes",
          "No",
          "Yes",
          "No",
          "No",
          "No",
          "No",
          "No",
          "No",
          "Yes",
          "Yes",
          "No",
          "No",
          "Yes",
          "Yes",
          "No",
          "No",
          "No",
          "Yes",
          "Yes",
          "Yes",
          "No",
          "No",
          "No",
          "No",
          "No",
          "No",
          "Yes",
          "Yes",
          "No",
          "No",
          "No",
          "No",
          "No",
          "No",
          "No",
          "Yes",
          "No",
          "No",
          "No",
          "No",
          "No",
          "No",
          "No",
          "No",
          "Yes",
          "No",
          "No",
          "No",
          "No",
          "No",
          "No",
          "No",
          "No",
          "No",
          "No",
          "No",
          "No",
          "No",
          "No",
          "No",
          "Yes",
          "No",
          "Yes",
          "No",
          "No",
          "No",
          "No",
          "No",
          "Yes",
          "No",
          "No",
          "No",
          "No",
          "Yes",
          "Yes",
          "No",
          "No",
          "No",
          "No",
          "No",
          "No",
          "No",
          "No",
          "No",
          "No",
          "Yes",
          "No",
          "Yes",
          "Yes",
          "Yes",
          "No",
          "Yes",
          "No",
          "Yes",
          "No",
          "Yes",
          "Yes",
          "Yes",
          "No",
          "No",
          "Yes",
          "Yes",
          "Yes",
          "Yes",
          "No",
          "No",
          "No",
          "Yes",
          "No",
          "No",
          "No",
          "No",
          "No",
          "No",
          "No",
          "No",
          "No",
          "No",
          "No",
          "No",
          "Yes",
          "No",
          "No",
          "Yes",
          "Yes",
          "Yes",
          "No",
          "Yes",
          "No",
          "No",
          "No",
          "No",
          "No",
          "No",
          "No",
          "No",
          "Yes",
          "No",
          "No",
          "No",
          "Yes",
          "No",
          "No",
          "No",
          "No",
          "Yes",
          "No",
          "Yes",
          "Yes",
          "Yes",
          "Yes",
          "Yes",
          "No",
          "No",
          "No",
          "Yes",
          "No",
          "Yes",
          "No",
          "Yes",
          "No",
          "No",
          "No",
          "No",
          "Yes",
          "No",
          "No",
          "Yes",
          "Yes",
          "Yes",
          "Yes",
          "Yes",
          "No",
          "No",
          "No",
          "Yes",
          "No",
          "Yes",
          "No",
          "No",
          "Yes",
          "Yes",
          "No",
          "Yes",
          "No",
          "No",
          "Yes",
          "Yes",
          "No",
          "No",
          "No",
          "No",
          "No",
          "Yes",
          "Yes",
          "Yes",
          "No",
          "Yes",
          "No",
          "No",
          "No",
          "No",
          "No",
          "No",
          "No",
          "Yes",
          "No",
          "Yes",
          "Yes",
          "Yes",
          "No",
          "No",
          "No",
          "No",
          "Yes",
          "No",
          "Yes",
          "No",
          "Yes",
          "No",
          "Yes",
          "Yes",
          "No",
          "Yes",
          "No",
          "No",
          "No",
          "No",
          "No",
          "No",
          "No",
          "No",
          "No",
          "No",
          "No",
          "Yes",
          "Yes"
         ],
         "xaxis": "x",
         "yaxis": "y"
        }
       ],
       "layout": {
        "barmode": "relative",
        "legend": {
         "title": {
          "text": "TravelInsurance"
         },
         "tracegroupgap": 0
        },
        "template": {
         "data": {
          "bar": [
           {
            "error_x": {
             "color": "#2a3f5f"
            },
            "error_y": {
             "color": "#2a3f5f"
            },
            "marker": {
             "line": {
              "color": "#E5ECF6",
              "width": 0.5
             },
             "pattern": {
              "fillmode": "overlay",
              "size": 10,
              "solidity": 0.2
             }
            },
            "type": "bar"
           }
          ],
          "barpolar": [
           {
            "marker": {
             "line": {
              "color": "#E5ECF6",
              "width": 0.5
             },
             "pattern": {
              "fillmode": "overlay",
              "size": 10,
              "solidity": 0.2
             }
            },
            "type": "barpolar"
           }
          ],
          "carpet": [
           {
            "aaxis": {
             "endlinecolor": "#2a3f5f",
             "gridcolor": "white",
             "linecolor": "white",
             "minorgridcolor": "white",
             "startlinecolor": "#2a3f5f"
            },
            "baxis": {
             "endlinecolor": "#2a3f5f",
             "gridcolor": "white",
             "linecolor": "white",
             "minorgridcolor": "white",
             "startlinecolor": "#2a3f5f"
            },
            "type": "carpet"
           }
          ],
          "choropleth": [
           {
            "colorbar": {
             "outlinewidth": 0,
             "ticks": ""
            },
            "type": "choropleth"
           }
          ],
          "contour": [
           {
            "colorbar": {
             "outlinewidth": 0,
             "ticks": ""
            },
            "colorscale": [
             [
              0,
              "#0d0887"
             ],
             [
              0.1111111111111111,
              "#46039f"
             ],
             [
              0.2222222222222222,
              "#7201a8"
             ],
             [
              0.3333333333333333,
              "#9c179e"
             ],
             [
              0.4444444444444444,
              "#bd3786"
             ],
             [
              0.5555555555555556,
              "#d8576b"
             ],
             [
              0.6666666666666666,
              "#ed7953"
             ],
             [
              0.7777777777777778,
              "#fb9f3a"
             ],
             [
              0.8888888888888888,
              "#fdca26"
             ],
             [
              1,
              "#f0f921"
             ]
            ],
            "type": "contour"
           }
          ],
          "contourcarpet": [
           {
            "colorbar": {
             "outlinewidth": 0,
             "ticks": ""
            },
            "type": "contourcarpet"
           }
          ],
          "heatmap": [
           {
            "colorbar": {
             "outlinewidth": 0,
             "ticks": ""
            },
            "colorscale": [
             [
              0,
              "#0d0887"
             ],
             [
              0.1111111111111111,
              "#46039f"
             ],
             [
              0.2222222222222222,
              "#7201a8"
             ],
             [
              0.3333333333333333,
              "#9c179e"
             ],
             [
              0.4444444444444444,
              "#bd3786"
             ],
             [
              0.5555555555555556,
              "#d8576b"
             ],
             [
              0.6666666666666666,
              "#ed7953"
             ],
             [
              0.7777777777777778,
              "#fb9f3a"
             ],
             [
              0.8888888888888888,
              "#fdca26"
             ],
             [
              1,
              "#f0f921"
             ]
            ],
            "type": "heatmap"
           }
          ],
          "heatmapgl": [
           {
            "colorbar": {
             "outlinewidth": 0,
             "ticks": ""
            },
            "colorscale": [
             [
              0,
              "#0d0887"
             ],
             [
              0.1111111111111111,
              "#46039f"
             ],
             [
              0.2222222222222222,
              "#7201a8"
             ],
             [
              0.3333333333333333,
              "#9c179e"
             ],
             [
              0.4444444444444444,
              "#bd3786"
             ],
             [
              0.5555555555555556,
              "#d8576b"
             ],
             [
              0.6666666666666666,
              "#ed7953"
             ],
             [
              0.7777777777777778,
              "#fb9f3a"
             ],
             [
              0.8888888888888888,
              "#fdca26"
             ],
             [
              1,
              "#f0f921"
             ]
            ],
            "type": "heatmapgl"
           }
          ],
          "histogram": [
           {
            "marker": {
             "pattern": {
              "fillmode": "overlay",
              "size": 10,
              "solidity": 0.2
             }
            },
            "type": "histogram"
           }
          ],
          "histogram2d": [
           {
            "colorbar": {
             "outlinewidth": 0,
             "ticks": ""
            },
            "colorscale": [
             [
              0,
              "#0d0887"
             ],
             [
              0.1111111111111111,
              "#46039f"
             ],
             [
              0.2222222222222222,
              "#7201a8"
             ],
             [
              0.3333333333333333,
              "#9c179e"
             ],
             [
              0.4444444444444444,
              "#bd3786"
             ],
             [
              0.5555555555555556,
              "#d8576b"
             ],
             [
              0.6666666666666666,
              "#ed7953"
             ],
             [
              0.7777777777777778,
              "#fb9f3a"
             ],
             [
              0.8888888888888888,
              "#fdca26"
             ],
             [
              1,
              "#f0f921"
             ]
            ],
            "type": "histogram2d"
           }
          ],
          "histogram2dcontour": [
           {
            "colorbar": {
             "outlinewidth": 0,
             "ticks": ""
            },
            "colorscale": [
             [
              0,
              "#0d0887"
             ],
             [
              0.1111111111111111,
              "#46039f"
             ],
             [
              0.2222222222222222,
              "#7201a8"
             ],
             [
              0.3333333333333333,
              "#9c179e"
             ],
             [
              0.4444444444444444,
              "#bd3786"
             ],
             [
              0.5555555555555556,
              "#d8576b"
             ],
             [
              0.6666666666666666,
              "#ed7953"
             ],
             [
              0.7777777777777778,
              "#fb9f3a"
             ],
             [
              0.8888888888888888,
              "#fdca26"
             ],
             [
              1,
              "#f0f921"
             ]
            ],
            "type": "histogram2dcontour"
           }
          ],
          "mesh3d": [
           {
            "colorbar": {
             "outlinewidth": 0,
             "ticks": ""
            },
            "type": "mesh3d"
           }
          ],
          "parcoords": [
           {
            "line": {
             "colorbar": {
              "outlinewidth": 0,
              "ticks": ""
             }
            },
            "type": "parcoords"
           }
          ],
          "pie": [
           {
            "automargin": true,
            "type": "pie"
           }
          ],
          "scatter": [
           {
            "fillpattern": {
             "fillmode": "overlay",
             "size": 10,
             "solidity": 0.2
            },
            "type": "scatter"
           }
          ],
          "scatter3d": [
           {
            "line": {
             "colorbar": {
              "outlinewidth": 0,
              "ticks": ""
             }
            },
            "marker": {
             "colorbar": {
              "outlinewidth": 0,
              "ticks": ""
             }
            },
            "type": "scatter3d"
           }
          ],
          "scattercarpet": [
           {
            "marker": {
             "colorbar": {
              "outlinewidth": 0,
              "ticks": ""
             }
            },
            "type": "scattercarpet"
           }
          ],
          "scattergeo": [
           {
            "marker": {
             "colorbar": {
              "outlinewidth": 0,
              "ticks": ""
             }
            },
            "type": "scattergeo"
           }
          ],
          "scattergl": [
           {
            "marker": {
             "colorbar": {
              "outlinewidth": 0,
              "ticks": ""
             }
            },
            "type": "scattergl"
           }
          ],
          "scattermapbox": [
           {
            "marker": {
             "colorbar": {
              "outlinewidth": 0,
              "ticks": ""
             }
            },
            "type": "scattermapbox"
           }
          ],
          "scatterpolar": [
           {
            "marker": {
             "colorbar": {
              "outlinewidth": 0,
              "ticks": ""
             }
            },
            "type": "scatterpolar"
           }
          ],
          "scatterpolargl": [
           {
            "marker": {
             "colorbar": {
              "outlinewidth": 0,
              "ticks": ""
             }
            },
            "type": "scatterpolargl"
           }
          ],
          "scatterternary": [
           {
            "marker": {
             "colorbar": {
              "outlinewidth": 0,
              "ticks": ""
             }
            },
            "type": "scatterternary"
           }
          ],
          "surface": [
           {
            "colorbar": {
             "outlinewidth": 0,
             "ticks": ""
            },
            "colorscale": [
             [
              0,
              "#0d0887"
             ],
             [
              0.1111111111111111,
              "#46039f"
             ],
             [
              0.2222222222222222,
              "#7201a8"
             ],
             [
              0.3333333333333333,
              "#9c179e"
             ],
             [
              0.4444444444444444,
              "#bd3786"
             ],
             [
              0.5555555555555556,
              "#d8576b"
             ],
             [
              0.6666666666666666,
              "#ed7953"
             ],
             [
              0.7777777777777778,
              "#fb9f3a"
             ],
             [
              0.8888888888888888,
              "#fdca26"
             ],
             [
              1,
              "#f0f921"
             ]
            ],
            "type": "surface"
           }
          ],
          "table": [
           {
            "cells": {
             "fill": {
              "color": "#EBF0F8"
             },
             "line": {
              "color": "white"
             }
            },
            "header": {
             "fill": {
              "color": "#C8D4E3"
             },
             "line": {
              "color": "white"
             }
            },
            "type": "table"
           }
          ]
         },
         "layout": {
          "annotationdefaults": {
           "arrowcolor": "#2a3f5f",
           "arrowhead": 0,
           "arrowwidth": 1
          },
          "autotypenumbers": "strict",
          "coloraxis": {
           "colorbar": {
            "outlinewidth": 0,
            "ticks": ""
           }
          },
          "colorscale": {
           "diverging": [
            [
             0,
             "#8e0152"
            ],
            [
             0.1,
             "#c51b7d"
            ],
            [
             0.2,
             "#de77ae"
            ],
            [
             0.3,
             "#f1b6da"
            ],
            [
             0.4,
             "#fde0ef"
            ],
            [
             0.5,
             "#f7f7f7"
            ],
            [
             0.6,
             "#e6f5d0"
            ],
            [
             0.7,
             "#b8e186"
            ],
            [
             0.8,
             "#7fbc41"
            ],
            [
             0.9,
             "#4d9221"
            ],
            [
             1,
             "#276419"
            ]
           ],
           "sequential": [
            [
             0,
             "#0d0887"
            ],
            [
             0.1111111111111111,
             "#46039f"
            ],
            [
             0.2222222222222222,
             "#7201a8"
            ],
            [
             0.3333333333333333,
             "#9c179e"
            ],
            [
             0.4444444444444444,
             "#bd3786"
            ],
            [
             0.5555555555555556,
             "#d8576b"
            ],
            [
             0.6666666666666666,
             "#ed7953"
            ],
            [
             0.7777777777777778,
             "#fb9f3a"
            ],
            [
             0.8888888888888888,
             "#fdca26"
            ],
            [
             1,
             "#f0f921"
            ]
           ],
           "sequentialminus": [
            [
             0,
             "#0d0887"
            ],
            [
             0.1111111111111111,
             "#46039f"
            ],
            [
             0.2222222222222222,
             "#7201a8"
            ],
            [
             0.3333333333333333,
             "#9c179e"
            ],
            [
             0.4444444444444444,
             "#bd3786"
            ],
            [
             0.5555555555555556,
             "#d8576b"
            ],
            [
             0.6666666666666666,
             "#ed7953"
            ],
            [
             0.7777777777777778,
             "#fb9f3a"
            ],
            [
             0.8888888888888888,
             "#fdca26"
            ],
            [
             1,
             "#f0f921"
            ]
           ]
          },
          "colorway": [
           "#636efa",
           "#EF553B",
           "#00cc96",
           "#ab63fa",
           "#FFA15A",
           "#19d3f3",
           "#FF6692",
           "#B6E880",
           "#FF97FF",
           "#FECB52"
          ],
          "font": {
           "color": "#2a3f5f"
          },
          "geo": {
           "bgcolor": "white",
           "lakecolor": "white",
           "landcolor": "#E5ECF6",
           "showlakes": true,
           "showland": true,
           "subunitcolor": "white"
          },
          "hoverlabel": {
           "align": "left"
          },
          "hovermode": "closest",
          "mapbox": {
           "style": "light"
          },
          "paper_bgcolor": "white",
          "plot_bgcolor": "#E5ECF6",
          "polar": {
           "angularaxis": {
            "gridcolor": "white",
            "linecolor": "white",
            "ticks": ""
           },
           "bgcolor": "#E5ECF6",
           "radialaxis": {
            "gridcolor": "white",
            "linecolor": "white",
            "ticks": ""
           }
          },
          "scene": {
           "xaxis": {
            "backgroundcolor": "#E5ECF6",
            "gridcolor": "white",
            "gridwidth": 2,
            "linecolor": "white",
            "showbackground": true,
            "ticks": "",
            "zerolinecolor": "white"
           },
           "yaxis": {
            "backgroundcolor": "#E5ECF6",
            "gridcolor": "white",
            "gridwidth": 2,
            "linecolor": "white",
            "showbackground": true,
            "ticks": "",
            "zerolinecolor": "white"
           },
           "zaxis": {
            "backgroundcolor": "#E5ECF6",
            "gridcolor": "white",
            "gridwidth": 2,
            "linecolor": "white",
            "showbackground": true,
            "ticks": "",
            "zerolinecolor": "white"
           }
          },
          "shapedefaults": {
           "line": {
            "color": "#2a3f5f"
           }
          },
          "ternary": {
           "aaxis": {
            "gridcolor": "white",
            "linecolor": "white",
            "ticks": ""
           },
           "baxis": {
            "gridcolor": "white",
            "linecolor": "white",
            "ticks": ""
           },
           "bgcolor": "#E5ECF6",
           "caxis": {
            "gridcolor": "white",
            "linecolor": "white",
            "ticks": ""
           }
          },
          "title": {
           "x": 0.05
          },
          "xaxis": {
           "automargin": true,
           "gridcolor": "white",
           "linecolor": "white",
           "ticks": "",
           "title": {
            "standoff": 15
           },
           "zerolinecolor": "white",
           "zerolinewidth": 2
          },
          "yaxis": {
           "automargin": true,
           "gridcolor": "white",
           "linecolor": "white",
           "ticks": "",
           "title": {
            "standoff": 15
           },
           "zerolinecolor": "white",
           "zerolinewidth": 2
          }
         }
        },
        "title": {
         "text": "Nbre de personnes voyageant fréquemment ou pas et ayant souscrit ou non une assurance voyage"
        },
        "xaxis": {
         "anchor": "y",
         "domain": [
          0,
          1
         ],
         "title": {
          "text": "FrequentFlyer"
         }
        },
        "yaxis": {
         "anchor": "x",
         "domain": [
          0,
          1
         ],
         "title": {
          "text": "count"
         }
        }
       }
      }
     },
     "metadata": {},
     "output_type": "display_data"
    }
   ],
   "source": [
    "#Visualisation du nombre de personnes voyageant fréquemment ou pas et ayant souscrit ou non une assurance voyage\n",
    "\n",
    "px.histogram(tip,\n",
    "             x='FrequentFlyer',\n",
    "             color='TravelInsurance',\n",
    "             color_discrete_map={1:'#E1812B', 0:'#377BA6'},\n",
    "             title='Nbre de personnes voyageant fréquemment ou pas et ayant souscrit ou non une assurance voyage',\n",
    "             )"
   ]
  },
  {
   "cell_type": "code",
   "execution_count": 41,
   "metadata": {},
   "outputs": [
    {
     "data": {
      "application/vnd.plotly.v1+json": {
       "config": {
        "plotlyServerURL": "https://plot.ly"
       },
       "data": [
        {
         "alignmentgroup": "True",
         "bingroup": "x",
         "hovertemplate": "TravelInsurance=0<br>Age=%{x}<br>count=%{y}<extra></extra>",
         "legendgroup": "0",
         "marker": {
          "color": "#377BA6",
          "pattern": {
           "shape": ""
          }
         },
         "name": "0",
         "offsetgroup": "0",
         "orientation": "v",
         "showlegend": true,
         "type": "histogram",
         "x": [
          31,
          31,
          28,
          28,
          25,
          31,
          33,
          31,
          31,
          34,
          28,
          28,
          31,
          31,
          35,
          28,
          26,
          31,
          30,
          31,
          32,
          33,
          31,
          34,
          34,
          33,
          35,
          28,
          31,
          29,
          31,
          28,
          29,
          26,
          31,
          28,
          27,
          26,
          30,
          29,
          31,
          34,
          28,
          28,
          28,
          28,
          34,
          31,
          31,
          26,
          25,
          28,
          32,
          32,
          28,
          34,
          28,
          27,
          28,
          28,
          34,
          28,
          29,
          29,
          29,
          29,
          28,
          28,
          34,
          34,
          31,
          28,
          30,
          29,
          29,
          29,
          31,
          31,
          28,
          32,
          27,
          32,
          32,
          27,
          29,
          28,
          28,
          28,
          28,
          29,
          28,
          28,
          25,
          32,
          26,
          31,
          28,
          31,
          28,
          28,
          25,
          28,
          28,
          28,
          27,
          32,
          28,
          33,
          28,
          31,
          27,
          25,
          28,
          27,
          30,
          28,
          32,
          26,
          28,
          26,
          25,
          25,
          28,
          26,
          27,
          30,
          28,
          34,
          33,
          29,
          28,
          32,
          29,
          31,
          25,
          28,
          27,
          28,
          27,
          33,
          28,
          26,
          31,
          35,
          28,
          28,
          30,
          31,
          31,
          34,
          34,
          34,
          29,
          31,
          28,
          31,
          34,
          30,
          30,
          29,
          26,
          27,
          33,
          26,
          27,
          28,
          31,
          28,
          28,
          28,
          29,
          26,
          35,
          29,
          27,
          31,
          27,
          35,
          28,
          29,
          31,
          32,
          32,
          26,
          26,
          33,
          28,
          29,
          29,
          26,
          32,
          34,
          27,
          29,
          28,
          32,
          27,
          27,
          31,
          34,
          26,
          28,
          34,
          30,
          32,
          28,
          31,
          35,
          28,
          28,
          28,
          31,
          28,
          34,
          28,
          35,
          31,
          32,
          30,
          28,
          29,
          27,
          28,
          28,
          32,
          29,
          34,
          31,
          28,
          31,
          29,
          31,
          34,
          34,
          34,
          25,
          28,
          28,
          34,
          31,
          28,
          31,
          32,
          27,
          29,
          28,
          28,
          28,
          31,
          28,
          29,
          29,
          33,
          34,
          28,
          28,
          29,
          32,
          25,
          28,
          35,
          29,
          34,
          31,
          28,
          32,
          31,
          28,
          28,
          28,
          28,
          28,
          34,
          25,
          34,
          28,
          29,
          25,
          28,
          32,
          28,
          34,
          28,
          28,
          27,
          33,
          28,
          29,
          27,
          28,
          29,
          31,
          28,
          31,
          28,
          35,
          25,
          26,
          26,
          33,
          28,
          26,
          28,
          28,
          26,
          28,
          31,
          29,
          34,
          29,
          32,
          28,
          27,
          33,
          28,
          30,
          29,
          34,
          29,
          34,
          31,
          26,
          29,
          32,
          31,
          31,
          29,
          28,
          28,
          32,
          31,
          31,
          29,
          27,
          27,
          31,
          35,
          28,
          33,
          32,
          26,
          31,
          28,
          25,
          28,
          29,
          28,
          29,
          30,
          28,
          33,
          29,
          27,
          34,
          31,
          26,
          28,
          27,
          28,
          34,
          27,
          33,
          32,
          26,
          33,
          27,
          34,
          29,
          33,
          29,
          28,
          27,
          35,
          27,
          25,
          32,
          28,
          27,
          29,
          34,
          33,
          31,
          28,
          29,
          29,
          28,
          28,
          25,
          28,
          33,
          25,
          34,
          34,
          34,
          32,
          28,
          28,
          31,
          28,
          28,
          31,
          34,
          28,
          27,
          29,
          28,
          32,
          28,
          34,
          31,
          28,
          27,
          28,
          25,
          28,
          34,
          28,
          34,
          28,
          34,
          31,
          27,
          34,
          26,
          28,
          32,
          28,
          28,
          28,
          28,
          27,
          32,
          28,
          31,
          34,
          28,
          28,
          26,
          28,
          28,
          26,
          33,
          26,
          28,
          29,
          27,
          27,
          27,
          29,
          27,
          26,
          28,
          28,
          25,
          28,
          33,
          27,
          33,
          31,
          31,
          27,
          28,
          32,
          32,
          28,
          27,
          27,
          34,
          28,
          34,
          28,
          28,
          28,
          27,
          34,
          27,
          34,
          29,
          25,
          28,
          27,
          28,
          30,
          27,
          28,
          30,
          28,
          29,
          29,
          28,
          27,
          28,
          35,
          33,
          32,
          29,
          28,
          27,
          27,
          28,
          28,
          27,
          29,
          34,
          28,
          30,
          28,
          35,
          31,
          28,
          32,
          27,
          27,
          31,
          28,
          29,
          29,
          29,
          34,
          34,
          28,
          26,
          32,
          28,
          28,
          31,
          31,
          29,
          27,
          29,
          30,
          29,
          26,
          33,
          30,
          29,
          25,
          34,
          28,
          25,
          29,
          28,
          32,
          28,
          26,
          27,
          35,
          29,
          29,
          29,
          29,
          33,
          28,
          28,
          35,
          34,
          32,
          27,
          31,
          32,
          26,
          27,
          28,
          34,
          28,
          29,
          26,
          33,
          28,
          35,
          25,
          27,
          28,
          29,
          28,
          26,
          28,
          29,
          26,
          32,
          28,
          28,
          35,
          29,
          29,
          31,
          33,
          31,
          31,
          33,
          28,
          28,
          28,
          34,
          34,
          34,
          27,
          32,
          28,
          28,
          32,
          33,
          29,
          28,
          31,
          30,
          28,
          28,
          28,
          33,
          28,
          34,
          25,
          29,
          33,
          28,
          35,
          29,
          28,
          29,
          34,
          28,
          27,
          31,
          28,
          33,
          25,
          29,
          31,
          31,
          27,
          28,
          26,
          32,
          30,
          28,
          27,
          27,
          28,
          31,
          28,
          34,
          28,
          27,
          28,
          28,
          29,
          31,
          31,
          27,
          28,
          27,
          29,
          25,
          29,
          28,
          31,
          25,
          27,
          28,
          25,
          25,
          31,
          34,
          29,
          31,
          34,
          28,
          28,
          26,
          31,
          30,
          28,
          33,
          25,
          29,
          33,
          25,
          29,
          31,
          31,
          28,
          27,
          32,
          35,
          31,
          32,
          28,
          29,
          28,
          28,
          33,
          27,
          31,
          28,
          34,
          32,
          27,
          31,
          34,
          28,
          29,
          25,
          29,
          28,
          28,
          31,
          28,
          26,
          29,
          34,
          28,
          28,
          34,
          29,
          34,
          34,
          34,
          29,
          34,
          35,
          33,
          33,
          34,
          28,
          33,
          28,
          31,
          29,
          28,
          29,
          30,
          33,
          28,
          31,
          35,
          28,
          26,
          28,
          33,
          27,
          27,
          31,
          28,
          29,
          28,
          28,
          28,
          34,
          34,
          31,
          29,
          29,
          34,
          34,
          28,
          34,
          31,
          30,
          33,
          34,
          34,
          27,
          26,
          28,
          28,
          29,
          35,
          33,
          31,
          29,
          26,
          34,
          31,
          25,
          34,
          31,
          28,
          33,
          28,
          28,
          28,
          33,
          26,
          31,
          34,
          31,
          31,
          28,
          28,
          28,
          29,
          33,
          31,
          29,
          31,
          31,
          27,
          34,
          28,
          28,
          31,
          28,
          28,
          25,
          26,
          26,
          28,
          28,
          28,
          34,
          28,
          28,
          30,
          28,
          31,
          34,
          31,
          31,
          29,
          34,
          29,
          29,
          28,
          33,
          26,
          28,
          34,
          28,
          28,
          33,
          28,
          28,
          29,
          28,
          28,
          31,
          28,
          28,
          28,
          28,
          31,
          34,
          29,
          25,
          26,
          31,
          34,
          34,
          28,
          28,
          33,
          29,
          28,
          25,
          28,
          28,
          34,
          28,
          29,
          28,
          33,
          28,
          31,
          33,
          30,
          30,
          34,
          28,
          29,
          34,
          31,
          34,
          28,
          28,
          28,
          27,
          34,
          35,
          34,
          27,
          28,
          27,
          32,
          31,
          33,
          30,
          35,
          32,
          28,
          25,
          29,
          28,
          26,
          28,
          33,
          31,
          28,
          28,
          34,
          26,
          35,
          27,
          33,
          28,
          33,
          31,
          28,
          26,
          34,
          31,
          32,
          34,
          31,
          26,
          31,
          28,
          31,
          32,
          29,
          25,
          30,
          27,
          28,
          28,
          31,
          28,
          28,
          31,
          35,
          29,
          32,
          31,
          28,
          33,
          28,
          29,
          28,
          28,
          34,
          28,
          27,
          33,
          28,
          28,
          34,
          32,
          32,
          28,
          25,
          27,
          32,
          28,
          33,
          28,
          28,
          28,
          29,
          34,
          27,
          28,
          27,
          28,
          26,
          26,
          28,
          32,
          34,
          28,
          31,
          27,
          29,
          30,
          28,
          26,
          27,
          28,
          26,
          31,
          34,
          28,
          28,
          32,
          29,
          30,
          27,
          28,
          28,
          28,
          31,
          32,
          32,
          34,
          28,
          28,
          31,
          30,
          28,
          29,
          27,
          28,
          25,
          33,
          28,
          30,
          28,
          27,
          28,
          28,
          31,
          28,
          28,
          28,
          31,
          30,
          28,
          26,
          34,
          31,
          31,
          32,
          27,
          28,
          28,
          28,
          29,
          26,
          33,
          27,
          33,
          28,
          30,
          28,
          28,
          25,
          27,
          31,
          26,
          29,
          34,
          33,
          32,
          25,
          34,
          31,
          28,
          26,
          28,
          31,
          28,
          25,
          34,
          28,
          28,
          28,
          26,
          28,
          35,
          29,
          28,
          28,
          28,
          25,
          31,
          28,
          29,
          28,
          34,
          28,
          28,
          31,
          29,
          30,
          28,
          28,
          28,
          31,
          31,
          27,
          29,
          31,
          35,
          28,
          29,
          29,
          28,
          31,
          27,
          31,
          26,
          28,
          33,
          35,
          28,
          28,
          28,
          27,
          28,
          31,
          29,
          32,
          28,
          28,
          26,
          31,
          31,
          29,
          31,
          34,
          34,
          27,
          29,
          29,
          26,
          28,
          28,
          28,
          34,
          31,
          28,
          33,
          28,
          28,
          26,
          34,
          25,
          26,
          25,
          30,
          28,
          29,
          32,
          26,
          28,
          29,
          34,
          28,
          28,
          32,
          29,
          34,
          28,
          31,
          29,
          34,
          25,
          31,
          34,
          26,
          28,
          28,
          28,
          27,
          28,
          28,
          25,
          29,
          31,
          28,
          29,
          26,
          28,
          28,
          27,
          29,
          28,
          34,
          26,
          28,
          35,
          28,
          29,
          29,
          28,
          31,
          29,
          29,
          31,
          31,
          33,
          34,
          28,
          32,
          28,
          32,
          34,
          28,
          27,
          28,
          32,
          31,
          28,
          28,
          28,
          34,
          26,
          27,
          32,
          28,
          34,
          28,
          34,
          28,
          29,
          34,
          29,
          28,
          27,
          27,
          35,
          32,
          31,
          26,
          31,
          28,
          28,
          32,
          28,
          26,
          25,
          31,
          27,
          28,
          33,
          28,
          25,
          28,
          28,
          28,
          34,
          33,
          30,
          28,
          28,
          28,
          32,
          31,
          34,
          26,
          33,
          33,
          31,
          34,
          35,
          28,
          25,
          33,
          34,
          34,
          27,
          25,
          28,
          29,
          32,
          28,
          27,
          30,
          33,
          31,
          31,
          28,
          26,
          25,
          28,
          34,
          34,
          28,
          31,
          31,
          28,
          28,
          32,
          28,
          25,
          28,
          28,
          34
         ],
         "xaxis": "x",
         "yaxis": "y"
        },
        {
         "alignmentgroup": "True",
         "bingroup": "x",
         "hovertemplate": "TravelInsurance=1<br>Age=%{x}<br>count=%{y}<extra></extra>",
         "legendgroup": "1",
         "marker": {
          "color": "#E1812B",
          "pattern": {
           "shape": ""
          }
         },
         "name": "1",
         "offsetgroup": "1",
         "orientation": "v",
         "showlegend": true,
         "type": "histogram",
         "x": [
          34,
          31,
          28,
          26,
          32,
          31,
          28,
          29,
          34,
          29,
          28,
          34,
          25,
          28,
          33,
          25,
          26,
          28,
          25,
          34,
          25,
          31,
          28,
          34,
          33,
          33,
          32,
          30,
          34,
          29,
          31,
          34,
          25,
          33,
          26,
          28,
          33,
          26,
          26,
          25,
          28,
          31,
          26,
          29,
          31,
          25,
          28,
          29,
          35,
          30,
          25,
          28,
          29,
          34,
          31,
          31,
          34,
          34,
          31,
          26,
          34,
          34,
          35,
          28,
          28,
          26,
          25,
          34,
          25,
          30,
          27,
          31,
          28,
          25,
          29,
          26,
          34,
          34,
          26,
          35,
          27,
          34,
          34,
          29,
          28,
          34,
          34,
          33,
          33,
          26,
          28,
          33,
          34,
          34,
          34,
          32,
          26,
          32,
          26,
          28,
          31,
          35,
          25,
          32,
          34,
          33,
          33,
          34,
          25,
          26,
          32,
          34,
          25,
          33,
          34,
          33,
          31,
          29,
          28,
          28,
          25,
          31,
          25,
          28,
          29,
          25,
          35,
          31,
          27,
          25,
          27,
          31,
          28,
          31,
          33,
          28,
          31,
          28,
          33,
          33,
          28,
          25,
          25,
          33,
          31,
          31,
          34,
          25,
          29,
          25,
          26,
          34,
          34,
          34,
          34,
          25,
          28,
          33,
          31,
          34,
          26,
          34,
          25,
          35,
          34,
          26,
          25,
          25,
          34,
          33,
          34,
          34,
          33,
          34,
          28,
          28,
          26,
          28,
          28,
          28,
          28,
          31,
          29,
          25,
          35,
          31,
          27,
          31,
          29,
          26,
          26,
          25,
          29,
          26,
          33,
          35,
          29,
          31,
          27,
          29,
          34,
          29,
          35,
          26,
          25,
          31,
          35,
          34,
          34,
          33,
          28,
          28,
          28,
          30,
          31,
          35,
          33,
          25,
          26,
          34,
          26,
          33,
          33,
          28,
          30,
          32,
          34,
          30,
          25,
          29,
          26,
          34,
          33,
          34,
          25,
          33,
          28,
          29,
          33,
          33,
          26,
          34,
          28,
          28,
          29,
          33,
          30,
          25,
          34,
          31,
          34,
          28,
          33,
          34,
          34,
          34,
          34,
          34,
          28,
          28,
          33,
          34,
          26,
          34,
          29,
          25,
          25,
          27,
          31,
          28,
          32,
          35,
          28,
          34,
          31,
          30,
          27,
          34,
          30,
          27,
          28,
          34,
          29,
          32,
          34,
          34,
          34,
          31,
          33,
          28,
          26,
          28,
          34,
          29,
          28,
          34,
          28,
          30,
          31,
          31,
          33,
          32,
          26,
          29,
          28,
          35,
          31,
          33,
          30,
          28,
          25,
          29,
          34,
          26,
          26,
          31,
          31,
          26,
          33,
          26,
          34,
          33,
          26,
          26,
          34,
          27,
          27,
          28,
          31,
          25,
          25,
          29,
          34,
          28,
          34,
          25,
          28,
          26,
          33,
          25,
          34,
          26,
          26,
          30,
          34,
          35,
          25,
          25,
          33,
          33,
          29,
          30,
          31,
          26,
          34,
          26,
          34,
          26,
          34,
          35,
          26,
          26,
          27,
          28,
          25,
          32,
          31,
          32,
          25,
          29,
          30,
          32,
          25,
          31,
          34,
          25,
          29,
          34,
          27,
          31,
          26,
          34,
          31,
          26,
          34,
          30,
          35,
          27,
          26,
          26,
          35,
          25,
          28,
          34,
          34,
          25,
          26,
          34,
          35,
          31,
          28,
          27,
          26,
          25,
          28,
          34,
          28,
          28,
          28,
          28,
          34,
          31,
          28,
          25,
          28,
          32,
          28,
          33,
          31,
          25,
          26,
          31,
          28,
          29,
          34,
          30,
          25,
          25,
          25,
          27,
          34,
          33,
          34,
          33,
          31,
          34,
          34,
          34,
          33,
          33,
          26,
          28,
          25,
          34,
          28,
          34,
          33,
          33,
          27,
          33,
          31,
          33,
          25,
          33,
          31,
          34,
          30,
          29,
          25,
          31,
          31,
          34,
          35,
          27,
          28,
          34,
          29,
          33,
          28,
          28,
          31,
          31,
          25,
          31,
          31,
          34,
          33,
          30,
          33,
          31,
          25,
          28,
          34,
          28,
          25,
          26,
          25,
          26,
          33,
          26,
          30,
          26,
          32,
          26,
          28,
          27,
          29,
          28,
          33,
          28,
          26,
          28,
          25,
          28,
          25,
          30,
          25,
          27,
          31,
          28,
          34,
          33,
          28,
          29,
          26,
          31,
          30,
          31,
          25,
          34,
          32,
          25,
          25,
          28,
          31,
          34,
          30,
          33,
          29,
          29,
          34,
          31,
          33,
          25,
          25,
          34,
          35,
          33,
          25,
          34,
          29,
          26,
          25,
          29,
          33,
          25,
          25,
          28,
          34,
          26,
          31,
          28,
          29,
          30,
          31,
          31,
          33,
          33,
          33,
          29,
          33,
          34,
          34,
          28,
          28,
          26,
          30,
          29,
          34,
          33,
          34,
          28,
          33,
          25,
          28,
          25,
          25,
          25,
          28,
          29,
          26,
          26,
          31,
          34,
          27,
          34,
          33,
          25,
          28,
          29,
          31,
          35,
          29,
          25,
          28,
          28,
          25,
          34,
          34,
          26,
          25,
          29,
          34,
          26,
          34,
          29,
          28,
          33,
          27,
          31,
          26,
          35,
          26,
          31,
          28,
          26,
          31,
          28,
          34,
          34,
          25,
          30,
          34,
          28,
          34,
          35,
          33,
          35,
          33,
          33,
          30,
          29,
          34,
          34,
          35,
          26,
          33,
          25,
          29,
          34,
          34,
          34,
          28,
          25,
          26,
          33,
          26,
          29,
          28,
          33,
          29,
          25,
          25,
          25,
          32,
          31,
          25,
          28,
          28,
          34,
          27,
          30,
          31,
          26,
          35,
          25,
          31,
          25,
          34,
          26,
          34,
          28,
          27,
          34,
          31,
          28,
          28,
          31,
          35,
          33,
          28,
          28,
          27,
          34,
          33,
          25,
          34,
          34,
          28,
          33,
          27,
          34,
          28,
          32,
          35,
          34,
          31,
          34,
          32,
          28,
          33,
          30,
          29,
          31,
          26,
          25,
          34,
          27,
          33,
          34
         ],
         "xaxis": "x",
         "yaxis": "y"
        }
       ],
       "layout": {
        "barmode": "relative",
        "height": 1000,
        "legend": {
         "title": {
          "text": "TravelInsurance"
         },
         "tracegroupgap": 0
        },
        "template": {
         "data": {
          "bar": [
           {
            "error_x": {
             "color": "#2a3f5f"
            },
            "error_y": {
             "color": "#2a3f5f"
            },
            "marker": {
             "line": {
              "color": "#E5ECF6",
              "width": 0.5
             },
             "pattern": {
              "fillmode": "overlay",
              "size": 10,
              "solidity": 0.2
             }
            },
            "type": "bar"
           }
          ],
          "barpolar": [
           {
            "marker": {
             "line": {
              "color": "#E5ECF6",
              "width": 0.5
             },
             "pattern": {
              "fillmode": "overlay",
              "size": 10,
              "solidity": 0.2
             }
            },
            "type": "barpolar"
           }
          ],
          "carpet": [
           {
            "aaxis": {
             "endlinecolor": "#2a3f5f",
             "gridcolor": "white",
             "linecolor": "white",
             "minorgridcolor": "white",
             "startlinecolor": "#2a3f5f"
            },
            "baxis": {
             "endlinecolor": "#2a3f5f",
             "gridcolor": "white",
             "linecolor": "white",
             "minorgridcolor": "white",
             "startlinecolor": "#2a3f5f"
            },
            "type": "carpet"
           }
          ],
          "choropleth": [
           {
            "colorbar": {
             "outlinewidth": 0,
             "ticks": ""
            },
            "type": "choropleth"
           }
          ],
          "contour": [
           {
            "colorbar": {
             "outlinewidth": 0,
             "ticks": ""
            },
            "colorscale": [
             [
              0,
              "#0d0887"
             ],
             [
              0.1111111111111111,
              "#46039f"
             ],
             [
              0.2222222222222222,
              "#7201a8"
             ],
             [
              0.3333333333333333,
              "#9c179e"
             ],
             [
              0.4444444444444444,
              "#bd3786"
             ],
             [
              0.5555555555555556,
              "#d8576b"
             ],
             [
              0.6666666666666666,
              "#ed7953"
             ],
             [
              0.7777777777777778,
              "#fb9f3a"
             ],
             [
              0.8888888888888888,
              "#fdca26"
             ],
             [
              1,
              "#f0f921"
             ]
            ],
            "type": "contour"
           }
          ],
          "contourcarpet": [
           {
            "colorbar": {
             "outlinewidth": 0,
             "ticks": ""
            },
            "type": "contourcarpet"
           }
          ],
          "heatmap": [
           {
            "colorbar": {
             "outlinewidth": 0,
             "ticks": ""
            },
            "colorscale": [
             [
              0,
              "#0d0887"
             ],
             [
              0.1111111111111111,
              "#46039f"
             ],
             [
              0.2222222222222222,
              "#7201a8"
             ],
             [
              0.3333333333333333,
              "#9c179e"
             ],
             [
              0.4444444444444444,
              "#bd3786"
             ],
             [
              0.5555555555555556,
              "#d8576b"
             ],
             [
              0.6666666666666666,
              "#ed7953"
             ],
             [
              0.7777777777777778,
              "#fb9f3a"
             ],
             [
              0.8888888888888888,
              "#fdca26"
             ],
             [
              1,
              "#f0f921"
             ]
            ],
            "type": "heatmap"
           }
          ],
          "heatmapgl": [
           {
            "colorbar": {
             "outlinewidth": 0,
             "ticks": ""
            },
            "colorscale": [
             [
              0,
              "#0d0887"
             ],
             [
              0.1111111111111111,
              "#46039f"
             ],
             [
              0.2222222222222222,
              "#7201a8"
             ],
             [
              0.3333333333333333,
              "#9c179e"
             ],
             [
              0.4444444444444444,
              "#bd3786"
             ],
             [
              0.5555555555555556,
              "#d8576b"
             ],
             [
              0.6666666666666666,
              "#ed7953"
             ],
             [
              0.7777777777777778,
              "#fb9f3a"
             ],
             [
              0.8888888888888888,
              "#fdca26"
             ],
             [
              1,
              "#f0f921"
             ]
            ],
            "type": "heatmapgl"
           }
          ],
          "histogram": [
           {
            "marker": {
             "pattern": {
              "fillmode": "overlay",
              "size": 10,
              "solidity": 0.2
             }
            },
            "type": "histogram"
           }
          ],
          "histogram2d": [
           {
            "colorbar": {
             "outlinewidth": 0,
             "ticks": ""
            },
            "colorscale": [
             [
              0,
              "#0d0887"
             ],
             [
              0.1111111111111111,
              "#46039f"
             ],
             [
              0.2222222222222222,
              "#7201a8"
             ],
             [
              0.3333333333333333,
              "#9c179e"
             ],
             [
              0.4444444444444444,
              "#bd3786"
             ],
             [
              0.5555555555555556,
              "#d8576b"
             ],
             [
              0.6666666666666666,
              "#ed7953"
             ],
             [
              0.7777777777777778,
              "#fb9f3a"
             ],
             [
              0.8888888888888888,
              "#fdca26"
             ],
             [
              1,
              "#f0f921"
             ]
            ],
            "type": "histogram2d"
           }
          ],
          "histogram2dcontour": [
           {
            "colorbar": {
             "outlinewidth": 0,
             "ticks": ""
            },
            "colorscale": [
             [
              0,
              "#0d0887"
             ],
             [
              0.1111111111111111,
              "#46039f"
             ],
             [
              0.2222222222222222,
              "#7201a8"
             ],
             [
              0.3333333333333333,
              "#9c179e"
             ],
             [
              0.4444444444444444,
              "#bd3786"
             ],
             [
              0.5555555555555556,
              "#d8576b"
             ],
             [
              0.6666666666666666,
              "#ed7953"
             ],
             [
              0.7777777777777778,
              "#fb9f3a"
             ],
             [
              0.8888888888888888,
              "#fdca26"
             ],
             [
              1,
              "#f0f921"
             ]
            ],
            "type": "histogram2dcontour"
           }
          ],
          "mesh3d": [
           {
            "colorbar": {
             "outlinewidth": 0,
             "ticks": ""
            },
            "type": "mesh3d"
           }
          ],
          "parcoords": [
           {
            "line": {
             "colorbar": {
              "outlinewidth": 0,
              "ticks": ""
             }
            },
            "type": "parcoords"
           }
          ],
          "pie": [
           {
            "automargin": true,
            "type": "pie"
           }
          ],
          "scatter": [
           {
            "fillpattern": {
             "fillmode": "overlay",
             "size": 10,
             "solidity": 0.2
            },
            "type": "scatter"
           }
          ],
          "scatter3d": [
           {
            "line": {
             "colorbar": {
              "outlinewidth": 0,
              "ticks": ""
             }
            },
            "marker": {
             "colorbar": {
              "outlinewidth": 0,
              "ticks": ""
             }
            },
            "type": "scatter3d"
           }
          ],
          "scattercarpet": [
           {
            "marker": {
             "colorbar": {
              "outlinewidth": 0,
              "ticks": ""
             }
            },
            "type": "scattercarpet"
           }
          ],
          "scattergeo": [
           {
            "marker": {
             "colorbar": {
              "outlinewidth": 0,
              "ticks": ""
             }
            },
            "type": "scattergeo"
           }
          ],
          "scattergl": [
           {
            "marker": {
             "colorbar": {
              "outlinewidth": 0,
              "ticks": ""
             }
            },
            "type": "scattergl"
           }
          ],
          "scattermapbox": [
           {
            "marker": {
             "colorbar": {
              "outlinewidth": 0,
              "ticks": ""
             }
            },
            "type": "scattermapbox"
           }
          ],
          "scatterpolar": [
           {
            "marker": {
             "colorbar": {
              "outlinewidth": 0,
              "ticks": ""
             }
            },
            "type": "scatterpolar"
           }
          ],
          "scatterpolargl": [
           {
            "marker": {
             "colorbar": {
              "outlinewidth": 0,
              "ticks": ""
             }
            },
            "type": "scatterpolargl"
           }
          ],
          "scatterternary": [
           {
            "marker": {
             "colorbar": {
              "outlinewidth": 0,
              "ticks": ""
             }
            },
            "type": "scatterternary"
           }
          ],
          "surface": [
           {
            "colorbar": {
             "outlinewidth": 0,
             "ticks": ""
            },
            "colorscale": [
             [
              0,
              "#0d0887"
             ],
             [
              0.1111111111111111,
              "#46039f"
             ],
             [
              0.2222222222222222,
              "#7201a8"
             ],
             [
              0.3333333333333333,
              "#9c179e"
             ],
             [
              0.4444444444444444,
              "#bd3786"
             ],
             [
              0.5555555555555556,
              "#d8576b"
             ],
             [
              0.6666666666666666,
              "#ed7953"
             ],
             [
              0.7777777777777778,
              "#fb9f3a"
             ],
             [
              0.8888888888888888,
              "#fdca26"
             ],
             [
              1,
              "#f0f921"
             ]
            ],
            "type": "surface"
           }
          ],
          "table": [
           {
            "cells": {
             "fill": {
              "color": "#EBF0F8"
             },
             "line": {
              "color": "white"
             }
            },
            "header": {
             "fill": {
              "color": "#C8D4E3"
             },
             "line": {
              "color": "white"
             }
            },
            "type": "table"
           }
          ]
         },
         "layout": {
          "annotationdefaults": {
           "arrowcolor": "#2a3f5f",
           "arrowhead": 0,
           "arrowwidth": 1
          },
          "autotypenumbers": "strict",
          "coloraxis": {
           "colorbar": {
            "outlinewidth": 0,
            "ticks": ""
           }
          },
          "colorscale": {
           "diverging": [
            [
             0,
             "#8e0152"
            ],
            [
             0.1,
             "#c51b7d"
            ],
            [
             0.2,
             "#de77ae"
            ],
            [
             0.3,
             "#f1b6da"
            ],
            [
             0.4,
             "#fde0ef"
            ],
            [
             0.5,
             "#f7f7f7"
            ],
            [
             0.6,
             "#e6f5d0"
            ],
            [
             0.7,
             "#b8e186"
            ],
            [
             0.8,
             "#7fbc41"
            ],
            [
             0.9,
             "#4d9221"
            ],
            [
             1,
             "#276419"
            ]
           ],
           "sequential": [
            [
             0,
             "#0d0887"
            ],
            [
             0.1111111111111111,
             "#46039f"
            ],
            [
             0.2222222222222222,
             "#7201a8"
            ],
            [
             0.3333333333333333,
             "#9c179e"
            ],
            [
             0.4444444444444444,
             "#bd3786"
            ],
            [
             0.5555555555555556,
             "#d8576b"
            ],
            [
             0.6666666666666666,
             "#ed7953"
            ],
            [
             0.7777777777777778,
             "#fb9f3a"
            ],
            [
             0.8888888888888888,
             "#fdca26"
            ],
            [
             1,
             "#f0f921"
            ]
           ],
           "sequentialminus": [
            [
             0,
             "#0d0887"
            ],
            [
             0.1111111111111111,
             "#46039f"
            ],
            [
             0.2222222222222222,
             "#7201a8"
            ],
            [
             0.3333333333333333,
             "#9c179e"
            ],
            [
             0.4444444444444444,
             "#bd3786"
            ],
            [
             0.5555555555555556,
             "#d8576b"
            ],
            [
             0.6666666666666666,
             "#ed7953"
            ],
            [
             0.7777777777777778,
             "#fb9f3a"
            ],
            [
             0.8888888888888888,
             "#fdca26"
            ],
            [
             1,
             "#f0f921"
            ]
           ]
          },
          "colorway": [
           "#636efa",
           "#EF553B",
           "#00cc96",
           "#ab63fa",
           "#FFA15A",
           "#19d3f3",
           "#FF6692",
           "#B6E880",
           "#FF97FF",
           "#FECB52"
          ],
          "font": {
           "color": "#2a3f5f"
          },
          "geo": {
           "bgcolor": "white",
           "lakecolor": "white",
           "landcolor": "#E5ECF6",
           "showlakes": true,
           "showland": true,
           "subunitcolor": "white"
          },
          "hoverlabel": {
           "align": "left"
          },
          "hovermode": "closest",
          "mapbox": {
           "style": "light"
          },
          "paper_bgcolor": "white",
          "plot_bgcolor": "#E5ECF6",
          "polar": {
           "angularaxis": {
            "gridcolor": "white",
            "linecolor": "white",
            "ticks": ""
           },
           "bgcolor": "#E5ECF6",
           "radialaxis": {
            "gridcolor": "white",
            "linecolor": "white",
            "ticks": ""
           }
          },
          "scene": {
           "xaxis": {
            "backgroundcolor": "#E5ECF6",
            "gridcolor": "white",
            "gridwidth": 2,
            "linecolor": "white",
            "showbackground": true,
            "ticks": "",
            "zerolinecolor": "white"
           },
           "yaxis": {
            "backgroundcolor": "#E5ECF6",
            "gridcolor": "white",
            "gridwidth": 2,
            "linecolor": "white",
            "showbackground": true,
            "ticks": "",
            "zerolinecolor": "white"
           },
           "zaxis": {
            "backgroundcolor": "#E5ECF6",
            "gridcolor": "white",
            "gridwidth": 2,
            "linecolor": "white",
            "showbackground": true,
            "ticks": "",
            "zerolinecolor": "white"
           }
          },
          "shapedefaults": {
           "line": {
            "color": "#2a3f5f"
           }
          },
          "ternary": {
           "aaxis": {
            "gridcolor": "white",
            "linecolor": "white",
            "ticks": ""
           },
           "baxis": {
            "gridcolor": "white",
            "linecolor": "white",
            "ticks": ""
           },
           "bgcolor": "#E5ECF6",
           "caxis": {
            "gridcolor": "white",
            "linecolor": "white",
            "ticks": ""
           }
          },
          "title": {
           "x": 0.05
          },
          "xaxis": {
           "automargin": true,
           "gridcolor": "white",
           "linecolor": "white",
           "ticks": "",
           "title": {
            "standoff": 15
           },
           "zerolinecolor": "white",
           "zerolinewidth": 2
          },
          "yaxis": {
           "automargin": true,
           "gridcolor": "white",
           "linecolor": "white",
           "ticks": "",
           "title": {
            "standoff": 15
           },
           "zerolinecolor": "white",
           "zerolinewidth": 2
          }
         }
        },
        "title": {
         "text": "Souscription d une assurance voyage en fonction de l âge des personnes"
        },
        "width": 1000,
        "xaxis": {
         "anchor": "y",
         "domain": [
          0,
          1
         ],
         "title": {
          "text": "Age"
         }
        },
        "yaxis": {
         "anchor": "x",
         "domain": [
          0,
          1
         ],
         "title": {
          "text": "count"
         }
        }
       }
      }
     },
     "metadata": {},
     "output_type": "display_data"
    }
   ],
   "source": [
    "#Visualisation de la souscription d'une assurance voyage en fonction de l'âge des personnes#\n",
    "\n",
    "px.histogram(tip,\n",
    "             x='Age',\n",
    "             color='TravelInsurance',\n",
    "             color_discrete_map={1:'#E1812B', 0:'#377BA6'},\n",
    "             title='Souscription d une assurance voyage en fonction de l âge des personnes',\n",
    "             width=1000,\n",
    "             height=1000,\n",
    "             )"
   ]
  },
  {
   "cell_type": "code",
   "execution_count": null,
   "metadata": {},
   "outputs": [],
   "source": []
  }
 ],
 "metadata": {
  "kernelspec": {
   "display_name": "base",
   "language": "python",
   "name": "python3"
  },
  "language_info": {
   "codemirror_mode": {
    "name": "ipython",
    "version": 3
   },
   "file_extension": ".py",
   "mimetype": "text/x-python",
   "name": "python",
   "nbconvert_exporter": "python",
   "pygments_lexer": "ipython3",
   "version": "3.11.7"
  }
 },
 "nbformat": 4,
 "nbformat_minor": 2
}
